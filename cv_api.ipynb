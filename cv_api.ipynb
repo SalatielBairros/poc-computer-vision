{
 "cells": [
  {
   "cell_type": "markdown",
   "id": "a6d77052",
   "metadata": {},
   "source": [
    "# Reconhecimento de imagens: Twitter e computer Vision API\n",
    "\n",
    "Baseado no curso da Alura disponível [aqui](https://cursos.alura.com.br/course/reconhecimento-imagens/)."
   ]
  },
  {
   "cell_type": "markdown",
   "id": "1a46e7e8",
   "metadata": {},
   "source": [
    "## Configurando o ambiente"
   ]
  },
  {
   "cell_type": "code",
   "execution_count": 25,
   "id": "94259427",
   "metadata": {},
   "outputs": [
    {
     "name": "stdout",
     "output_type": "stream",
     "text": [
      "Requirement already satisfied: tweepy in c:\\programdata\\anaconda3\\lib\\site-packages (4.1.0)\n",
      "Requirement already satisfied: requests-oauthlib<2,>=1.0.0 in c:\\programdata\\anaconda3\\lib\\site-packages (from tweepy) (1.3.0)\n",
      "Requirement already satisfied: requests<3,>=2.11.1 in c:\\programdata\\anaconda3\\lib\\site-packages (from tweepy) (2.25.1)\n",
      "Requirement already satisfied: certifi>=2017.4.17 in c:\\programdata\\anaconda3\\lib\\site-packages (from requests<3,>=2.11.1->tweepy) (2020.12.5)\n",
      "Requirement already satisfied: chardet<5,>=3.0.2 in c:\\programdata\\anaconda3\\lib\\site-packages (from requests<3,>=2.11.1->tweepy) (4.0.0)\n",
      "Requirement already satisfied: idna<3,>=2.5 in c:\\programdata\\anaconda3\\lib\\site-packages (from requests<3,>=2.11.1->tweepy) (2.10)\n",
      "Requirement already satisfied: urllib3<1.27,>=1.21.1 in c:\\programdata\\anaconda3\\lib\\site-packages (from requests<3,>=2.11.1->tweepy) (1.26.4)\n",
      "Requirement already satisfied: oauthlib>=3.0.0 in c:\\programdata\\anaconda3\\lib\\site-packages (from requests-oauthlib<2,>=1.0.0->tweepy) (3.1.1)\n"
     ]
    },
    {
     "name": "stderr",
     "output_type": "stream",
     "text": [
      "WARNING: Ignoring invalid distribution -ltk (c:\\programdata\\anaconda3\\lib\\site-packages)\n",
      "WARNING: Ignoring invalid distribution -ltk (c:\\programdata\\anaconda3\\lib\\site-packages)\n"
     ]
    },
    {
     "name": "stdout",
     "output_type": "stream",
     "text": [
      "Collecting azure-cognitiveservices-vision-computervision\n",
      "  Downloading azure_cognitiveservices_vision_computervision-0.9.0-py2.py3-none-any.whl (39 kB)\n",
      "Collecting msrest>=0.5.0\n",
      "  Downloading msrest-0.6.21-py2.py3-none-any.whl (85 kB)\n",
      "Collecting azure-common~=1.1\n",
      "  Downloading azure_common-1.1.27-py2.py3-none-any.whl (12 kB)\n",
      "Requirement already satisfied: requests-oauthlib>=0.5.0 in c:\\programdata\\anaconda3\\lib\\site-packages (from msrest>=0.5.0->azure-cognitiveservices-vision-computervision) (1.3.0)\n",
      "Collecting isodate>=0.6.0\n",
      "  Downloading isodate-0.6.0-py2.py3-none-any.whl (45 kB)\n",
      "Requirement already satisfied: requests~=2.16 in c:\\programdata\\anaconda3\\lib\\site-packages (from msrest>=0.5.0->azure-cognitiveservices-vision-computervision) (2.25.1)\n",
      "Requirement already satisfied: certifi>=2017.4.17 in c:\\programdata\\anaconda3\\lib\\site-packages (from msrest>=0.5.0->azure-cognitiveservices-vision-computervision) (2020.12.5)\n",
      "Requirement already satisfied: six in c:\\programdata\\anaconda3\\lib\\site-packages (from isodate>=0.6.0->msrest>=0.5.0->azure-cognitiveservices-vision-computervision) (1.15.0)\n",
      "Requirement already satisfied: chardet<5,>=3.0.2 in c:\\programdata\\anaconda3\\lib\\site-packages (from requests~=2.16->msrest>=0.5.0->azure-cognitiveservices-vision-computervision) (4.0.0)\n",
      "Requirement already satisfied: idna<3,>=2.5 in c:\\programdata\\anaconda3\\lib\\site-packages (from requests~=2.16->msrest>=0.5.0->azure-cognitiveservices-vision-computervision) (2.10)\n",
      "Requirement already satisfied: urllib3<1.27,>=1.21.1 in c:\\programdata\\anaconda3\\lib\\site-packages (from requests~=2.16->msrest>=0.5.0->azure-cognitiveservices-vision-computervision) (1.26.4)\n",
      "Requirement already satisfied: oauthlib>=3.0.0 in c:\\programdata\\anaconda3\\lib\\site-packages (from requests-oauthlib>=0.5.0->msrest>=0.5.0->azure-cognitiveservices-vision-computervision) (3.1.1)\n",
      "Installing collected packages: isodate, msrest, azure-common, azure-cognitiveservices-vision-computervision\n",
      "Successfully installed azure-cognitiveservices-vision-computervision-0.9.0 azure-common-1.1.27 isodate-0.6.0 msrest-0.6.21\n"
     ]
    },
    {
     "name": "stderr",
     "output_type": "stream",
     "text": [
      "WARNING: Ignoring invalid distribution -ltk (c:\\programdata\\anaconda3\\lib\\site-packages)\n",
      "WARNING: Ignoring invalid distribution -ltk (c:\\programdata\\anaconda3\\lib\\site-packages)\n",
      "WARNING: Ignoring invalid distribution -ltk (c:\\programdata\\anaconda3\\lib\\site-packages)\n",
      "WARNING: Ignoring invalid distribution -ltk (c:\\programdata\\anaconda3\\lib\\site-packages)\n",
      "WARNING: Ignoring invalid distribution -ltk (c:\\programdata\\anaconda3\\lib\\site-packages)\n",
      "WARNING: Ignoring invalid distribution -ltk (c:\\programdata\\anaconda3\\lib\\site-packages)\n"
     ]
    },
    {
     "name": "stdout",
     "output_type": "stream",
     "text": [
      "Requirement already satisfied: pillow in c:\\programdata\\anaconda3\\lib\\site-packages (8.2.0)\n"
     ]
    },
    {
     "name": "stderr",
     "output_type": "stream",
     "text": [
      "WARNING: Ignoring invalid distribution -ltk (c:\\programdata\\anaconda3\\lib\\site-packages)\n",
      "WARNING: Ignoring invalid distribution -ltk (c:\\programdata\\anaconda3\\lib\\site-packages)\n"
     ]
    }
   ],
   "source": [
    "!pip install tweepy\n",
    "!pip install --upgrade azure-cognitiveservices-vision-computervision\n",
    "!pip install pillow"
   ]
  },
  {
   "cell_type": "code",
   "execution_count": 41,
   "id": "2d955c8b",
   "metadata": {},
   "outputs": [],
   "source": [
    "import tweepy as tw\n",
    "import json\n",
    "from types import SimpleNamespace\n",
    "import time\n",
    "from azure.cognitiveservices.vision.computervision import ComputerVisionClient \n",
    "from msrest.authentication import CognitiveServicesCredentials\n",
    "from azure.cognitiveservices.vision.computervision.models import VisualFeatureTypes, Details"
   ]
  },
  {
   "cell_type": "markdown",
   "id": "04774b85",
   "metadata": {},
   "source": [
    "### Carregando dados do twitter do json\n",
    "\n",
    "Essa parte não faz parte do curso, mas estou desenvolvendo assim para não colocar as informações do app do twitter diretamente no código.\n",
    "\n",
    "O código abaixo foi baseado [aqui](https://stackoverflow.com/questions/6578986/how-to-convert-json-data-into-a-python-object)."
   ]
  },
  {
   "cell_type": "code",
   "execution_count": null,
   "id": "ab03f4b4",
   "metadata": {},
   "outputs": [],
   "source": [
    "appsettings = {}\n",
    "\n",
    "with open('appsettings.json') as f:\n",
    "    appsettings = json.loads(f.read(), object_hook=lambda d: SimpleNamespace(**d))"
   ]
  },
  {
   "cell_type": "markdown",
   "id": "c77eb9d7",
   "metadata": {},
   "source": [
    "### Configurando acesso ao twitter"
   ]
  },
  {
   "cell_type": "code",
   "execution_count": 4,
   "id": "caa89463",
   "metadata": {},
   "outputs": [],
   "source": [
    "auth = tw.OAuthHandler(appsettings.consumer_key, appsettings.consumer_secret)"
   ]
  },
  {
   "cell_type": "code",
   "execution_count": 5,
   "id": "58451d1f",
   "metadata": {},
   "outputs": [],
   "source": [
    "auth.set_access_token(appsettings.access_token, appsettings.access_token_secret)"
   ]
  },
  {
   "cell_type": "markdown",
   "id": "093facea",
   "metadata": {},
   "source": [
    "Testando a conexão:"
   ]
  },
  {
   "cell_type": "code",
   "execution_count": 7,
   "id": "ef800bb9",
   "metadata": {
    "scrolled": true
   },
   "outputs": [
    {
     "data": {
      "text/plain": [
       "Status(_api=<tweepy.api.API object at 0x0000022124F6BCD0>, _json={'created_at': 'Sat Oct 16 21:54:44 +0000 2021', 'id': 1449494043499577351, 'id_str': '1449494043499577351', 'text': 'Esse outro tweet foi feito através de um bot.', 'truncated': False, 'entities': {'hashtags': [], 'symbols': [], 'user_mentions': [], 'urls': []}, 'source': '<a href=\"https://github.com/SalatielBairros\" rel=\"nofollow\">PucDataRecovery</a>', 'in_reply_to_status_id': None, 'in_reply_to_status_id_str': None, 'in_reply_to_user_id': None, 'in_reply_to_user_id_str': None, 'in_reply_to_screen_name': None, 'user': {'id': 106542286, 'id_str': '106542286', 'name': 'Salatiel Bairros', 'screen_name': 'SalatielB', 'location': 'Belo Horizonte, Brasil', 'description': 'Cristão, marido, pai, desenvolvedor de software e apaixonado por teologia. Pós-graduando em Inteligência Artificial e Aprendizado de Máquina pela PUC-MG.', 'url': 'https://t.co/lTLEmGx31v', 'entities': {'url': {'urls': [{'url': 'https://t.co/lTLEmGx31v', 'expanded_url': 'https://medium.com/salatiel-bairros/', 'display_url': 'medium.com/salatiel-bairr…', 'indices': [0, 23]}]}, 'description': {'urls': []}}, 'protected': False, 'followers_count': 147, 'friends_count': 145, 'listed_count': 2, 'created_at': 'Tue Jan 19 22:21:18 +0000 2010', 'favourites_count': 12107, 'utc_offset': None, 'time_zone': None, 'geo_enabled': True, 'verified': False, 'statuses_count': 17271, 'lang': None, 'contributors_enabled': False, 'is_translator': False, 'is_translation_enabled': False, 'profile_background_color': '131516', 'profile_background_image_url': 'http://abs.twimg.com/images/themes/theme14/bg.gif', 'profile_background_image_url_https': 'https://abs.twimg.com/images/themes/theme14/bg.gif', 'profile_background_tile': True, 'profile_image_url': 'http://pbs.twimg.com/profile_images/1100152002724663296/qlBmvOf4_normal.png', 'profile_image_url_https': 'https://pbs.twimg.com/profile_images/1100152002724663296/qlBmvOf4_normal.png', 'profile_banner_url': 'https://pbs.twimg.com/profile_banners/106542286/1551131725', 'profile_link_color': 'E81C4F', 'profile_sidebar_border_color': 'EEEEEE', 'profile_sidebar_fill_color': 'EFEFEF', 'profile_text_color': '333333', 'profile_use_background_image': True, 'has_extended_profile': True, 'default_profile': False, 'default_profile_image': False, 'following': False, 'follow_request_sent': False, 'notifications': False, 'translator_type': 'none', 'withheld_in_countries': []}, 'geo': None, 'coordinates': None, 'place': None, 'contributors': None, 'is_quote_status': False, 'retweet_count': 0, 'favorite_count': 0, 'favorited': False, 'retweeted': False, 'lang': 'pt'}, created_at=datetime.datetime(2021, 10, 16, 21, 54, 44, tzinfo=datetime.timezone.utc), id=1449494043499577351, id_str='1449494043499577351', text='Esse outro tweet foi feito através de um bot.', truncated=False, entities={'hashtags': [], 'symbols': [], 'user_mentions': [], 'urls': []}, source='PucDataRecovery', source_url='https://github.com/SalatielBairros', in_reply_to_status_id=None, in_reply_to_status_id_str=None, in_reply_to_user_id=None, in_reply_to_user_id_str=None, in_reply_to_screen_name=None, author=User(_api=<tweepy.api.API object at 0x0000022124F6BCD0>, _json={'id': 106542286, 'id_str': '106542286', 'name': 'Salatiel Bairros', 'screen_name': 'SalatielB', 'location': 'Belo Horizonte, Brasil', 'description': 'Cristão, marido, pai, desenvolvedor de software e apaixonado por teologia. Pós-graduando em Inteligência Artificial e Aprendizado de Máquina pela PUC-MG.', 'url': 'https://t.co/lTLEmGx31v', 'entities': {'url': {'urls': [{'url': 'https://t.co/lTLEmGx31v', 'expanded_url': 'https://medium.com/salatiel-bairros/', 'display_url': 'medium.com/salatiel-bairr…', 'indices': [0, 23]}]}, 'description': {'urls': []}}, 'protected': False, 'followers_count': 147, 'friends_count': 145, 'listed_count': 2, 'created_at': 'Tue Jan 19 22:21:18 +0000 2010', 'favourites_count': 12107, 'utc_offset': None, 'time_zone': None, 'geo_enabled': True, 'verified': False, 'statuses_count': 17271, 'lang': None, 'contributors_enabled': False, 'is_translator': False, 'is_translation_enabled': False, 'profile_background_color': '131516', 'profile_background_image_url': 'http://abs.twimg.com/images/themes/theme14/bg.gif', 'profile_background_image_url_https': 'https://abs.twimg.com/images/themes/theme14/bg.gif', 'profile_background_tile': True, 'profile_image_url': 'http://pbs.twimg.com/profile_images/1100152002724663296/qlBmvOf4_normal.png', 'profile_image_url_https': 'https://pbs.twimg.com/profile_images/1100152002724663296/qlBmvOf4_normal.png', 'profile_banner_url': 'https://pbs.twimg.com/profile_banners/106542286/1551131725', 'profile_link_color': 'E81C4F', 'profile_sidebar_border_color': 'EEEEEE', 'profile_sidebar_fill_color': 'EFEFEF', 'profile_text_color': '333333', 'profile_use_background_image': True, 'has_extended_profile': True, 'default_profile': False, 'default_profile_image': False, 'following': False, 'follow_request_sent': False, 'notifications': False, 'translator_type': 'none', 'withheld_in_countries': []}, id=106542286, id_str='106542286', name='Salatiel Bairros', screen_name='SalatielB', location='Belo Horizonte, Brasil', description='Cristão, marido, pai, desenvolvedor de software e apaixonado por teologia. Pós-graduando em Inteligência Artificial e Aprendizado de Máquina pela PUC-MG.', url='https://t.co/lTLEmGx31v', entities={'url': {'urls': [{'url': 'https://t.co/lTLEmGx31v', 'expanded_url': 'https://medium.com/salatiel-bairros/', 'display_url': 'medium.com/salatiel-bairr…', 'indices': [0, 23]}]}, 'description': {'urls': []}}, protected=False, followers_count=147, friends_count=145, listed_count=2, created_at=datetime.datetime(2010, 1, 19, 22, 21, 18, tzinfo=datetime.timezone.utc), favourites_count=12107, utc_offset=None, time_zone=None, geo_enabled=True, verified=False, statuses_count=17271, lang=None, contributors_enabled=False, is_translator=False, is_translation_enabled=False, profile_background_color='131516', profile_background_image_url='http://abs.twimg.com/images/themes/theme14/bg.gif', profile_background_image_url_https='https://abs.twimg.com/images/themes/theme14/bg.gif', profile_background_tile=True, profile_image_url='http://pbs.twimg.com/profile_images/1100152002724663296/qlBmvOf4_normal.png', profile_image_url_https='https://pbs.twimg.com/profile_images/1100152002724663296/qlBmvOf4_normal.png', profile_banner_url='https://pbs.twimg.com/profile_banners/106542286/1551131725', profile_link_color='E81C4F', profile_sidebar_border_color='EEEEEE', profile_sidebar_fill_color='EFEFEF', profile_text_color='333333', profile_use_background_image=True, has_extended_profile=True, default_profile=False, default_profile_image=False, following=False, follow_request_sent=False, notifications=False, translator_type='none', withheld_in_countries=[]), user=User(_api=<tweepy.api.API object at 0x0000022124F6BCD0>, _json={'id': 106542286, 'id_str': '106542286', 'name': 'Salatiel Bairros', 'screen_name': 'SalatielB', 'location': 'Belo Horizonte, Brasil', 'description': 'Cristão, marido, pai, desenvolvedor de software e apaixonado por teologia. Pós-graduando em Inteligência Artificial e Aprendizado de Máquina pela PUC-MG.', 'url': 'https://t.co/lTLEmGx31v', 'entities': {'url': {'urls': [{'url': 'https://t.co/lTLEmGx31v', 'expanded_url': 'https://medium.com/salatiel-bairros/', 'display_url': 'medium.com/salatiel-bairr…', 'indices': [0, 23]}]}, 'description': {'urls': []}}, 'protected': False, 'followers_count': 147, 'friends_count': 145, 'listed_count': 2, 'created_at': 'Tue Jan 19 22:21:18 +0000 2010', 'favourites_count': 12107, 'utc_offset': None, 'time_zone': None, 'geo_enabled': True, 'verified': False, 'statuses_count': 17271, 'lang': None, 'contributors_enabled': False, 'is_translator': False, 'is_translation_enabled': False, 'profile_background_color': '131516', 'profile_background_image_url': 'http://abs.twimg.com/images/themes/theme14/bg.gif', 'profile_background_image_url_https': 'https://abs.twimg.com/images/themes/theme14/bg.gif', 'profile_background_tile': True, 'profile_image_url': 'http://pbs.twimg.com/profile_images/1100152002724663296/qlBmvOf4_normal.png', 'profile_image_url_https': 'https://pbs.twimg.com/profile_images/1100152002724663296/qlBmvOf4_normal.png', 'profile_banner_url': 'https://pbs.twimg.com/profile_banners/106542286/1551131725', 'profile_link_color': 'E81C4F', 'profile_sidebar_border_color': 'EEEEEE', 'profile_sidebar_fill_color': 'EFEFEF', 'profile_text_color': '333333', 'profile_use_background_image': True, 'has_extended_profile': True, 'default_profile': False, 'default_profile_image': False, 'following': False, 'follow_request_sent': False, 'notifications': False, 'translator_type': 'none', 'withheld_in_countries': []}, id=106542286, id_str='106542286', name='Salatiel Bairros', screen_name='SalatielB', location='Belo Horizonte, Brasil', description='Cristão, marido, pai, desenvolvedor de software e apaixonado por teologia. Pós-graduando em Inteligência Artificial e Aprendizado de Máquina pela PUC-MG.', url='https://t.co/lTLEmGx31v', entities={'url': {'urls': [{'url': 'https://t.co/lTLEmGx31v', 'expanded_url': 'https://medium.com/salatiel-bairros/', 'display_url': 'medium.com/salatiel-bairr…', 'indices': [0, 23]}]}, 'description': {'urls': []}}, protected=False, followers_count=147, friends_count=145, listed_count=2, created_at=datetime.datetime(2010, 1, 19, 22, 21, 18, tzinfo=datetime.timezone.utc), favourites_count=12107, utc_offset=None, time_zone=None, geo_enabled=True, verified=False, statuses_count=17271, lang=None, contributors_enabled=False, is_translator=False, is_translation_enabled=False, profile_background_color='131516', profile_background_image_url='http://abs.twimg.com/images/themes/theme14/bg.gif', profile_background_image_url_https='https://abs.twimg.com/images/themes/theme14/bg.gif', profile_background_tile=True, profile_image_url='http://pbs.twimg.com/profile_images/1100152002724663296/qlBmvOf4_normal.png', profile_image_url_https='https://pbs.twimg.com/profile_images/1100152002724663296/qlBmvOf4_normal.png', profile_banner_url='https://pbs.twimg.com/profile_banners/106542286/1551131725', profile_link_color='E81C4F', profile_sidebar_border_color='EEEEEE', profile_sidebar_fill_color='EFEFEF', profile_text_color='333333', profile_use_background_image=True, has_extended_profile=True, default_profile=False, default_profile_image=False, following=False, follow_request_sent=False, notifications=False, translator_type='none', withheld_in_countries=[]), geo=None, coordinates=None, place=None, contributors=None, is_quote_status=False, retweet_count=0, favorite_count=0, favorited=False, retweeted=False, lang='pt')"
      ]
     },
     "execution_count": 7,
     "metadata": {},
     "output_type": "execute_result"
    }
   ],
   "source": [
    "api = tw.API(auth)\n",
    "tweet = api.update_status(\"Esse outro tweet foi feito através de um bot.\")\n",
    "tweet"
   ]
  },
  {
   "cell_type": "code",
   "execution_count": 8,
   "id": "f12512aa",
   "metadata": {
    "scrolled": true
   },
   "outputs": [
    {
     "data": {
      "text/plain": [
       "{'created_at': 'Sat Oct 16 21:54:44 +0000 2021',\n",
       " 'id': 1449494043499577351,\n",
       " 'id_str': '1449494043499577351',\n",
       " 'text': 'Esse outro tweet foi feito através de um bot.',\n",
       " 'truncated': False,\n",
       " 'entities': {'hashtags': [], 'symbols': [], 'user_mentions': [], 'urls': []},\n",
       " 'source': '<a href=\"https://github.com/SalatielBairros\" rel=\"nofollow\">PucDataRecovery</a>',\n",
       " 'in_reply_to_status_id': None,\n",
       " 'in_reply_to_status_id_str': None,\n",
       " 'in_reply_to_user_id': None,\n",
       " 'in_reply_to_user_id_str': None,\n",
       " 'in_reply_to_screen_name': None,\n",
       " 'user': {'id': 106542286,\n",
       "  'id_str': '106542286',\n",
       "  'name': 'Salatiel Bairros',\n",
       "  'screen_name': 'SalatielB',\n",
       "  'location': 'Belo Horizonte, Brasil',\n",
       "  'description': 'Cristão, marido, pai, desenvolvedor de software e apaixonado por teologia. Pós-graduando em Inteligência Artificial e Aprendizado de Máquina pela PUC-MG.',\n",
       "  'url': 'https://t.co/lTLEmGx31v',\n",
       "  'entities': {'url': {'urls': [{'url': 'https://t.co/lTLEmGx31v',\n",
       "      'expanded_url': 'https://medium.com/salatiel-bairros/',\n",
       "      'display_url': 'medium.com/salatiel-bairr…',\n",
       "      'indices': [0, 23]}]},\n",
       "   'description': {'urls': []}},\n",
       "  'protected': False,\n",
       "  'followers_count': 147,\n",
       "  'friends_count': 145,\n",
       "  'listed_count': 2,\n",
       "  'created_at': 'Tue Jan 19 22:21:18 +0000 2010',\n",
       "  'favourites_count': 12107,\n",
       "  'utc_offset': None,\n",
       "  'time_zone': None,\n",
       "  'geo_enabled': True,\n",
       "  'verified': False,\n",
       "  'statuses_count': 17271,\n",
       "  'lang': None,\n",
       "  'contributors_enabled': False,\n",
       "  'is_translator': False,\n",
       "  'is_translation_enabled': False,\n",
       "  'profile_background_color': '131516',\n",
       "  'profile_background_image_url': 'http://abs.twimg.com/images/themes/theme14/bg.gif',\n",
       "  'profile_background_image_url_https': 'https://abs.twimg.com/images/themes/theme14/bg.gif',\n",
       "  'profile_background_tile': True,\n",
       "  'profile_image_url': 'http://pbs.twimg.com/profile_images/1100152002724663296/qlBmvOf4_normal.png',\n",
       "  'profile_image_url_https': 'https://pbs.twimg.com/profile_images/1100152002724663296/qlBmvOf4_normal.png',\n",
       "  'profile_banner_url': 'https://pbs.twimg.com/profile_banners/106542286/1551131725',\n",
       "  'profile_link_color': 'E81C4F',\n",
       "  'profile_sidebar_border_color': 'EEEEEE',\n",
       "  'profile_sidebar_fill_color': 'EFEFEF',\n",
       "  'profile_text_color': '333333',\n",
       "  'profile_use_background_image': True,\n",
       "  'has_extended_profile': True,\n",
       "  'default_profile': False,\n",
       "  'default_profile_image': False,\n",
       "  'following': False,\n",
       "  'follow_request_sent': False,\n",
       "  'notifications': False,\n",
       "  'translator_type': 'none',\n",
       "  'withheld_in_countries': []},\n",
       " 'geo': None,\n",
       " 'coordinates': None,\n",
       " 'place': None,\n",
       " 'contributors': None,\n",
       " 'is_quote_status': False,\n",
       " 'retweet_count': 0,\n",
       " 'favorite_count': 0,\n",
       " 'favorited': False,\n",
       " 'retweeted': False,\n",
       " 'lang': 'pt'}"
      ]
     },
     "execution_count": 8,
     "metadata": {},
     "output_type": "execute_result"
    }
   ],
   "source": [
    "tweet._json"
   ]
  },
  {
   "cell_type": "markdown",
   "id": "35b90ac5",
   "metadata": {},
   "source": [
    "## Pesquisando Tweets"
   ]
  },
  {
   "cell_type": "code",
   "execution_count": 9,
   "id": "af4e11b5",
   "metadata": {},
   "outputs": [
    {
     "data": {
      "text/plain": [
       "<tweepy.cursor.ItemIterator at 0x22124f623a0>"
      ]
     },
     "execution_count": 9,
     "metadata": {},
     "output_type": "execute_result"
    }
   ],
   "source": [
    "tweets = tw.Cursor(api.search_tweets, q='data science', lang='pt', result_type = \"recent\").items(100)\n",
    "tweets"
   ]
  },
  {
   "cell_type": "code",
   "execution_count": 10,
   "id": "fff585c9",
   "metadata": {},
   "outputs": [
    {
     "name": "stdout",
     "output_type": "stream",
     "text": [
      "Caroline Nunes\n",
      "Barretos, Brasil\n",
      "ganhei ia bolsa de 90% em um MBA EM DATA SCIENCE DA USP 🤩🤩🤩🤩🤩 https://t.co/MWJ2atP9MD\n",
      "----------------------------------------------------------------------------------------------------\n",
      "ENS\n",
      "Brasil\n",
      "A ciência de dados está em alta, e o mercado busca profissionais capazes de transformar as informações em resultado… https://t.co/Tal2g1pjlA\n",
      "----------------------------------------------------------------------------------------------------\n",
      "gustavo\n",
      "\n",
      "RT @Unidosdados: Gostei dessa minha dica p/ iniciantes em data science que nao falam inglês: comece por um curso barato da udemy, algum cha…\n",
      "----------------------------------------------------------------------------------------------------\n",
      "Gabriel Reis\n",
      "Rio de Janeiro, Brasil\n",
      "Após termina a engenharia elétrica, devo me matricular no MBA de data science da USP, estudando muito sobre o caso\n",
      "----------------------------------------------------------------------------------------------------\n",
      "jean-brian jatapathique\n",
      "\n",
      "@r_n_t22 menina, to assistindo uma palestra agora de introdução ao data science, e ele ta mostrando como manipular… https://t.co/KEeMl2OP6h\n",
      "----------------------------------------------------------------------------------------------------\n",
      "jão\n",
      "Brasília, Brasil\n",
      "putz data science é incrível, pena que só descobri isso no final do meu curso fazendo o tcc 🥲\n",
      "----------------------------------------------------------------------------------------------------\n",
      "Lauro Jorge Prado\n",
      "Brazil\n",
      "Eu concluí com sucesso o curso Big Data Fundamentos 3.0 na Data Science Academy!  https://t.co/Yicaz4VwvN\n",
      "----------------------------------------------------------------------------------------------------\n",
      "Mr Data Scientist\n",
      "Melbourne, Victoria\n",
      "RT @lauroprado: Importante tema e Excelente Conteúdo! Obrigado Data Science Academy por proporcionar o curso \"Big Data Fundamentos 3.0\"\n",
      "\n",
      "#d…\n",
      "----------------------------------------------------------------------------------------------------\n",
      "Lauro Jorge Prado\n",
      "Brazil\n",
      "Importante tema e Excelente Conteúdo! Obrigado Data Science Academy por proporcionar o curso \"Big Data Fundamentos… https://t.co/kS0MuDVqhF\n",
      "----------------------------------------------------------------------------------------------------\n",
      "Luiz Alberto Mamede\n",
      "São Paulo, Brasil\n",
      "Estamos com algumas #oportunidades para área de #Tech no Itaú, contratação CLT pelo próprio Banco 😎/\n",
      "\n",
      "🟠 Desenvolved… https://t.co/UKcBOoWYFW\n",
      "----------------------------------------------------------------------------------------------------\n",
      "Gabriel Pereira\n",
      "Rio de Janeiro, Brazil\n",
      "@Unidosdados O que você acha do Data Science Academy?\n",
      "----------------------------------------------------------------------------------------------------\n",
      "Linda Sweet\n",
      "Victoria, Australia\n",
      "RT @Vidanka2: Contemporary Australian BF outcome data @ProfLindaSweet @western_health  @DeakinQPS @IHT_Deakin \n",
      "https://t.co/P0aLBm4fDl\n",
      "----------------------------------------------------------------------------------------------------\n",
      "Fabio Nico\n",
      "Brazil - São Paulo\n",
      "RT @pizzadedados: Inscrições abertas para a próxima turma do curso online  Data Science  para Todos do @databootcampbr  Rocket\n",
      "\n",
      "Nesse curso…\n",
      "----------------------------------------------------------------------------------------------------\n",
      "Thomas Conti #UsePFF2 #VacinaJá\n",
      "Brasil, SP\n",
      "@Johnn2253 @Insper @Insper_CGPP Opa, tem sim! Essa aqui é a mais avançada, de longa duração: https://t.co/CYL0zdj5Fg\n",
      "----------------------------------------------------------------------------------------------------\n",
      "Vidanka Vasilevski PhD\n",
      "\n",
      "Contemporary Australian BF outcome data @ProfLindaSweet @western_health  @DeakinQPS @IHT_Deakin \n",
      "https://t.co/P0aLBm4fDl\n",
      "----------------------------------------------------------------------------------------------------\n",
      "Andressa J. Silveira\n",
      "Brazil\n",
      "Parabéns pra pós de Data Science onde tu não aprende a setar um ambiente de dev, nem limpar dados, nem como program… https://t.co/BYNhUw7fvz\n",
      "----------------------------------------------------------------------------------------------------\n",
      "ENS\n",
      "Brasil\n",
      "O #ENSnaMídia traz a pós em Negócios e Data Science, que é indicada a gestores que precisam conhecer ferramentas qu… https://t.co/XqskrEsv6v\n",
      "----------------------------------------------------------------------------------------------------\n",
      "pythonbot\n",
      "Brazil\n",
      "RT @Unidosdados: Gostei dessa minha dica p/ iniciantes em data science que nao falam inglês: comece por um curso barato da udemy, algum cha…\n",
      "----------------------------------------------------------------------------------------------------\n",
      "pythonbot\n",
      "Brazil\n",
      "RT @Unidosdados: Gostei dessa minha dica p/ iniciantes em data science que nao falam inglês: comece por um curso barato da udemy, algum cha…\n",
      "----------------------------------------------------------------------------------------------------\n",
      "Universidade dos Dados\n",
      "\n",
      "O curso da Udemy vai pela avaliação, claro. \n",
      "\n",
      "Ahhh e vai sempre praticando enquanto tá aprendendo. Pega uns dataset… https://t.co/pTX4ZMh9J6\n",
      "----------------------------------------------------------------------------------------------------\n",
      "Universidade dos Dados\n",
      "\n",
      "Gostei dessa minha dica p/ iniciantes em data science que nao falam inglês: comece por um curso barato da udemy, al… https://t.co/PVAKl3puDy\n",
      "----------------------------------------------------------------------------------------------------\n",
      "Universidade dos Dados\n",
      "\n",
      "@abracadabra0209 Se vc ta atras de materiais em portugues: comece por um curso barato da udemy, em paralelo vai ven… https://t.co/2T4oZMDjoZ\n",
      "----------------------------------------------------------------------------------------------------\n",
      "Universidade dos Dados\n",
      "\n",
      "@abracadabra0209 Putz, nao sei... para iniciantes, eu acho que vale mais a pena voce ir na udemy e pegar algum bem… https://t.co/SqPVgc2GyQ\n",
      "----------------------------------------------------------------------------------------------------\n",
      "Universidade dos Dados\n",
      "\n",
      "Um cuidado: nenhum desses cursos de data science \"do zero\" te leva muito longe. Pode pedir para um amigo seu mais e… https://t.co/5G30HWTC4C\n",
      "----------------------------------------------------------------------------------------------------\n",
      "Investidor desqualificado em recuperação judicial\n",
      "Lisbon, Portugal\n",
      "@xMatPKx @MichelV37752726 @ValNamihira @betaniapimentel @JanainaDoBrasil claro que você, \"a autoridade\", tem mais i… https://t.co/JCTRqlVbUb\n",
      "----------------------------------------------------------------------------------------------------\n",
      "pythonbot\n",
      "Brazil\n",
      "RT @SerjaoMendes: @DevilSlingshot acabei de concluir um curso de machine learning e data science, python anaconda collab do google, jupyter…\n",
      "----------------------------------------------------------------------------------------------------\n",
      "Blkhwk0ps Servicios Digitales\n",
      "Cancún\n",
      "RT @SerjaoMendes: @DevilSlingshot acabei de concluir um curso de machine learning e data science, python anaconda collab do google, jupyter…\n",
      "----------------------------------------------------------------------------------------------------\n",
      "Sérjão\n",
      "Santa Catarina\n",
      "@DevilSlingshot acabei de concluir um curso de machine learning e data science, python anaconda collab do google, j… https://t.co/uGLbrsNXDv\n",
      "----------------------------------------------------------------------------------------------------\n",
      "Anderson\n",
      "Curitiba, Brasil\n",
      "Data Science é a ciência do futuro. No futuro, ela ira invadir completamente a ciência exatas. Toda ciência que tem… https://t.co/ufo4bN6PG2\n",
      "----------------------------------------------------------------------------------------------------\n",
      "pythonbot\n",
      "Brazil\n",
      "RT @senhor_caveira: Para quem deseja entrar no mundo de data science, dê uma chance para os mini cursos do Kaggle (conteúdo em inglês). São…\n",
      "----------------------------------------------------------------------------------------------------\n",
      "O Caveira Dev\n",
      "Blumenau, Brasil\n",
      "Para quem deseja entrar no mundo de data science, dê uma chance para os mini cursos do Kaggle (conteúdo em inglês).… https://t.co/90W2jKitXt\n",
      "----------------------------------------------------------------------------------------------------\n",
      "Natan Souza\n",
      "São Paulo\n",
      "RT @AluraOnline: Já se inscreveu na Semana Dados? 🤔\n",
      "\n",
      "Entre os dias 18 e 25 de Outubro você vai mergulhar em Data Science e debater os assun…\n",
      "----------------------------------------------------------------------------------------------------\n",
      "Marco Bruno 🇧🇷 🇸🇪\n",
      "Sweden\n",
      "RT @AluraOnline: Já se inscreveu na Semana Dados? 🤔\n",
      "\n",
      "Entre os dias 18 e 25 de Outubro você vai mergulhar em Data Science e debater os assun…\n",
      "----------------------------------------------------------------------------------------------------\n",
      "Gabs Ferreira\n",
      "São Paulo, Brazil\n",
      "RT @AluraOnline: Já se inscreveu na Semana Dados? 🤔\n",
      "\n",
      "Entre os dias 18 e 25 de Outubro você vai mergulhar em Data Science e debater os assun…\n",
      "----------------------------------------------------------------------------------------------------\n",
      "Alura\n",
      "\n",
      "Já se inscreveu na Semana Dados? 🤔\n",
      "\n",
      "Entre os dias 18 e 25 de Outubro você vai mergulhar em Data Science e debater o… https://t.co/1zOUhuHkAo\n",
      "----------------------------------------------------------------------------------------------------\n",
      "Patoto Biscoto 🦆\n",
      "Fortaleza/São Carlos , Brasil\n",
      "@gkuabaraa Relaxa, eu tbm não sabia no meu ano e passei kkk\n",
      "\n",
      "Se quiser uma dica essa playlist ensina direitinho a i… https://t.co/j83D1Mo6Gs\n",
      "----------------------------------------------------------------------------------------------------\n",
      "ga ៹𖤐\n",
      "\n",
      "𝗺𝘆     ،     𝗎𝗇𝗂𝗏𝖾𝗋𝗌𝖾.     ⭒   🪐   ⭒   𝗶𝘀    .    ★ㅤㅤㅤㅤㅤㅤㅤㅤ𖥻 ♡︎ : hᥲιkყᥙᥙ!! ⠀.  \n",
      "em dúvida se faço data science ou banco de dados e BI\n",
      "----------------------------------------------------------------------------------------------------\n",
      "Microsoft Portugal\n",
      "Portugal\n",
      "Colocar IA e data science no currículo pode ser difícil mas o nosso toolkit facilita🤓 \n",
      "\n",
      "Aprendam sobre:\n",
      "💻 A importâ… https://t.co/UKI18PEtG1\n",
      "----------------------------------------------------------------------------------------------------\n",
      "João\n",
      "\n",
      "@cefmatta Mais teclas: https://t.co/Yz0YSFVBgP\n",
      "----------------------------------------------------------------------------------------------------\n",
      "Data Science Academy\n",
      "Brasil\n",
      "Está disponível no Capítulo 19 do Curso Front-end Para Data Science, o Mini-Projeto:\n",
      "\n",
      "Admin Dashboard e Healthcare… https://t.co/oAgsJCHsCY\n",
      "----------------------------------------------------------------------------------------------------\n",
      "davi\n",
      "\n",
      "Tô começando a estudar data science e puta que pariu que TESÃO\n",
      "----------------------------------------------------------------------------------------------------\n",
      "siliconlikes by uniqtech\n",
      "Palo Alto, CA\n",
      "Intro to R #datascience https://t.co/z1uPnqOXHK #AI #ML\n",
      "----------------------------------------------------------------------------------------------------\n",
      "Joao Marcos\n",
      "São Paulo - Brazil\n",
      "Vamos estudar Data Science porque investimentos são longo prazo 😅 https://t.co/r1dpX7C7V7\n",
      "----------------------------------------------------------------------------------------------------\n",
      "zaca, ria s\n",
      "\n",
      "meus cursos de data science tão cheio de engenheiro químico, coitado dos engenheiros......\n",
      "----------------------------------------------------------------------------------------------------\n",
      "Mateus Papini - twitch.tv/rograo\n",
      "Belo Horizonte, Brasil\n",
      "RT @dsacademybr: Carreiras em Data Science - A Carreira de Analista de Dados\n",
      "\n",
      "Nesta série especial sobre Carreiras em Data Science vamos tr…\n",
      "----------------------------------------------------------------------------------------------------\n"
     ]
    },
    {
     "name": "stdout",
     "output_type": "stream",
     "text": [
      "Biblioteca PUCRS\n",
      "Porto Alegre, Brasil\n",
      "É amanhã o treinamento on-line sobre a base de dados Web of Science e Journal Citation Reports - JCR. Participe! Sa… https://t.co/ELzQXrzngj\n",
      "----------------------------------------------------------------------------------------------------\n",
      "Alura\n",
      "\n",
      "@bidungona Sim, sim! Dentro das formações de data science você vai encontrar cursos de Python, que vão ser muito út… https://t.co/npcwFUawtm\n",
      "----------------------------------------------------------------------------------------------------\n",
      "Alura\n",
      "\n",
      "@bidungona Oi, Caroline. Tudo bem? Caso você esteja iniciando em tecnologia, o ideal é fazer a formação para inicia… https://t.co/Jyt5ejvcHs\n",
      "----------------------------------------------------------------------------------------------------\n",
      "Ronaldo Baltar\n",
      "Londrina - PR, Brasil\n",
      "Oportunidade de interação entre pesquisadores em Ciência Social Computacional e Data Science do Brasil e Reino Unid… https://t.co/w09sWUy2kj\n",
      "----------------------------------------------------------------------------------------------------\n",
      "paz\n",
      "Natal, Brasil\n",
      "RT @pedrososleticia: Tenho uma startup tech focada em inteligência artificial tamo com um projeto aí pra um cliente grande bora liderar o t…\n",
      "----------------------------------------------------------------------------------------------------\n",
      "Geovana\n",
      "Patrocínio, Brasil\n",
      "Cientistas correm para coletar dados climáticos essenciais das geleiras. #biotwitts @biologianaweb  https://t.co/dCa1xH9icY\n",
      "----------------------------------------------------------------------------------------------------\n",
      "Saci\n",
      "São Paulo, Brasil\n",
      "@WeiseFranklin @PedroHallal Eu trabalho com data Science e não venho ao Twitter explicar pras pessoas como deve ser… https://t.co/xyoCWah7LD\n",
      "----------------------------------------------------------------------------------------------------\n",
      "TargetTrust\n",
      "Porto Alegre/RS - Brasil\n",
      "Mais uma turma de Automação de testes concluída com sucesso pelo nosso instrutor Antônio. \n",
      ".\n",
      "Inscrições abertas par… https://t.co/FMXdHAnLeU\n",
      "----------------------------------------------------------------------------------------------------\n",
      "matcarpes\n",
      "\n",
      "@__amandarech__ Data Science &amp; Analytics! Me interessei muito por esse mundo da análise de dados e é uma área que tá crescendo muito\n",
      "----------------------------------------------------------------------------------------------------\n",
      "Data Science Academy\n",
      "Brasil\n",
      "Carreiras em Data Science - A Carreira de Analista de Dados\n",
      "\n",
      "Nesta série especial sobre Carreiras em Data Science v… https://t.co/SthCN2s0Sx\n",
      "----------------------------------------------------------------------------------------------------\n",
      "Universidade dos Dados\n",
      "\n",
      "@pedrin1101 Cursos de fora tem no Kaggle, Udacity, Coursera, Datacamp... no Brasil, tem as escolas digitais (Digita… https://t.co/pbRDCV6DTk\n",
      "----------------------------------------------------------------------------------------------------\n",
      "ENS\n",
      "Brasil\n",
      "De acordo com uma pesquisa da Intera, a área de Data Science está entre as que mais contratam. Sabia? Então, não pe… https://t.co/KolBeaMtMW\n",
      "----------------------------------------------------------------------------------------------------\n",
      "Matemático de Osasco\n",
      "\n",
      "Vem ai esse mês:\n",
      "-segunda dose da minha vacina\n",
      "-provavel situação de rua pra mibha família\n",
      "-eu provavelmente pedind… https://t.co/cUtUviFEnd\n",
      "----------------------------------------------------------------------------------------------------\n",
      "Caroline Araujo\n",
      "São Paulo\n",
      "@AluraOnline a formação de@Data Science na plataforma tem que ter algum pré requisito ? Não encontrei isso na página da formação\n",
      "----------------------------------------------------------------------------------------------------\n",
      "pythonbot\n",
      "Brazil\n",
      "RT @pizzadedados: Inscrições abertas para a próxima turma do curso online  Data Science  para Todos do @databootcampbr  Rocket\n",
      "\n",
      "Nesse curso…\n",
      "----------------------------------------------------------------------------------------------------\n",
      "Machine Learning Bot\n",
      "Help us!\n",
      "RT @pizzadedados: Inscrições abertas para a próxima turma do curso online  Data Science  para Todos do @databootcampbr  Rocket\n",
      "\n",
      "Nesse curso…\n",
      "----------------------------------------------------------------------------------------------------\n",
      "Pizza de Dados\n",
      "Brazil\n",
      "Inscrições abertas para a próxima turma do curso online  Data Science  para Todos do @databootcampbr  Rocket\n",
      "\n",
      "Nesse… https://t.co/Eu0glJVx6R\n",
      "----------------------------------------------------------------------------------------------------\n",
      "Machine Learning Bot\n",
      "Help us!\n",
      "RT @databootcampbr: Vagas para a turma de Data Science🚀\n",
      "\n",
      "São 9 aulas, sempre as quartas e sábados.\n",
      "Durante o curso você vai ver Introdução…\n",
      "----------------------------------------------------------------------------------------------------\n",
      "Blkhwk0ps Servicios Digitales\n",
      "Cancún\n",
      "RT @databootcampbr: Vagas para a turma de Data Science🚀\n",
      "\n",
      "São 9 aulas, sempre as quartas e sábados.\n",
      "Durante o curso você vai ver Introdução…\n",
      "----------------------------------------------------------------------------------------------------\n",
      "Júlia Tessler\n",
      "Brazil\n",
      "RT @databootcampbr: Vagas para a turma de Data Science🚀\n",
      "\n",
      "São 9 aulas, sempre as quartas e sábados.\n",
      "Durante o curso você vai ver Introdução…\n",
      "----------------------------------------------------------------------------------------------------\n",
      "Rodrigo Carvalho\n",
      "\n",
      "RT @pedrososleticia: Tenho uma startup tech focada em inteligência artificial tamo com um projeto aí pra um cliente grande bora liderar o t…\n",
      "----------------------------------------------------------------------------------------------------\n",
      "R\n",
      "Recife, Brasil\n",
      "lembrando aqui da vaga de estágio em design que pedia que tivesse inglês fluente, soubesse Data Science e tivesse u… https://t.co/7dUzLn5Dka\n",
      "----------------------------------------------------------------------------------------------------\n",
      "digsshow\n",
      "Olinda, Brasil\n",
      "RT @pedrososleticia: Tenho uma startup tech focada em inteligência artificial tamo com um projeto aí pra um cliente grande bora liderar o t…\n",
      "----------------------------------------------------------------------------------------------------\n",
      "pythonbot\n",
      "Brazil\n",
      "RT @databootcampbr: Vagas para a turma de Data Science🚀\n",
      "\n",
      "São 9 aulas, sempre as quartas e sábados.\n",
      "Durante o curso você vai ver Introdução…\n",
      "----------------------------------------------------------------------------------------------------\n",
      "Data Bootcamp\n",
      "Brazil\n",
      "Vagas para a turma de Data Science🚀\n",
      "\n",
      "São 9 aulas, sempre as quartas e sábados.\n",
      "Durante o curso você vai ver Introdu… https://t.co/efHfGxlQlF\n",
      "----------------------------------------------------------------------------------------------------\n",
      "✪ italojs\n",
      "\n",
      "RT @pedrososleticia: Tenho uma startup tech focada em inteligência artificial tamo com um projeto aí pra um cliente grande bora liderar o t…\n",
      "----------------------------------------------------------------------------------------------------\n",
      "Gustavo Bruschi\n",
      "São Paulo, Brasil\n",
      "RT @pedrososleticia: Tenho uma startup tech focada em inteligência artificial tamo com um projeto aí pra um cliente grande bora liderar o t…\n",
      "----------------------------------------------------------------------------------------------------\n",
      "Emanuel Betcel\n",
      "Natal, Brasil\n",
      "RT @pedrososleticia: Tenho uma startup tech focada em inteligência artificial tamo com um projeto aí pra um cliente grande bora liderar o t…\n",
      "----------------------------------------------------------------------------------------------------\n",
      "Letícia Pedroso\n",
      "São Paulo\n",
      "Tenho uma startup tech focada em inteligência artificial tamo com um projeto aí pra um cliente grande bora liderar… https://t.co/8zZ5aO2LZJ\n",
      "----------------------------------------------------------------------------------------------------\n",
      "Discriminant Bot 🤖\n",
      "| DM for Business Enquiries | \n",
      "RT @ThiagoRafaelFe2: @tai_pravadelli Acho que a grande questão nem é a linguagem! Onde você vai atuar, front-end, back-end, data science, m…\n",
      "----------------------------------------------------------------------------------------------------\n",
      "namorado da patroa tomou vacina\n",
      "Pp city\n",
      "tentando aprender Data Science… e tá sendo péssimo \n",
      "Talvez se eu tivesse vendo outras aulas seria mais fácil, mas o… https://t.co/b2QfqhRSLW\n",
      "----------------------------------------------------------------------------------------------------\n",
      "Lunr\n",
      "\n",
      "RT @ThiagoRafaelFe2: @tai_pravadelli Acho que a grande questão nem é a linguagem! Onde você vai atuar, front-end, back-end, data science, m…\n",
      "----------------------------------------------------------------------------------------------------\n",
      "Blkhwk0ps Servicios Digitales\n",
      "Cancún\n",
      "RT @ThiagoRafaelFe2: @tai_pravadelli Acho que a grande questão nem é a linguagem! Onde você vai atuar, front-end, back-end, data science, m…\n",
      "----------------------------------------------------------------------------------------------------\n",
      "pythonbot\n",
      "Brazil\n",
      "RT @ThiagoRafaelFe2: @tai_pravadelli Acho que a grande questão nem é a linguagem! Onde você vai atuar, front-end, back-end, data science, m…\n",
      "----------------------------------------------------------------------------------------------------\n",
      "Machine Learning Bot\n",
      "Help us!\n",
      "RT @ThiagoRafaelFe2: @tai_pravadelli Acho que a grande questão nem é a linguagem! Onde você vai atuar, front-end, back-end, data science, m…\n",
      "----------------------------------------------------------------------------------------------------\n",
      "Tech-Bot\n",
      "\n",
      "RT @ThiagoRafaelFe2: @tai_pravadelli Acho que a grande questão nem é a linguagem! Onde você vai atuar, front-end, back-end, data science, m…\n",
      "----------------------------------------------------------------------------------------------------\n",
      "Thiago Rafael Ferreira\n",
      "\n",
      "@tai_pravadelli Acho que a grande questão nem é a linguagem! Onde você vai atuar, front-end, back-end, data science… https://t.co/aHqSpHlims\n",
      "----------------------------------------------------------------------------------------------------\n",
      "Asno de Ouro\n",
      "Hellcife\n",
      "@devniza C quer ir pra engenharia de software, data science, pesquisa acadêmica, o que?\n",
      "----------------------------------------------------------------------------------------------------\n",
      "anarkophobinha\n",
      "rio de janeiro\n",
      "sinceramente data science é chato demais\n",
      "----------------------------------------------------------------------------------------------------\n",
      "#Minecraftlive2021 #RDC2021\n",
      "\n",
      "RT @RobloxBrt: NOTICIA: Olha o que o @InsideRoblox falou pro próprio #roblox  do RDC!\n",
      "\n",
      "Como avatares e identidade se cruzam no Roblox? Leia…\n",
      "----------------------------------------------------------------------------------------------------\n",
      "Machine Learning Bot\n",
      "Help us!\n",
      "RT @RobloxBrt: NOTICIA: Olha o que o @InsideRoblox falou pro próprio #roblox  do RDC!\n",
      "\n",
      "Como avatares e identidade se cruzam no Roblox? Leia…\n",
      "----------------------------------------------------------------------------------------------------\n",
      "Roblox em português | #RDC21\n",
      "metaverso \n",
      "NOTICIA: Olha o que o @InsideRoblox falou pro próprio #roblox  do RDC!\n",
      "\n",
      "Como avatares e identidade se cruzam no Rob… https://t.co/aRIMGHy2u3\n",
      "----------------------------------------------------------------------------------------------------\n",
      "igor leonel\n",
      "\n",
      "RT @AluraOnline: Vem com a gente na Semana Dados da Alura! 📊\n",
      "\n",
      "Se você quer aprender mais sobre Data Science e mercado de trabalho, essa é a…\n",
      "----------------------------------------------------------------------------------------------------\n",
      "Delano Lins Filho\n",
      "Brazil\n",
      "Lugares onde eu acredito que a IA é uma má ideia incluem onde o pensamento original é necessário. Este artigo da Fo… https://t.co/zmf52Q7jUs\n",
      "----------------------------------------------------------------------------------------------------\n",
      "REVISTA APÓLICE\n",
      "Sao Paulo, Brasil\n",
      "Objetivo da @Sulamerica é dar suporte as equipes de gestão de renda variável, fixa, crédito e multimercados da gest… https://t.co/tVcYCJz153\n",
      "----------------------------------------------------------------------------------------------------\n"
     ]
    },
    {
     "name": "stdout",
     "output_type": "stream",
     "text": [
      "Neuron - DS&AI | USP-RP\n",
      "Ribeirão Preto, Brasil\n",
      "✨ Acabou a espera, vem aí mais um evento da Neuron!! Preparades? ✨\n",
      "\n",
      "Então segue algumas informações sobre o evento:… https://t.co/IgYq4dM43j\n",
      "----------------------------------------------------------------------------------------------------\n",
      "mine 🧚‍♀️\n",
      "\n",
      "@medusa_ace Minha e na área de informação, tô migrando pra data science\n",
      "----------------------------------------------------------------------------------------------------\n",
      "Data Science Academy\n",
      "Brasil\n",
      "Carreiras em Data Science - A Carreira de Analista de Negócios\n",
      "\n",
      "Nesta série especial sobre Carreiras em Data Scienc… https://t.co/1m8T3ptzKX\n",
      "----------------------------------------------------------------------------------------------------\n",
      "Édson Patrício\n",
      "Fortaleza - Ceará - Brasil\n",
      "Spoiler: Não.\n",
      "Pode vir que dá tempo.\n",
      "\n",
      "https://t.co/d1QE67BAkm\n",
      "----------------------------------------------------------------------------------------------------\n",
      "lari\n",
      "\n",
      "amigos de ti, alguém recomenda um bootcamp bom de ciência de dados/data science?\n",
      "----------------------------------------------------------------------------------------------------\n",
      "Borges\n",
      "São Paulo, Brasil\n",
      "Bom dia galera, hoje trago novidades....\n",
      "\n",
      "Ao desenvolver aquele projeto eu notei algumas limitações de conhecimento… https://t.co/8c3z09KbIy\n",
      "----------------------------------------------------------------------------------------------------\n",
      "João\n",
      "\n",
      "@revistaoeste A África, principalmente que usa ivm profilaticamente em função da oncocercose, está indo MUITO BEM,… https://t.co/fWk6YhpytZ\n",
      "----------------------------------------------------------------------------------------------------\n",
      "Rammil Flecha\n",
      "Florianópolis, Brasil\n",
      "Ontem eu quase compro um livro de \"Data Science para Leigos\". Quaaaaaase!\n",
      "----------------------------------------------------------------------------------------------------\n",
      "𝒔𝒘𝒂𝒏 𝒂𝒖𝒔 𐤀 | ᵉˢᵗᵘᵈᵃⁿᵈᵒ 📚\n",
      "𝙩𝙠𝙠 • 𝘺𝘮 𖦹 \n",
      "eu tava ouvindo um podcast essa semana sobre mulheres em data science e uma delas falou algo que eu fiquei pensando… https://t.co/280cxprwLX\n",
      "----------------------------------------------------------------------------------------------------\n",
      "O Caveira Dev\n",
      "Blumenau, Brasil\n",
      "Recentemente comecei a ler sobre a linguagem Julia e vejo que tem um potencial absurdo, principalmente para Data Sc… https://t.co/7XtYxbtj0D\n",
      "----------------------------------------------------------------------------------------------------\n"
     ]
    }
   ],
   "source": [
    "for tweet in tweets:\n",
    "    print(tweet.user.name)\n",
    "    print(tweet.user.location)    \n",
    "    print(tweet.text)\n",
    "    print(\"-\" * 100)"
   ]
  },
  {
   "cell_type": "markdown",
   "id": "32f38995",
   "metadata": {},
   "source": [
    "### Pesquisando famosos"
   ]
  },
  {
   "cell_type": "code",
   "execution_count": 11,
   "id": "e85c6640",
   "metadata": {},
   "outputs": [],
   "source": [
    "famosos = ['cauareymond','aguiarthur','ivetesangalo','ClaudiaLeitte','neymarjr','BruMarquezine','mariruybarbosa',\n",
    "'FePaesLeme','Tatawerneck','FlaviaAleReal','julianapaes','dedesecco','SabrinaSato','ahickmann','gusttavo_lima','Anitta',\n",
    "'CarolCastroReal','gio_antonelli','maisa','cleooficial','gewbank','taisdeverdade','otaviano','bernardipaloma',\n",
    "'IngridGuimaraes','olazaroramos','GalisteuOficial','debranascimento','FioMattheis','moalfradique','Nandacostareal']"
   ]
  },
  {
   "cell_type": "code",
   "execution_count": 12,
   "id": "ae0f3df6",
   "metadata": {},
   "outputs": [],
   "source": [
    "def pesquisar_tweets(termo, lang='pt', result_type= \"mixed\", n=100):\n",
    "    return tw.Cursor(api.search_tweets, q=termo, lang=lang, result_type=result_type).items(n)"
   ]
  },
  {
   "cell_type": "code",
   "execution_count": 13,
   "id": "5218c3b9",
   "metadata": {},
   "outputs": [],
   "source": [
    "def obter_url_imagens(tweets):\n",
    "    if(tweets is None): return\n",
    "    for tweet in tweets:\n",
    "        if('media' in tweet.entities):\n",
    "            print(tweet.entities['media'][0]['media_url'])"
   ]
  },
  {
   "cell_type": "code",
   "execution_count": 14,
   "id": "14b90451",
   "metadata": {},
   "outputs": [],
   "source": [
    "def pesquisa_multipla(termos):\n",
    "    for termo in termos:\n",
    "        tweets = pesquisar_tweets(termo, n=20)\n",
    "        print(f'Referência: {termo}')\n",
    "        print('Imagens postadas:')\n",
    "        obter_url_imagens(tweets)\n",
    "        print('*' * 100)"
   ]
  },
  {
   "cell_type": "code",
   "execution_count": 15,
   "id": "3adba66a",
   "metadata": {},
   "outputs": [
    {
     "name": "stdout",
     "output_type": "stream",
     "text": [
      "Referência: cauareymond\n",
      "Imagens postadas:\n",
      "http://pbs.twimg.com/media/FBwVyTbXsAAep6c.jpg\n",
      "http://pbs.twimg.com/tweet_video_thumb/FB0tnhDX0AMMjCe.jpg\n",
      "http://pbs.twimg.com/ext_tw_video_thumb/1449364009854152710/pu/img/jYgq-6q20ozcl8KF.jpg\n",
      "http://pbs.twimg.com/media/FBwVyTbXsAAep6c.jpg\n",
      "http://pbs.twimg.com/ext_tw_video_thumb/1447206040626413578/pu/img/pj_tGV4qwus7wdGl.jpg\n",
      "http://pbs.twimg.com/media/FBV1nP4XsAAU8eO.jpg\n",
      "http://pbs.twimg.com/media/FBVtD1OWEAcia7W.jpg\n",
      "http://pbs.twimg.com/media/FBRKEJgXEAUF7Rn.jpg\n",
      "http://pbs.twimg.com/media/FBRKEJgXEAUF7Rn.jpg\n",
      "****************************************************************************************************\n",
      "Referência: aguiarthur\n",
      "Imagens postadas:\n",
      "http://pbs.twimg.com/ext_tw_video_thumb/1447715203379040258/pu/img/OXoOV9Vr8nr7D6Oo.jpg\n",
      "http://pbs.twimg.com/ext_tw_video_thumb/1447309851361742852/pu/img/z464bEVtvyAWbwXw.jpg\n",
      "****************************************************************************************************\n",
      "Referência: ivetesangalo\n",
      "Imagens postadas:\n",
      "http://pbs.twimg.com/amplify_video_thumb/1447342265114841088/img/9qpabwOX11E629_w.jpg\n",
      "http://pbs.twimg.com/amplify_video_thumb/1447340621606187010/img/px93BfSaVQdilJAV.jpg\n",
      "http://pbs.twimg.com/media/FBXz1ciWQAIxuK3.jpg\n",
      "http://pbs.twimg.com/ext_tw_video_thumb/1447337741893648384/pu/img/8_EbpLOoU5Gak-Ug.jpg\n",
      "****************************************************************************************************\n",
      "Referência: ClaudiaLeitte\n",
      "Imagens postadas:\n",
      "****************************************************************************************************\n",
      "Referência: neymarjr\n",
      "Imagens postadas:\n",
      "http://pbs.twimg.com/media/FBvh0NIWQAUvHLm.jpg\n",
      "http://pbs.twimg.com/media/FB10gYgX0AQF-TG.jpg\n",
      "http://pbs.twimg.com/ext_tw_video_thumb/1449457655576203274/pu/img/wPk9-43SxcDSPIsq.jpg\n",
      "http://pbs.twimg.com/ext_tw_video_thumb/1449425939541250048/pu/img/UxrlsCrIFIyz6acv.jpg\n",
      "http://pbs.twimg.com/media/FB10gYgX0AQF-TG.jpg\n",
      "http://pbs.twimg.com/media/FBsY5pvX0AwrwXd.jpg\n",
      "http://pbs.twimg.com/ext_tw_video_thumb/1449425939541250048/pu/img/UxrlsCrIFIyz6acv.jpg\n",
      "http://pbs.twimg.com/ext_tw_video_thumb/1449425939541250048/pu/img/UxrlsCrIFIyz6acv.jpg\n",
      "http://pbs.twimg.com/ext_tw_video_thumb/1449490869011243012/pu/img/5byLXesx4gMCdxmX.jpg\n",
      "****************************************************************************************************\n",
      "Referência: BruMarquezine\n",
      "Imagens postadas:\n",
      "http://pbs.twimg.com/media/FB0vLrwWQAIQG6G.jpg\n",
      "http://pbs.twimg.com/media/FBc4DqvX0AQtO7c.jpg\n",
      "http://pbs.twimg.com/ext_tw_video_thumb/1447687657585266689/pu/img/4y2orpuoOFfIeF-N.jpg\n",
      "http://pbs.twimg.com/media/FBc4r_7WEAEdmI8.jpg\n",
      "http://pbs.twimg.com/ext_tw_video_thumb/1447687657585266689/pu/img/4y2orpuoOFfIeF-N.jpg\n",
      "****************************************************************************************************\n",
      "Referência: mariruybarbosa\n",
      "Imagens postadas:\n",
      "http://pbs.twimg.com/media/FB2NDAYXoAUYvx3.jpg\n",
      "http://pbs.twimg.com/media/FB1FT6xXEAAcGqi.jpg\n",
      "http://pbs.twimg.com/media/FBXt-QcWEAQPRuu.jpg\n",
      "****************************************************************************************************\n",
      "Referência: FePaesLeme\n",
      "Imagens postadas:\n",
      "http://pbs.twimg.com/ext_tw_video_thumb/1446496387017887744/pu/img/wXS9O0GdPOinZYX3.jpg\n",
      "http://pbs.twimg.com/media/FBqpsDXUcAML96X.jpg\n",
      "http://pbs.twimg.com/media/FBqpsDXUcAML96X.jpg\n",
      "http://pbs.twimg.com/media/FBqpsDXUcAML96X.jpg\n",
      "http://pbs.twimg.com/ext_tw_video_thumb/1446496387017887744/pu/img/wXS9O0GdPOinZYX3.jpg\n",
      "****************************************************************************************************\n",
      "Referência: Tatawerneck\n",
      "Imagens postadas:\n",
      "http://pbs.twimg.com/ext_tw_video_thumb/1449357338817802249/pu/img/2v99Ud2CC0_SQj3W.jpg\n",
      "http://pbs.twimg.com/ext_tw_video_thumb/1449059331824099332/pu/img/-xK7UsbMPAzAh_hY.jpg\n",
      "http://pbs.twimg.com/media/FB1mE7uWUAQXSa5.jpg\n",
      "http://pbs.twimg.com/media/FB1mE7uWUAQXSa5.jpg\n",
      "http://pbs.twimg.com/ext_tw_video_thumb/1446511514421239809/pu/img/vhaeToZ2X4-YYu9M.jpg\n",
      "http://pbs.twimg.com/media/FBMJV3nXoAIx_VD.jpg\n",
      "****************************************************************************************************\n",
      "Referência: FlaviaAleReal\n",
      "Imagens postadas:\n",
      "http://pbs.twimg.com/ext_tw_video_thumb/1268539008944136194/pu/img/xgJpVhcXqG2l0g_D.jpg\n",
      "http://pbs.twimg.com/ext_tw_video_thumb/1449081227609268226/pu/img/SxrULgPFVIMmcyS-.jpg\n",
      "http://pbs.twimg.com/ext_tw_video_thumb/1449081227609268226/pu/img/SxrULgPFVIMmcyS-.jpg\n",
      "http://pbs.twimg.com/ext_tw_video_thumb/1449081227609268226/pu/img/SxrULgPFVIMmcyS-.jpg\n",
      "****************************************************************************************************\n",
      "Referência: julianapaes\n",
      "Imagens postadas:\n",
      "****************************************************************************************************\n",
      "Referência: dedesecco\n",
      "Imagens postadas:\n",
      "http://pbs.twimg.com/ext_tw_video_thumb/1318318144650420224/pu/img/4V_RVAF2wBajBVTZ.jpg\n",
      "http://pbs.twimg.com/media/FBwJcVVWUAQ_AQ0.jpg\n",
      "****************************************************************************************************\n",
      "Referência: SabrinaSato\n",
      "Imagens postadas:\n",
      "http://pbs.twimg.com/amplify_video_thumb/1448290377606344704/img/zZtWnQbu02CXa2jN.jpg\n",
      "http://pbs.twimg.com/amplify_video_thumb/1447678060384432137/img/6rNvqqY5bwiFRmxE.jpg\n",
      "http://pbs.twimg.com/media/FBitDkMWYAQ5byT.jpg\n",
      "http://pbs.twimg.com/amplify_video_thumb/1448290377606344704/img/zZtWnQbu02CXa2jN.jpg\n",
      "****************************************************************************************************\n",
      "Referência: ahickmann\n",
      "Imagens postadas:\n",
      "http://pbs.twimg.com/media/FBw6qyPXMAI4PJV.jpg\n",
      "http://pbs.twimg.com/media/FBw6qyPXMAI4PJV.jpg\n",
      "****************************************************************************************************\n",
      "Referência: gusttavo_lima\n",
      "Imagens postadas:\n",
      "http://pbs.twimg.com/media/FBmF0ZCXMAMeAJg.jpg\n",
      "****************************************************************************************************\n",
      "Referência: Anitta\n",
      "Imagens postadas:\n",
      "http://pbs.twimg.com/ext_tw_video_thumb/1449490247360958469/pu/img/-RWBzBQVLQsvofsp.jpg\n",
      "http://pbs.twimg.com/amplify_video_thumb/1449364537560506374/img/uPN1T7KPw5qCaRxe.jpg\n",
      "http://pbs.twimg.com/ext_tw_video_thumb/1448996936103641088/pu/img/C07DGeZtYfQt-2bK.jpg\n",
      "http://pbs.twimg.com/ext_tw_video_thumb/1448996936103641088/pu/img/C07DGeZtYfQt-2bK.jpg\n",
      "http://pbs.twimg.com/ext_tw_video_thumb/1448995196625166336/pu/img/sjO-yhjnUpByvjLg.jpg\n",
      "****************************************************************************************************\n",
      "Referência: CarolCastroReal\n",
      "Imagens postadas:\n",
      "http://pbs.twimg.com/media/FBrglGeXIAMY4J6.jpg\n",
      "****************************************************************************************************\n",
      "Referência: gio_antonelli\n",
      "Imagens postadas:\n",
      "http://pbs.twimg.com/media/FB2cvDHXsAAepxv.jpg\n",
      "http://pbs.twimg.com/media/FB1c9acXoAobQsM.jpg\n",
      "http://pbs.twimg.com/media/FBMAsEnXoAQ3HO0.jpg\n",
      "http://pbs.twimg.com/media/FBMAsEnXoAQ3HO0.jpg\n",
      "****************************************************************************************************\n",
      "Referência: maisa\n",
      "Imagens postadas:\n",
      "http://pbs.twimg.com/ext_tw_video_thumb/1449213042793893889/pu/img/mKGDgnWKnAjRf2Pg.jpg\n",
      "http://pbs.twimg.com/media/FB2jHxYX0Aci_kj.jpg\n",
      "****************************************************************************************************\n",
      "Referência: cleooficial\n",
      "Imagens postadas:\n",
      "****************************************************************************************************\n",
      "Referência: gewbank\n",
      "Imagens postadas:\n",
      "****************************************************************************************************\n",
      "Referência: taisdeverdade\n",
      "Imagens postadas:\n",
      "http://pbs.twimg.com/media/FB1j4M4WEAITrTG.jpg\n",
      "****************************************************************************************************\n",
      "Referência: otaviano\n",
      "Imagens postadas:\n",
      "http://pbs.twimg.com/media/FBh6qy6WUBMTeV6.jpg\n",
      "http://pbs.twimg.com/ext_tw_video_thumb/1448013736300748812/pu/img/HCEoIVqSgL30RxZR.jpg\n",
      "http://pbs.twimg.com/ext_tw_video_thumb/1447543641271058432/pu/img/QsXVBBxYepclZwjF.jpg\n",
      "http://pbs.twimg.com/ext_tw_video_thumb/1447582161368985608/pu/img/-iXoFSexWJsN5_T8.jpg\n",
      "****************************************************************************************************\n",
      "Referência: bernardipaloma\n",
      "Imagens postadas:\n"
     ]
    },
    {
     "name": "stdout",
     "output_type": "stream",
     "text": [
      "http://pbs.twimg.com/ext_tw_video_thumb/1443409559217913858/pu/img/sy56PKZH_-CqniXX.jpg\n",
      "http://pbs.twimg.com/media/FBfzj81X0AMdCU2.jpg\n",
      "http://pbs.twimg.com/media/FBfzj81X0AMdCU2.jpg\n",
      "http://pbs.twimg.com/media/FBfzj81X0AMdCU2.jpg\n",
      "http://pbs.twimg.com/media/FBfzj81X0AMdCU2.jpg\n",
      "****************************************************************************************************\n",
      "Referência: IngridGuimaraes\n",
      "Imagens postadas:\n",
      "http://pbs.twimg.com/tweet_video_thumb/FBs8kYyXoAMJV8S.jpg\n",
      "****************************************************************************************************\n",
      "Referência: olazaroramos\n",
      "Imagens postadas:\n",
      "****************************************************************************************************\n",
      "Referência: GalisteuOficial\n",
      "Imagens postadas:\n",
      "http://pbs.twimg.com/ext_tw_video_thumb/1449080447347142660/pu/img/cIV0Qzu-olp0u_U8.jpg\n",
      "http://pbs.twimg.com/ext_tw_video_thumb/1449404189235363840/pu/img/UnfOL10lbpTionsw.jpg\n",
      "http://pbs.twimg.com/ext_tw_video_thumb/1449404189235363840/pu/img/UnfOL10lbpTionsw.jpg\n",
      "****************************************************************************************************\n",
      "Referência: debranascimento\n",
      "Imagens postadas:\n",
      "http://pbs.twimg.com/media/E7fT4uAX0AQbkBM.jpg\n",
      "****************************************************************************************************\n",
      "Referência: FioMattheis\n",
      "Imagens postadas:\n",
      "****************************************************************************************************\n",
      "Referência: moalfradique\n",
      "Imagens postadas:\n",
      "http://pbs.twimg.com/media/FBYp6R9WUAEqHIM.jpg\n",
      "****************************************************************************************************\n",
      "Referência: Nandacostareal\n",
      "Imagens postadas:\n",
      "http://pbs.twimg.com/media/ExzgTPPWEAApTgc.jpg\n",
      "http://pbs.twimg.com/media/FBTK8PPXMAUXWap.jpg\n",
      "****************************************************************************************************\n"
     ]
    }
   ],
   "source": [
    "pesquisa_multipla(famosos)"
   ]
  },
  {
   "cell_type": "markdown",
   "id": "7ffd58d1",
   "metadata": {},
   "source": [
    "## Streaming\n",
    "\n",
    "Os métodos e a implementação utilizada aqui diferem bastante do curso pois o mesmo está desatualizado."
   ]
  },
  {
   "cell_type": "code",
   "execution_count": 16,
   "id": "602a9dfc",
   "metadata": {},
   "outputs": [],
   "source": [
    "class MinhaStreamListener(tw.Stream):\n",
    "    def on_status(self, status):\n",
    "        print(status.user.name)\n",
    "        print(status.user.location)    \n",
    "        print(status.text)\n",
    "        print(\"-\" * 100)"
   ]
  },
  {
   "cell_type": "code",
   "execution_count": 17,
   "id": "bbb156a2",
   "metadata": {},
   "outputs": [],
   "source": [
    "minhaStream = MinhaStreamListener(\n",
    "    appsettings.consumer_key,\n",
    "    appsettings.consumer_secret, \n",
    "    appsettings.access_token,\n",
    "    appsettings.access_token_secret)"
   ]
  },
  {
   "cell_type": "code",
   "execution_count": 18,
   "id": "5c574676",
   "metadata": {
    "scrolled": true
   },
   "outputs": [
    {
     "name": "stdout",
     "output_type": "stream",
     "text": [
      "Tarcisio Pequeno\n",
      "Fortaleza - Brasil\n",
      "RT @ChicoPinto16: Entrevista do ótimo @lucasfferraz com o italiano Giorgio Parisi, Nobel de física, forrozeiro e fã de Guimarães Rosa: “Ter…\n",
      "----------------------------------------------------------------------------------------------------\n",
      "Edgard Bonanata\n",
      "None\n",
      "RT @bonanata_edgard: Interessante todo mundo está acusando o Sr Presidente Bolsonaro de genocídio ; mas os falsos moralistas militantes e c…\n",
      "----------------------------------------------------------------------------------------------------\n",
      "João Diego Da Silva Soares\n",
      "None\n",
      "RT @eocassii: Acabou o arreganho, chegou o vice-presidente do balakubaco 😂🇪🇪 #gremio #futebol #brasileirao #tricolorgaucho https://t.co/OSL…\n",
      "----------------------------------------------------------------------------------------------------\n",
      "#Dia07EuFui\n",
      "Estados Unidos\n",
      "@DatenaOficial hahaahahahahhaahahahahahhaha.... Vc traiu seu público, sua história. Vc se aliou ao pior da política.\n",
      "----------------------------------------------------------------------------------------------------\n",
      "Marcelo Rangel Gomes\n",
      "Campos dos Goytacazes, Brasil\n",
      "RT @ivermectinatha: A galerinha que fazia meme com o preço do combustível ⛽️ já parabenizou o Presidente Bolsonaro pela pressão para termos…\n",
      "----------------------------------------------------------------------------------------------------\n",
      "Antonio Dagoberto\n",
      "Canoas, Brasil\n",
      "@MachadoSonia @Maval_BR E visível o orgulho desses policiais prestigiados pelo presidente\n",
      "----------------------------------------------------------------------------------------------------\n",
      "Alexa_Guz\n",
      "None\n",
      "@BrunaFrascolla Vixe, agora faz assessoria p o presidente?😂\n",
      "----------------------------------------------------------------------------------------------------\n",
      "JOSÉ  orlando BENTO.\n",
      "Contagem, Brasil\n",
      "RT @KoprowskiElmo: @IzabelleFores @MachadoDarlon Todos que prometeram veneno p o Presidente, morreram com o próprio.\n",
      "----------------------------------------------------------------------------------------------------\n",
      "Direita Vix\n",
      "Vitória, Brasil\n",
      "RT @salimmattarbr: Novamente o Presidente do STF, ministro Fux, restabeleceu o passaporte sanitário, desta vez em Macaé, no RJ, após o TJ-R…\n",
      "----------------------------------------------------------------------------------------------------\n",
      "🇧🇷Denis Franque🇧🇷 #FechadoComBolsonaro#\n",
      "São João de Iracema, Brasil\n",
      "RT @IzabelleFores: Fafá de Belém disse, às gargalhadas, que vai preparar prato com ingrediente venenoso para o presidente?\n",
      "\n",
      "Com essa cara d…\n",
      "----------------------------------------------------------------------------------------------------\n",
      "afreitas03@hotmail.com\n",
      "Ipanema, Rio de Janeiro\n",
      "RT @salimmattarbr: Novamente o Presidente do STF, ministro Fux, restabeleceu o passaporte sanitário, desta vez em Macaé, no RJ, após o TJ-R…\n",
      "----------------------------------------------------------------------------------------------------\n",
      "Hiram A Freitas\n",
      "SLZ, Brasil\n",
      "RT @salimmattarbr: O presidente @jairbolsonaro foi retratado como Hitler na capa da revista IstoÉ e isso não é considerado “discurso de ódi…\n",
      "----------------------------------------------------------------------------------------------------\n",
      "Wagner Felix\n",
      "None\n",
      "RT @MarcosQuezado1: Apresentador foi alvo de piadas nas redes sociais:  Web debocha após Datena dizer que será presidente: “Dapena” KKKKK h…\n",
      "----------------------------------------------------------------------------------------------------\n",
      "Inara Pereira da Silva Birnfeld\n",
      "None\n",
      "RT @salimmattarbr: Novamente o Presidente do STF, ministro Fux, restabeleceu o passaporte sanitário, desta vez em Macaé, no RJ, após o TJ-R…\n",
      "----------------------------------------------------------------------------------------------------\n",
      "Arturo Martin Chacon\n",
      "None\n",
      "Mentiroso compulsivo\n",
      "----------------------------------------------------------------------------------------------------\n",
      "Nina 🇧🇷🙏⚘☉☕ 🌜🍷🌟🌎💪💖✌\n",
      "None\n",
      "RT @saritacoelho: Cantora paraense disse que irá envenenar o presidente. Ameaça do bem? Discurso de ódio do bem? Alguém   falará em \"limite…\n",
      "----------------------------------------------------------------------------------------------------\n",
      "jCecíllio Eu Robô mas não Roubo.\n",
      "Rio de Janeiro, RJ, Brasil\n",
      "RT @AdelarBrasil57: Quero sugerir ao @TSEjusbr a cassar o registro do PT, por disparos de WhatsApp, a seguir o vídeo que prova que o PT uso…\n",
      "----------------------------------------------------------------------------------------------------\n",
      "Carlos Cabaal FN 🇧🇷🇧🇷🇧🇷\n",
      "Rio de Janeiro, Brasil\n",
      "RT @andreporci: Quer entender apenas um pedaço da raiva dos donos de mídia contra o presidente? Antes, 30% de todo o valor da Lei Rouanet (…\n",
      "----------------------------------------------------------------------------------------------------\n",
      "Alexandre Albuquerque --\n",
      "Rio de Janeiro, Brasil\n",
      "RT @SigaGazetaBR: Após dizer ‘ter certeza’ que será presidente do Brasil, Datena é chamado de ‘Dapena’  na web https://t.co/rYaUArGHty\n",
      "----------------------------------------------------------------------------------------------------\n",
      "Sr&SraBastos\n",
      "Niterói, Rio de Janeiro\n",
      "RT @CarlaZambelli38: Mesmo longe, o Presidente @jairbolsonaro fez questão de participar do Congresso Nacional Conservador. Que Presidente d…\n",
      "----------------------------------------------------------------------------------------------------\n",
      "Edgard Bonanata\n",
      "None\n",
      "RT @bonanata_edgard: E consumiram  com todos os bilhões de recursos federais distribuídos durante está pandemia pelo Sr Presidente sem deix…\n",
      "----------------------------------------------------------------------------------------------------\n",
      "G\n",
      "None\n",
      "RT @andreporci: Quer entender apenas um pedaço da raiva dos donos de mídia contra o presidente? Antes, 30% de todo o valor da Lei Rouanet (…\n",
      "----------------------------------------------------------------------------------------------------\n",
      "Medeiros, francinaldo\n",
      "Bom Jesus, PI, Brasil\n",
      "RT @fec5588fm: O fato é que os blogueiros maricas tem fantasias sexuais com o Presidente Bolsonaro vestido de ditador ... Puro fetiche de g…\n",
      "----------------------------------------------------------------------------------------------------\n",
      "JONATAS MELO\n",
      "São Paulo, Brasil\n",
      "RT @carteiroreaca: Excelente iniciativa do Presidente da Ceagesp, Mello Araújo! https://t.co/nVd4qFknkE\n",
      "----------------------------------------------------------------------------------------------------\n",
      "Ralph R. Andrade\n",
      "Jandaia do Sul, Paraná, Brasil\n",
      "@andreporci @filgmartin Ué, não teve um depoimento no MPF em que se acusava o presidente de ser um clone alienígena… https://t.co/T0xbcco8Gr\n",
      "----------------------------------------------------------------------------------------------------\n"
     ]
    }
   ],
   "source": [
    "execucao_stream_presidente = minhaStream.filter(track=['presidente'], languages=['pt'], threaded=True)"
   ]
  },
  {
   "cell_type": "code",
   "execution_count": 21,
   "id": "e85f9b1c",
   "metadata": {},
   "outputs": [
    {
     "name": "stderr",
     "output_type": "stream",
     "text": [
      "Stream connection closed by Twitter\n"
     ]
    },
    {
     "name": "stdout",
     "output_type": "stream",
     "text": [
      "Fernando 🇧🇷👉🏻\n",
      "Brasília, Distrito Federal, Br\n",
      "RT @CarlaZambelli38: Mesmo longe, o Presidente @jairbolsonaro fez questão de participar do Congresso Nacional Conservador. Que Presidente d…\n",
      "----------------------------------------------------------------------------------------------------\n"
     ]
    }
   ],
   "source": [
    "minhaStream.disconnect()"
   ]
  },
  {
   "cell_type": "code",
   "execution_count": 23,
   "id": "41ef9556",
   "metadata": {},
   "outputs": [
    {
     "name": "stdout",
     "output_type": "stream",
     "text": [
      "Davi ;)\n",
      "None\n",
      "RT @PortalAnittaPT: 🇺🇸 iTunes US - Music Videos:\n",
      "\n",
      "#9. \"Faking Love\" (@Anitta ft. @Saweetie) [+3] *NP*\n",
      "\n",
      "*Este é o maior peak da cantora na p…\n",
      "----------------------------------------------------------------------------------------------------\n",
      "Maria Aparecida Cruz\n",
      "Rio de Janeiro, Brasil\n",
      "@gusttavo_lima Ilha Grande Angra dos Reis Rio de Janeiro bb tudo bem um abraço ate você meu anjo amado..\n",
      "----------------------------------------------------------------------------------------------------\n",
      "ᴊᴜɴɪᴏʀ ❤️‍🔥\n",
      "None\n",
      "RT @anittaonstats: \"Faking Love\" (#9) ultrapassou \"Me Gusta\" (#10) e agora é o maior peak de Anitta no iTunes Music Videos dos EUA. 🇺🇸 http…\n",
      "----------------------------------------------------------------------------------------------------\n"
     ]
    },
    {
     "name": "stderr",
     "output_type": "stream",
     "text": [
      "Stream connection closed by Twitter\n"
     ]
    },
    {
     "name": "stdout",
     "output_type": "stream",
     "text": [
      "lucnitter\n",
      "Girl from Rio \n",
      "@ArielleMacedo @Anitta @Saweetie Perfeitaaa\n",
      "----------------------------------------------------------------------------------------------------\n"
     ]
    }
   ],
   "source": [
    "minhaStream.filter(track=famosos, languages=['pt'], threaded=True)\n",
    "time.sleep(10)\n",
    "minhaStream.disconnect()"
   ]
  },
  {
   "cell_type": "markdown",
   "id": "4dfb14e0",
   "metadata": {},
   "source": [
    "## Autenticando no Azure"
   ]
  },
  {
   "cell_type": "code",
   "execution_count": 29,
   "id": "af19d5e6",
   "metadata": {},
   "outputs": [],
   "source": [
    "credentials = CognitiveServicesCredentials(appsettings.azure_key)"
   ]
  },
  {
   "cell_type": "code",
   "execution_count": 30,
   "id": "f466fee8",
   "metadata": {},
   "outputs": [],
   "source": [
    "client = ComputerVisionClient(appsettings.azure_endpoint, credentials)"
   ]
  },
  {
   "cell_type": "code",
   "execution_count": 31,
   "id": "9ff048b9",
   "metadata": {},
   "outputs": [
    {
     "data": {
      "text/plain": [
       "'3.2'"
      ]
     },
     "execution_count": 31,
     "metadata": {},
     "output_type": "execute_result"
    }
   ],
   "source": [
    "client.api_version"
   ]
  },
  {
   "cell_type": "markdown",
   "id": "3f6cb4e8",
   "metadata": {},
   "source": [
    "Nota: A versão utilizada está diferente da do curso, que é a 2.0."
   ]
  },
  {
   "cell_type": "markdown",
   "id": "fe90f064",
   "metadata": {},
   "source": [
    "### Testando a API\n",
    "\n",
    "A imagem testada será a seguinte:\n",
    "\n",
    "![](https://pbs.twimg.com/media/FBMJV3nXoAIx_VD.jpg)"
   ]
  },
  {
   "cell_type": "code",
   "execution_count": 36,
   "id": "46ddee81",
   "metadata": {},
   "outputs": [
    {
     "data": {
      "text/plain": [
       "<azure.cognitiveservices.vision.computervision.models._models_py3.ImageAnalysis at 0x221271e3730>"
      ]
     },
     "execution_count": 36,
     "metadata": {},
     "output_type": "execute_result"
    }
   ],
   "source": [
    "url_imagem = 'https://pbs.twimg.com/media/FBMJV3nXoAIx_VD.jpg'\n",
    "analise = client.analyze_image(url_imagem, visual_features=[VisualFeatureTypes.tags])\n",
    "analise"
   ]
  },
  {
   "cell_type": "markdown",
   "id": "2281769a",
   "metadata": {},
   "source": [
    "Doc para o código acima [aqui](https://docs.microsoft.com/en-us/python/api/azure-cognitiveservices-vision-computervision/azure.cognitiveservices.vision.computervision.operations.computervisionclientoperationsmixin?view=azure-python#analyze-image-url--visual-features-none--details-none--language--en---description-exclude-none--model-version--latest---custom-headers-none--raw-false----operation-config-). "
   ]
  },
  {
   "cell_type": "code",
   "execution_count": 37,
   "id": "15a198b6",
   "metadata": {},
   "outputs": [],
   "source": [
    "def visualizar_tags(analise):\n",
    "    for tag in analise.tags:\n",
    "        print(tag)"
   ]
  },
  {
   "cell_type": "code",
   "execution_count": 38,
   "id": "e5a5e1ef",
   "metadata": {},
   "outputs": [
    {
     "name": "stdout",
     "output_type": "stream",
     "text": [
      "{'additional_properties': {}, 'name': 'human face', 'confidence': 0.9991810321807861, 'hint': None}\n",
      "{'additional_properties': {}, 'name': 'person', 'confidence': 0.9987391233444214, 'hint': None}\n",
      "{'additional_properties': {}, 'name': 'clothing', 'confidence': 0.998247504234314, 'hint': None}\n",
      "{'additional_properties': {}, 'name': 'indoor', 'confidence': 0.9829006195068359, 'hint': None}\n",
      "{'additional_properties': {}, 'name': 'man', 'confidence': 0.9196755886077881, 'hint': None}\n",
      "{'additional_properties': {}, 'name': 'wall', 'confidence': 0.913384735584259, 'hint': None}\n",
      "{'additional_properties': {}, 'name': 'adult', 'confidence': 0.8899354934692383, 'hint': None}\n",
      "{'additional_properties': {}, 'name': 'smile', 'confidence': 0.8832885026931763, 'hint': None}\n",
      "{'additional_properties': {}, 'name': 'group', 'confidence': 0.861983060836792, 'hint': None}\n",
      "{'additional_properties': {}, 'name': 'people', 'confidence': 0.8594294190406799, 'hint': None}\n",
      "{'additional_properties': {}, 'name': 'sitting', 'confidence': 0.7392007112503052, 'hint': None}\n"
     ]
    }
   ],
   "source": [
    "visualizar_tags(analise)"
   ]
  },
  {
   "cell_type": "markdown",
   "id": "bc3a1705",
   "metadata": {},
   "source": [
    "Analisando abaixo com uma imagem da Ivete Sangalo porque a Tatá Wernek não é tão famosa assim."
   ]
  },
  {
   "cell_type": "code",
   "execution_count": 72,
   "id": "cc9ca9fe",
   "metadata": {},
   "outputs": [],
   "source": [
    "analise = client.analyze_image_by_domain('celebrities', 'https://pbs.twimg.com/media/FBXz1ciWQAIxuK3.jpg')"
   ]
  },
  {
   "cell_type": "code",
   "execution_count": 78,
   "id": "719bbc48",
   "metadata": {},
   "outputs": [
    {
     "data": {
      "text/plain": [
       "'Ivete Sangalo'"
      ]
     },
     "execution_count": 78,
     "metadata": {},
     "output_type": "execute_result"
    }
   ],
   "source": [
    "\", \".join([celeb['name'] for celeb in analise.result['celebrities']])"
   ]
  },
  {
   "cell_type": "code",
   "execution_count": 74,
   "id": "7eab55d5",
   "metadata": {},
   "outputs": [
    {
     "name": "stdout",
     "output_type": "stream",
     "text": [
      "Ivete Sangalo\n"
     ]
    }
   ],
   "source": [
    "for c in analise.result['celebrities']:\n",
    "    print(c['name'])"
   ]
  },
  {
   "cell_type": "markdown",
   "id": "b67db67f",
   "metadata": {},
   "source": [
    "Voltando para a Tatá.."
   ]
  },
  {
   "cell_type": "code",
   "execution_count": 50,
   "id": "997b1ffe",
   "metadata": {},
   "outputs": [],
   "source": [
    "analise = client.describe_image(url_imagem, 3, 'en')"
   ]
  },
  {
   "cell_type": "code",
   "execution_count": 52,
   "id": "d2996d13",
   "metadata": {},
   "outputs": [
    {
     "name": "stdout",
     "output_type": "stream",
     "text": [
      "{'additional_properties': {}, 'text': 'a group of people sitting in a room', 'confidence': 0.47708699107170105}\n"
     ]
    }
   ],
   "source": [
    "for desc in analise.captions:\n",
    "    print(desc)"
   ]
  },
  {
   "cell_type": "markdown",
   "id": "f1d1abaa",
   "metadata": {},
   "source": [
    "E a Ivete?"
   ]
  },
  {
   "cell_type": "code",
   "execution_count": 70,
   "id": "d8d84dfe",
   "metadata": {},
   "outputs": [
    {
     "name": "stdout",
     "output_type": "stream",
     "text": [
      "Ivete Sangalo taking a selfie in a mirror\n"
     ]
    }
   ],
   "source": [
    "analise = client.describe_image('https://pbs.twimg.com/media/FBXz1ciWQAIxuK3.jpg', 3, 'en')\n",
    "for desc in analise.captions:\n",
    "    print(desc)"
   ]
  },
  {
   "cell_type": "code",
   "execution_count": 60,
   "id": "06d431b0",
   "metadata": {},
   "outputs": [
    {
     "data": {
      "text/plain": [
       "'Ivete Sangalo taking a selfie in a mirror'"
      ]
     },
     "execution_count": 60,
     "metadata": {},
     "output_type": "execute_result"
    }
   ],
   "source": [
    "analise.captions[0].text"
   ]
  },
  {
   "cell_type": "markdown",
   "id": "454f5236",
   "metadata": {},
   "source": [
    "Para referência, foto da Ivete utilizada: ![](https://pbs.twimg.com/media/FBXz1ciWQAIxuK3.jpg)"
   ]
  },
  {
   "cell_type": "code",
   "execution_count": 54,
   "id": "3948ac78",
   "metadata": {},
   "outputs": [
    {
     "name": "stdout",
     "output_type": "stream",
     "text": [
      "{'additional_properties': {}, 'age': 32, 'gender': <Gender.male: 'Male'>, 'face_rectangle': <azure.cognitiveservices.vision.computervision.models._models_py3.FaceRectangle object at 0x0000022126F12A60>}\n",
      "{'additional_properties': {}, 'age': 25, 'gender': <Gender.female: 'Female'>, 'face_rectangle': <azure.cognitiveservices.vision.computervision.models._models_py3.FaceRectangle object at 0x0000022126F12610>}\n",
      "{'additional_properties': {}, 'age': 33, 'gender': <Gender.female: 'Female'>, 'face_rectangle': <azure.cognitiveservices.vision.computervision.models._models_py3.FaceRectangle object at 0x0000022126F12460>}\n"
     ]
    }
   ],
   "source": [
    "analise = client.analyze_image(url_imagem, visual_features=[VisualFeatureTypes.faces])\n",
    "for face in analise.faces:\n",
    "    print(face)"
   ]
  },
  {
   "cell_type": "markdown",
   "id": "28316c5b",
   "metadata": {},
   "source": [
    "## Twitter Streaming + Azure Computer Vision API"
   ]
  },
  {
   "cell_type": "code",
   "execution_count": 84,
   "id": "8be5c027",
   "metadata": {},
   "outputs": [],
   "source": [
    "class ImageListener(tw.Stream):\n",
    "    def on_status(self, status):\n",
    "        if('media' in status.entities):\n",
    "            print(f'Usuário: {status.user.name}')\n",
    "            print(f'Localização: {status.user.location}')    \n",
    "            print(f'Tweet: {status.text}')\n",
    "            \n",
    "            url = status.entities['media'][0]['media_url']\n",
    "            print(f'URL: {url}')\n",
    "            \n",
    "            description = client.describe_image(url, 1, 'en')\n",
    "            print(f'Caption: {description.captions[0].text}')\n",
    "            \n",
    "            analise_celebridades = client.analyze_image_by_domain('celebrities', url)\n",
    "            celebridades = \", \".join([celeb['name'] for celeb in analise_celebridades.result['celebrities']])\n",
    "            print(f'Celebridades: {celebridades}')\n",
    "            \n",
    "            print('\\n')\n",
    "            print(\"*\" * 100)\n",
    "            print('\\n')"
   ]
  },
  {
   "cell_type": "code",
   "execution_count": 85,
   "id": "b025b1ca",
   "metadata": {},
   "outputs": [],
   "source": [
    "imagemStream = ImageListener(\n",
    "    appsettings.consumer_key,\n",
    "    appsettings.consumer_secret, \n",
    "    appsettings.access_token,\n",
    "    appsettings.access_token_secret)"
   ]
  },
  {
   "cell_type": "code",
   "execution_count": 86,
   "id": "3266dae5",
   "metadata": {},
   "outputs": [
    {
     "name": "stdout",
     "output_type": "stream",
     "text": [
      "Usuário: gαbяiєl\n",
      "Localização: ele/dele\n",
      "Tweet: RT @AnittaChart: 🇧🇷 YouTube Brazil — Trends:\n",
      "\n",
      "#1. “Faking Love” (@Anitta ft. @Saweetie) [+14] *New Peak* https://t.co/YJSeaCXCPg\n",
      "URL: http://pbs.twimg.com/media/FByYtC0WYAIY4Q6.jpg\n",
      "Caption: a couple of women posing for the camera\n",
      "Celebridades: \n",
      "\n",
      "\n",
      "****************************************************************************************************\n",
      "\n",
      "\n",
      "Usuário: Robert 🍸🇧🇷\n",
      "Localização: Rio de Janeiro, Brasil\n",
      "Tweet: RT @UEFAcom_pt: 🇧🇷 Neymar continua criativo! 🔥\n",
      "\n",
      "Que nome dá a esta finta? 🤩\n",
      "\n",
      "@neymarjr | @PSGbrasil | #UCL https://t.co/v3yDbbLbH7\n",
      "URL: http://pbs.twimg.com/amplify_video_thumb/1449419871905886213/img/oX6e478LKfVu7kOI.jpg\n",
      "Caption: a couple of men playing football\n",
      "Celebridades: \n",
      "\n",
      "\n",
      "****************************************************************************************************\n",
      "\n",
      "\n",
      "Usuário: gugu ³⁰ 🫀| fancan’s no 📌 | PIRATA IS COMING\n",
      "Localização: Hogwarts 🦁🦡🐍🦅🚂🪄🦉🔮\n",
      "Tweet: @maisa PRIMA SEGUE EU PLEASE 😭😭😭😭\n",
      "\n",
      "https://t.co/r2pfOcDvN2\n",
      "URL: http://pbs.twimg.com/ext_tw_video_thumb/1444725951712083970/pu/img/M8XgYXTB6eMdJquz.jpg\n",
      "Caption: a person wearing a garment\n",
      "Celebridades: \n",
      "\n",
      "\n",
      "****************************************************************************************************\n",
      "\n",
      "\n",
      "Usuário: luquinhɑs bɑd\n",
      "Localização: Larissa.\n",
      "Tweet: nesse exato momento 150 rádios dos estados unidos estão ouvindo funk, anitta você sabe que venceu \n",
      "\n",
      " https://t.co/wNDYuTXEay\n",
      "URL: http://pbs.twimg.com/ext_tw_video_thumb/1449090213075116039/pu/img/RA_fTWWd30s5sMKa.jpg\n",
      "Caption: a woman with her mouth open\n",
      "Celebridades: \n",
      "\n",
      "\n",
      "****************************************************************************************************\n",
      "\n",
      "\n",
      "Usuário: 𝕷𝖎𝖕𝖊 ❤️‍🔥\n",
      "Localização: Anitta\n",
      "Tweet: @KISSFMPhoenix @Anitta A great queen without her crown! Have you ever heard faking love today?\n",
      "https://t.co/AVnUEJbyeQ\n",
      "URL: http://pbs.twimg.com/ext_tw_video_thumb/1449058684311572484/pu/img/9JaqO3IQfkWXKQos.jpg\n",
      "Caption: a couple of women in garment\n",
      "Celebridades: \n",
      "\n",
      "\n",
      "****************************************************************************************************\n",
      "\n",
      "\n",
      "Usuário: Pedro ❤️🔥\n",
      "Localização: None\n",
      "Tweet: Funk tocando em mais de 150 rádios americanas, Anitta vc sabe que venceu https://t.co/RvQokeJfuR\n",
      "URL: http://pbs.twimg.com/ext_tw_video_thumb/1449094633280188424/pu/img/lJMSdr-RHki7ChlD.jpg\n",
      "Caption: a group of people dancing\n",
      "Celebridades: \n",
      "\n",
      "\n",
      "****************************************************************************************************\n",
      "\n",
      "\n",
      "Usuário: 𝕳𝖊𝖓𝖗𝖎 ❤️‍🔥\n",
      "Localização: from Rio\n",
      "Tweet: @MostRequestLive @AcessoAnittaR @Anitta @Saweetie @OnAirRomeo you’re the bests! Thank u so so so much ❤️❤️❤️❤️❤️❤️ https://t.co/jlTXxVR9lM\n",
      "URL: http://pbs.twimg.com/tweet_video_thumb/FB3CyFUX0AoddBY.jpg\n",
      "Caption: a person with the eyes closed\n",
      "Celebridades: \n",
      "\n",
      "\n",
      "****************************************************************************************************\n",
      "\n",
      "\n",
      "Usuário: Lu Camargo\n",
      "Localização: None\n",
      "Tweet: @MostRequestLive @Anitta @Saweetie @OnAirRomeo Thank u https://t.co/9MTq60Su8y\n",
      "URL: http://pbs.twimg.com/tweet_video_thumb/FB3C1YbXMAMBE0O.jpg\n",
      "Caption: a man and woman sitting on a couch\n",
      "Celebridades: \n",
      "\n",
      "\n",
      "****************************************************************************************************\n",
      "\n",
      "\n",
      "Usuário: Yaniss II\n",
      "Localização: None\n",
      "Tweet: RT @CBF_Futebol: Gol 7⃣0⃣ de @neymarjr com a amarelinha! Mais uma marca do nosso 10 ⚽️🇧🇷 https://t.co/qiP11WdtoL\n",
      "URL: http://pbs.twimg.com/ext_tw_video_thumb/1449425939541250048/pu/img/UxrlsCrIFIyz6acv.jpg\n",
      "Caption: a group of men playing football\n",
      "Celebridades: \n",
      "\n",
      "\n",
      "****************************************************************************************************\n",
      "\n",
      "\n",
      "Usuário: Joao Batista FROM RIO\n",
      "Localização: Brasil \n",
      "Tweet: RT @StatsSaweetie: .@Anitta &amp; @Saweetie’s “Faking Love” debuts on Spotify with 1,516,345 unfiltered streams. https://t.co/OjPxrTKVKz\n",
      "URL: http://pbs.twimg.com/tweet_video_thumb/FB1RUx6WEAEDQg0.jpg\n",
      "Caption: a man and woman on a motorcycle\n",
      "Celebridades: \n",
      "\n",
      "\n",
      "****************************************************************************************************\n",
      "\n",
      "\n",
      "Usuário: 𝕳𝖊𝖓𝖗𝖎 ❤️‍🔥\n",
      "Localização: from Rio\n",
      "Tweet: @MostRequestLive @AcessoAnittaR @Anitta @Saweetie @OnAirRomeo you’re the besties! Thank u so so so much ❤️❤️❤️❤️ https://t.co/sMLhIY7voJ\n",
      "URL: http://pbs.twimg.com/tweet_video_thumb/FB3C7S8WEAIkHuU.jpg\n",
      "Caption: a person with the eyes closed\n",
      "Celebridades: \n",
      "\n",
      "\n",
      "****************************************************************************************************\n",
      "\n",
      "\n",
      "Usuário: rafa\n",
      "Localização: None\n",
      "Tweet: @MostRequestLive https://t.co/LkHzo0O1GH Hey, @OnAirRomeo, @JayMacRadio @t_brat, and @BennettOnAir We'd love to enj… https://t.co/fwfH65stzL\n",
      "URL: http://pbs.twimg.com/tweet_video_thumb/FB20w4YXIAAlrGM.jpg\n",
      "Caption: a person on a motorcycle with a person on the back\n",
      "Celebridades: \n",
      "\n",
      "\n",
      "****************************************************************************************************\n",
      "\n",
      "\n"
     ]
    },
    {
     "name": "stderr",
     "output_type": "stream",
     "text": [
      "Stream connection closed by Twitter\n"
     ]
    }
   ],
   "source": [
    "imagemStream.filter(track=famosos, languages=['pt', 'en'], threaded=True)\n",
    "time.sleep(120)\n",
    "imagemStream.disconnect()"
   ]
  },
  {
   "cell_type": "code",
   "execution_count": null,
   "id": "a7ba6e36",
   "metadata": {},
   "outputs": [],
   "source": []
  }
 ],
 "metadata": {
  "interpreter": {
   "hash": "5d8406cfaedcdf0eaa4a44a61b5b4d06f47db5698936240ac59b59333d280fd9"
  },
  "kernelspec": {
   "display_name": "Python 3.10.0 64-bit",
   "name": "python3"
  },
  "language_info": {
   "codemirror_mode": {
    "name": "ipython",
    "version": 3
   },
   "file_extension": ".py",
   "mimetype": "text/x-python",
   "name": "python",
   "nbconvert_exporter": "python",
   "pygments_lexer": "ipython3",
   "version": "3.10.0"
  }
 },
 "nbformat": 4,
 "nbformat_minor": 5
}
