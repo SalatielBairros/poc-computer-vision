{
 "cells": [
  {
   "cell_type": "markdown",
   "id": "a6d77052",
   "metadata": {},
   "source": [
    "# Reconhecimento de imagens: Twitter e computer Vision API\n",
    "\n",
    "Baseado no curso da Alura disponível [aqui](https://cursos.alura.com.br/course/reconhecimento-imagens/)."
   ]
  },
  {
   "cell_type": "markdown",
   "id": "1a46e7e8",
   "metadata": {},
   "source": [
    "## Configurando o ambiente"
   ]
  },
  {
   "cell_type": "code",
   "execution_count": 1,
   "id": "94259427",
   "metadata": {},
   "outputs": [
    {
     "name": "stdout",
     "output_type": "stream",
     "text": [
      "Requirement already satisfied: tweepy in c:\\programdata\\anaconda3\\lib\\site-packages (4.1.0)\n",
      "Requirement already satisfied: requests<3,>=2.11.1 in c:\\programdata\\anaconda3\\lib\\site-packages (from tweepy) (2.25.1)\n",
      "Requirement already satisfied: requests-oauthlib<2,>=1.0.0 in c:\\programdata\\anaconda3\\lib\\site-packages (from tweepy) (1.3.0)\n",
      "Requirement already satisfied: urllib3<1.27,>=1.21.1 in c:\\programdata\\anaconda3\\lib\\site-packages (from requests<3,>=2.11.1->tweepy) (1.26.4)\n",
      "Requirement already satisfied: idna<3,>=2.5 in c:\\programdata\\anaconda3\\lib\\site-packages (from requests<3,>=2.11.1->tweepy) (2.10)\n",
      "Requirement already satisfied: chardet<5,>=3.0.2 in c:\\programdata\\anaconda3\\lib\\site-packages (from requests<3,>=2.11.1->tweepy) (4.0.0)\n",
      "Requirement already satisfied: certifi>=2017.4.17 in c:\\programdata\\anaconda3\\lib\\site-packages (from requests<3,>=2.11.1->tweepy) (2020.12.5)\n",
      "Requirement already satisfied: oauthlib>=3.0.0 in c:\\programdata\\anaconda3\\lib\\site-packages (from requests-oauthlib<2,>=1.0.0->tweepy) (3.1.1)\n"
     ]
    },
    {
     "name": "stderr",
     "output_type": "stream",
     "text": [
      "WARNING: Ignoring invalid distribution -ltk (c:\\programdata\\anaconda3\\lib\\site-packages)\n",
      "WARNING: Ignoring invalid distribution -ltk (c:\\programdata\\anaconda3\\lib\\site-packages)\n",
      "WARNING: You are using pip version 21.3; however, version 21.3.1 is available.\n",
      "You should consider upgrading via the 'C:\\ProgramData\\Anaconda3\\python.exe -m pip install --upgrade pip' command.\n"
     ]
    },
    {
     "name": "stdout",
     "output_type": "stream",
     "text": [
      "Requirement already satisfied: azure-cognitiveservices-vision-computervision in c:\\programdata\\anaconda3\\lib\\site-packages (0.9.0)\n",
      "Requirement already satisfied: azure-common~=1.1 in c:\\programdata\\anaconda3\\lib\\site-packages (from azure-cognitiveservices-vision-computervision) (1.1.27)\n",
      "Requirement already satisfied: msrest>=0.5.0 in c:\\programdata\\anaconda3\\lib\\site-packages (from azure-cognitiveservices-vision-computervision) (0.6.21)\n",
      "Requirement already satisfied: requests-oauthlib>=0.5.0 in c:\\programdata\\anaconda3\\lib\\site-packages (from msrest>=0.5.0->azure-cognitiveservices-vision-computervision) (1.3.0)\n",
      "Requirement already satisfied: requests~=2.16 in c:\\programdata\\anaconda3\\lib\\site-packages (from msrest>=0.5.0->azure-cognitiveservices-vision-computervision) (2.25.1)\n",
      "Requirement already satisfied: certifi>=2017.4.17 in c:\\programdata\\anaconda3\\lib\\site-packages (from msrest>=0.5.0->azure-cognitiveservices-vision-computervision) (2020.12.5)\n",
      "Requirement already satisfied: isodate>=0.6.0 in c:\\programdata\\anaconda3\\lib\\site-packages (from msrest>=0.5.0->azure-cognitiveservices-vision-computervision) (0.6.0)\n",
      "Requirement already satisfied: six in c:\\programdata\\anaconda3\\lib\\site-packages (from isodate>=0.6.0->msrest>=0.5.0->azure-cognitiveservices-vision-computervision) (1.15.0)\n",
      "Requirement already satisfied: urllib3<1.27,>=1.21.1 in c:\\programdata\\anaconda3\\lib\\site-packages (from requests~=2.16->msrest>=0.5.0->azure-cognitiveservices-vision-computervision) (1.26.4)\n",
      "Requirement already satisfied: chardet<5,>=3.0.2 in c:\\programdata\\anaconda3\\lib\\site-packages (from requests~=2.16->msrest>=0.5.0->azure-cognitiveservices-vision-computervision) (4.0.0)\n",
      "Requirement already satisfied: idna<3,>=2.5 in c:\\programdata\\anaconda3\\lib\\site-packages (from requests~=2.16->msrest>=0.5.0->azure-cognitiveservices-vision-computervision) (2.10)\n",
      "Requirement already satisfied: oauthlib>=3.0.0 in c:\\programdata\\anaconda3\\lib\\site-packages (from requests-oauthlib>=0.5.0->msrest>=0.5.0->azure-cognitiveservices-vision-computervision) (3.1.1)\n"
     ]
    },
    {
     "name": "stderr",
     "output_type": "stream",
     "text": [
      "WARNING: Ignoring invalid distribution -ltk (c:\\programdata\\anaconda3\\lib\\site-packages)\n",
      "WARNING: Ignoring invalid distribution -ltk (c:\\programdata\\anaconda3\\lib\\site-packages)\n",
      "WARNING: You are using pip version 21.3; however, version 21.3.1 is available.\n",
      "You should consider upgrading via the 'C:\\ProgramData\\Anaconda3\\python.exe -m pip install --upgrade pip' command.\n"
     ]
    },
    {
     "name": "stdout",
     "output_type": "stream",
     "text": [
      "Requirement already satisfied: pillow in c:\\programdata\\anaconda3\\lib\\site-packages (8.2.0)\n"
     ]
    },
    {
     "name": "stderr",
     "output_type": "stream",
     "text": [
      "WARNING: Ignoring invalid distribution -ltk (c:\\programdata\\anaconda3\\lib\\site-packages)\n",
      "WARNING: Ignoring invalid distribution -ltk (c:\\programdata\\anaconda3\\lib\\site-packages)\n",
      "WARNING: You are using pip version 21.3; however, version 21.3.1 is available.\n",
      "You should consider upgrading via the 'C:\\ProgramData\\Anaconda3\\python.exe -m pip install --upgrade pip' command.\n"
     ]
    }
   ],
   "source": [
    "!pip install tweepy\n",
    "!pip install --upgrade azure-cognitiveservices-vision-computervision\n",
    "!pip install pillow"
   ]
  },
  {
   "cell_type": "code",
   "execution_count": 2,
   "id": "2d955c8b",
   "metadata": {},
   "outputs": [],
   "source": [
    "import tweepy as tw\n",
    "import json\n",
    "from types import SimpleNamespace\n",
    "import time\n",
    "from azure.cognitiveservices.vision.computervision import ComputerVisionClient \n",
    "from msrest.authentication import CognitiveServicesCredentials\n",
    "from azure.cognitiveservices.vision.computervision.models import VisualFeatureTypes, Details"
   ]
  },
  {
   "cell_type": "markdown",
   "id": "04774b85",
   "metadata": {},
   "source": [
    "### Carregando dados do twitter do json\n",
    "\n",
    "Essa parte não faz parte do curso, mas estou desenvolvendo assim para não colocar as informações do app do twitter diretamente no código.\n",
    "\n",
    "O código abaixo foi baseado [aqui](https://stackoverflow.com/questions/6578986/how-to-convert-json-data-into-a-python-object)."
   ]
  },
  {
   "cell_type": "code",
   "execution_count": 3,
   "id": "ab03f4b4",
   "metadata": {},
   "outputs": [],
   "source": [
    "appsettings = {}\n",
    "\n",
    "with open('appsettings.json') as f:\n",
    "    appsettings = json.loads(f.read(), object_hook=lambda d: SimpleNamespace(**d))"
   ]
  },
  {
   "cell_type": "markdown",
   "id": "c77eb9d7",
   "metadata": {},
   "source": [
    "### Configurando acesso ao twitter"
   ]
  },
  {
   "cell_type": "code",
   "execution_count": 4,
   "id": "caa89463",
   "metadata": {},
   "outputs": [],
   "source": [
    "auth = tw.OAuthHandler(appsettings.consumer_key, appsettings.consumer_secret)"
   ]
  },
  {
   "cell_type": "code",
   "execution_count": 5,
   "id": "58451d1f",
   "metadata": {},
   "outputs": [],
   "source": [
    "auth.set_access_token(appsettings.access_token, appsettings.access_token_secret)"
   ]
  },
  {
   "cell_type": "markdown",
   "id": "093facea",
   "metadata": {},
   "source": [
    "Testando a conexão:"
   ]
  },
  {
   "cell_type": "code",
   "execution_count": 6,
   "id": "ef800bb9",
   "metadata": {
    "scrolled": true
   },
   "outputs": [
    {
     "data": {
      "text/plain": [
       "Status(_api=<tweepy.api.API object at 0x0000026295C82430>, _json={'created_at': 'Tue Oct 26 22:21:11 +0000 2021', 'id': 1453124575278080000, 'id_str': '1453124575278080000', 'text': 'Esse outro tweet foi feito através de um bot.', 'truncated': False, 'entities': {'hashtags': [], 'symbols': [], 'user_mentions': [], 'urls': []}, 'source': '<a href=\"https://github.com/SalatielBairros\" rel=\"nofollow\">PucDataRecovery</a>', 'in_reply_to_status_id': None, 'in_reply_to_status_id_str': None, 'in_reply_to_user_id': None, 'in_reply_to_user_id_str': None, 'in_reply_to_screen_name': None, 'user': {'id': 106542286, 'id_str': '106542286', 'name': 'Salatiel Bairros', 'screen_name': 'SalatielB', 'location': 'Porto Alegre, RS', 'description': 'Cristão, marido, pai, desenvolvedor de software e apaixonado por teologia. Pós-graduando em Inteligência Artificial e Aprendizado de Máquina pela PUC-MG.', 'url': 'https://t.co/lTLEmGx31v', 'entities': {'url': {'urls': [{'url': 'https://t.co/lTLEmGx31v', 'expanded_url': 'https://medium.com/salatiel-bairros/', 'display_url': 'medium.com/salatiel-bairr…', 'indices': [0, 23]}]}, 'description': {'urls': []}}, 'protected': False, 'followers_count': 146, 'friends_count': 145, 'listed_count': 2, 'created_at': 'Tue Jan 19 22:21:18 +0000 2010', 'favourites_count': 12174, 'utc_offset': None, 'time_zone': None, 'geo_enabled': True, 'verified': False, 'statuses_count': 17274, 'lang': None, 'contributors_enabled': False, 'is_translator': False, 'is_translation_enabled': False, 'profile_background_color': '131516', 'profile_background_image_url': 'http://abs.twimg.com/images/themes/theme14/bg.gif', 'profile_background_image_url_https': 'https://abs.twimg.com/images/themes/theme14/bg.gif', 'profile_background_tile': True, 'profile_image_url': 'http://pbs.twimg.com/profile_images/1100152002724663296/qlBmvOf4_normal.png', 'profile_image_url_https': 'https://pbs.twimg.com/profile_images/1100152002724663296/qlBmvOf4_normal.png', 'profile_banner_url': 'https://pbs.twimg.com/profile_banners/106542286/1551131725', 'profile_link_color': 'E81C4F', 'profile_sidebar_border_color': 'EEEEEE', 'profile_sidebar_fill_color': 'EFEFEF', 'profile_text_color': '333333', 'profile_use_background_image': True, 'has_extended_profile': True, 'default_profile': False, 'default_profile_image': False, 'following': False, 'follow_request_sent': False, 'notifications': False, 'translator_type': 'none', 'withheld_in_countries': []}, 'geo': None, 'coordinates': None, 'place': None, 'contributors': None, 'is_quote_status': False, 'retweet_count': 0, 'favorite_count': 0, 'favorited': False, 'retweeted': False, 'lang': 'pt'}, created_at=datetime.datetime(2021, 10, 26, 22, 21, 11, tzinfo=datetime.timezone.utc), id=1453124575278080000, id_str='1453124575278080000', text='Esse outro tweet foi feito através de um bot.', truncated=False, entities={'hashtags': [], 'symbols': [], 'user_mentions': [], 'urls': []}, source='PucDataRecovery', source_url='https://github.com/SalatielBairros', in_reply_to_status_id=None, in_reply_to_status_id_str=None, in_reply_to_user_id=None, in_reply_to_user_id_str=None, in_reply_to_screen_name=None, author=User(_api=<tweepy.api.API object at 0x0000026295C82430>, _json={'id': 106542286, 'id_str': '106542286', 'name': 'Salatiel Bairros', 'screen_name': 'SalatielB', 'location': 'Porto Alegre, RS', 'description': 'Cristão, marido, pai, desenvolvedor de software e apaixonado por teologia. Pós-graduando em Inteligência Artificial e Aprendizado de Máquina pela PUC-MG.', 'url': 'https://t.co/lTLEmGx31v', 'entities': {'url': {'urls': [{'url': 'https://t.co/lTLEmGx31v', 'expanded_url': 'https://medium.com/salatiel-bairros/', 'display_url': 'medium.com/salatiel-bairr…', 'indices': [0, 23]}]}, 'description': {'urls': []}}, 'protected': False, 'followers_count': 146, 'friends_count': 145, 'listed_count': 2, 'created_at': 'Tue Jan 19 22:21:18 +0000 2010', 'favourites_count': 12174, 'utc_offset': None, 'time_zone': None, 'geo_enabled': True, 'verified': False, 'statuses_count': 17274, 'lang': None, 'contributors_enabled': False, 'is_translator': False, 'is_translation_enabled': False, 'profile_background_color': '131516', 'profile_background_image_url': 'http://abs.twimg.com/images/themes/theme14/bg.gif', 'profile_background_image_url_https': 'https://abs.twimg.com/images/themes/theme14/bg.gif', 'profile_background_tile': True, 'profile_image_url': 'http://pbs.twimg.com/profile_images/1100152002724663296/qlBmvOf4_normal.png', 'profile_image_url_https': 'https://pbs.twimg.com/profile_images/1100152002724663296/qlBmvOf4_normal.png', 'profile_banner_url': 'https://pbs.twimg.com/profile_banners/106542286/1551131725', 'profile_link_color': 'E81C4F', 'profile_sidebar_border_color': 'EEEEEE', 'profile_sidebar_fill_color': 'EFEFEF', 'profile_text_color': '333333', 'profile_use_background_image': True, 'has_extended_profile': True, 'default_profile': False, 'default_profile_image': False, 'following': False, 'follow_request_sent': False, 'notifications': False, 'translator_type': 'none', 'withheld_in_countries': []}, id=106542286, id_str='106542286', name='Salatiel Bairros', screen_name='SalatielB', location='Porto Alegre, RS', description='Cristão, marido, pai, desenvolvedor de software e apaixonado por teologia. Pós-graduando em Inteligência Artificial e Aprendizado de Máquina pela PUC-MG.', url='https://t.co/lTLEmGx31v', entities={'url': {'urls': [{'url': 'https://t.co/lTLEmGx31v', 'expanded_url': 'https://medium.com/salatiel-bairros/', 'display_url': 'medium.com/salatiel-bairr…', 'indices': [0, 23]}]}, 'description': {'urls': []}}, protected=False, followers_count=146, friends_count=145, listed_count=2, created_at=datetime.datetime(2010, 1, 19, 22, 21, 18, tzinfo=datetime.timezone.utc), favourites_count=12174, utc_offset=None, time_zone=None, geo_enabled=True, verified=False, statuses_count=17274, lang=None, contributors_enabled=False, is_translator=False, is_translation_enabled=False, profile_background_color='131516', profile_background_image_url='http://abs.twimg.com/images/themes/theme14/bg.gif', profile_background_image_url_https='https://abs.twimg.com/images/themes/theme14/bg.gif', profile_background_tile=True, profile_image_url='http://pbs.twimg.com/profile_images/1100152002724663296/qlBmvOf4_normal.png', profile_image_url_https='https://pbs.twimg.com/profile_images/1100152002724663296/qlBmvOf4_normal.png', profile_banner_url='https://pbs.twimg.com/profile_banners/106542286/1551131725', profile_link_color='E81C4F', profile_sidebar_border_color='EEEEEE', profile_sidebar_fill_color='EFEFEF', profile_text_color='333333', profile_use_background_image=True, has_extended_profile=True, default_profile=False, default_profile_image=False, following=False, follow_request_sent=False, notifications=False, translator_type='none', withheld_in_countries=[]), user=User(_api=<tweepy.api.API object at 0x0000026295C82430>, _json={'id': 106542286, 'id_str': '106542286', 'name': 'Salatiel Bairros', 'screen_name': 'SalatielB', 'location': 'Porto Alegre, RS', 'description': 'Cristão, marido, pai, desenvolvedor de software e apaixonado por teologia. Pós-graduando em Inteligência Artificial e Aprendizado de Máquina pela PUC-MG.', 'url': 'https://t.co/lTLEmGx31v', 'entities': {'url': {'urls': [{'url': 'https://t.co/lTLEmGx31v', 'expanded_url': 'https://medium.com/salatiel-bairros/', 'display_url': 'medium.com/salatiel-bairr…', 'indices': [0, 23]}]}, 'description': {'urls': []}}, 'protected': False, 'followers_count': 146, 'friends_count': 145, 'listed_count': 2, 'created_at': 'Tue Jan 19 22:21:18 +0000 2010', 'favourites_count': 12174, 'utc_offset': None, 'time_zone': None, 'geo_enabled': True, 'verified': False, 'statuses_count': 17274, 'lang': None, 'contributors_enabled': False, 'is_translator': False, 'is_translation_enabled': False, 'profile_background_color': '131516', 'profile_background_image_url': 'http://abs.twimg.com/images/themes/theme14/bg.gif', 'profile_background_image_url_https': 'https://abs.twimg.com/images/themes/theme14/bg.gif', 'profile_background_tile': True, 'profile_image_url': 'http://pbs.twimg.com/profile_images/1100152002724663296/qlBmvOf4_normal.png', 'profile_image_url_https': 'https://pbs.twimg.com/profile_images/1100152002724663296/qlBmvOf4_normal.png', 'profile_banner_url': 'https://pbs.twimg.com/profile_banners/106542286/1551131725', 'profile_link_color': 'E81C4F', 'profile_sidebar_border_color': 'EEEEEE', 'profile_sidebar_fill_color': 'EFEFEF', 'profile_text_color': '333333', 'profile_use_background_image': True, 'has_extended_profile': True, 'default_profile': False, 'default_profile_image': False, 'following': False, 'follow_request_sent': False, 'notifications': False, 'translator_type': 'none', 'withheld_in_countries': []}, id=106542286, id_str='106542286', name='Salatiel Bairros', screen_name='SalatielB', location='Porto Alegre, RS', description='Cristão, marido, pai, desenvolvedor de software e apaixonado por teologia. Pós-graduando em Inteligência Artificial e Aprendizado de Máquina pela PUC-MG.', url='https://t.co/lTLEmGx31v', entities={'url': {'urls': [{'url': 'https://t.co/lTLEmGx31v', 'expanded_url': 'https://medium.com/salatiel-bairros/', 'display_url': 'medium.com/salatiel-bairr…', 'indices': [0, 23]}]}, 'description': {'urls': []}}, protected=False, followers_count=146, friends_count=145, listed_count=2, created_at=datetime.datetime(2010, 1, 19, 22, 21, 18, tzinfo=datetime.timezone.utc), favourites_count=12174, utc_offset=None, time_zone=None, geo_enabled=True, verified=False, statuses_count=17274, lang=None, contributors_enabled=False, is_translator=False, is_translation_enabled=False, profile_background_color='131516', profile_background_image_url='http://abs.twimg.com/images/themes/theme14/bg.gif', profile_background_image_url_https='https://abs.twimg.com/images/themes/theme14/bg.gif', profile_background_tile=True, profile_image_url='http://pbs.twimg.com/profile_images/1100152002724663296/qlBmvOf4_normal.png', profile_image_url_https='https://pbs.twimg.com/profile_images/1100152002724663296/qlBmvOf4_normal.png', profile_banner_url='https://pbs.twimg.com/profile_banners/106542286/1551131725', profile_link_color='E81C4F', profile_sidebar_border_color='EEEEEE', profile_sidebar_fill_color='EFEFEF', profile_text_color='333333', profile_use_background_image=True, has_extended_profile=True, default_profile=False, default_profile_image=False, following=False, follow_request_sent=False, notifications=False, translator_type='none', withheld_in_countries=[]), geo=None, coordinates=None, place=None, contributors=None, is_quote_status=False, retweet_count=0, favorite_count=0, favorited=False, retweeted=False, lang='pt')"
      ]
     },
     "execution_count": 6,
     "metadata": {},
     "output_type": "execute_result"
    }
   ],
   "source": [
    "api = tw.API(auth)\n",
    "tweet = api.update_status(\"Esse outro tweet foi feito através de um bot.\")\n",
    "tweet"
   ]
  },
  {
   "cell_type": "code",
   "execution_count": 7,
   "id": "f12512aa",
   "metadata": {
    "scrolled": true
   },
   "outputs": [
    {
     "data": {
      "text/plain": [
       "{'created_at': 'Tue Oct 26 22:21:11 +0000 2021',\n",
       " 'id': 1453124575278080000,\n",
       " 'id_str': '1453124575278080000',\n",
       " 'text': 'Esse outro tweet foi feito através de um bot.',\n",
       " 'truncated': False,\n",
       " 'entities': {'hashtags': [], 'symbols': [], 'user_mentions': [], 'urls': []},\n",
       " 'source': '<a href=\"https://github.com/SalatielBairros\" rel=\"nofollow\">PucDataRecovery</a>',\n",
       " 'in_reply_to_status_id': None,\n",
       " 'in_reply_to_status_id_str': None,\n",
       " 'in_reply_to_user_id': None,\n",
       " 'in_reply_to_user_id_str': None,\n",
       " 'in_reply_to_screen_name': None,\n",
       " 'user': {'id': 106542286,\n",
       "  'id_str': '106542286',\n",
       "  'name': 'Salatiel Bairros',\n",
       "  'screen_name': 'SalatielB',\n",
       "  'location': 'Porto Alegre, RS',\n",
       "  'description': 'Cristão, marido, pai, desenvolvedor de software e apaixonado por teologia. Pós-graduando em Inteligência Artificial e Aprendizado de Máquina pela PUC-MG.',\n",
       "  'url': 'https://t.co/lTLEmGx31v',\n",
       "  'entities': {'url': {'urls': [{'url': 'https://t.co/lTLEmGx31v',\n",
       "      'expanded_url': 'https://medium.com/salatiel-bairros/',\n",
       "      'display_url': 'medium.com/salatiel-bairr…',\n",
       "      'indices': [0, 23]}]},\n",
       "   'description': {'urls': []}},\n",
       "  'protected': False,\n",
       "  'followers_count': 146,\n",
       "  'friends_count': 145,\n",
       "  'listed_count': 2,\n",
       "  'created_at': 'Tue Jan 19 22:21:18 +0000 2010',\n",
       "  'favourites_count': 12174,\n",
       "  'utc_offset': None,\n",
       "  'time_zone': None,\n",
       "  'geo_enabled': True,\n",
       "  'verified': False,\n",
       "  'statuses_count': 17274,\n",
       "  'lang': None,\n",
       "  'contributors_enabled': False,\n",
       "  'is_translator': False,\n",
       "  'is_translation_enabled': False,\n",
       "  'profile_background_color': '131516',\n",
       "  'profile_background_image_url': 'http://abs.twimg.com/images/themes/theme14/bg.gif',\n",
       "  'profile_background_image_url_https': 'https://abs.twimg.com/images/themes/theme14/bg.gif',\n",
       "  'profile_background_tile': True,\n",
       "  'profile_image_url': 'http://pbs.twimg.com/profile_images/1100152002724663296/qlBmvOf4_normal.png',\n",
       "  'profile_image_url_https': 'https://pbs.twimg.com/profile_images/1100152002724663296/qlBmvOf4_normal.png',\n",
       "  'profile_banner_url': 'https://pbs.twimg.com/profile_banners/106542286/1551131725',\n",
       "  'profile_link_color': 'E81C4F',\n",
       "  'profile_sidebar_border_color': 'EEEEEE',\n",
       "  'profile_sidebar_fill_color': 'EFEFEF',\n",
       "  'profile_text_color': '333333',\n",
       "  'profile_use_background_image': True,\n",
       "  'has_extended_profile': True,\n",
       "  'default_profile': False,\n",
       "  'default_profile_image': False,\n",
       "  'following': False,\n",
       "  'follow_request_sent': False,\n",
       "  'notifications': False,\n",
       "  'translator_type': 'none',\n",
       "  'withheld_in_countries': []},\n",
       " 'geo': None,\n",
       " 'coordinates': None,\n",
       " 'place': None,\n",
       " 'contributors': None,\n",
       " 'is_quote_status': False,\n",
       " 'retweet_count': 0,\n",
       " 'favorite_count': 0,\n",
       " 'favorited': False,\n",
       " 'retweeted': False,\n",
       " 'lang': 'pt'}"
      ]
     },
     "execution_count": 7,
     "metadata": {},
     "output_type": "execute_result"
    }
   ],
   "source": [
    "tweet._json"
   ]
  },
  {
   "cell_type": "markdown",
   "id": "35b90ac5",
   "metadata": {},
   "source": [
    "## Pesquisando Tweets"
   ]
  },
  {
   "cell_type": "code",
   "execution_count": 8,
   "id": "af4e11b5",
   "metadata": {},
   "outputs": [
    {
     "data": {
      "text/plain": [
       "<tweepy.cursor.ItemIterator at 0x26295ca4d60>"
      ]
     },
     "execution_count": 8,
     "metadata": {},
     "output_type": "execute_result"
    }
   ],
   "source": [
    "tweets = tw.Cursor(api.search_tweets, q='data science', lang='pt', result_type = \"recent\").items(100)\n",
    "tweets"
   ]
  },
  {
   "cell_type": "code",
   "execution_count": 9,
   "id": "fff585c9",
   "metadata": {},
   "outputs": [
    {
     "name": "stdout",
     "output_type": "stream",
     "text": [
      "Principe do Oceano\n",
      "Ceará, Brazil\n",
      "RT @guilhermecaelum: Inscrições abertas para o Bootcamp Data Science da \n",
      "@AluraOnline comigo :)!\n",
      "\n",
      "Serão 12 semanas de muito conteúdo, proje…\n",
      "----------------------------------------------------------------------------------------------------\n",
      "b\n",
      "sp\n",
      "daí eu tbm faço parte do comitê de diversidade e a gente tem umas ações muito maneiras; tô ajudando a organizar uma… https://t.co/OFlKC68pqI\n",
      "----------------------------------------------------------------------------------------------------\n",
      "Polliany Reis\n",
      "\n",
      "Consegui bolsa para cursar MBA em Data Science na USP, eu estou chocada!!! Deus é muito bom ❤️❤️🙏🏾🙏🏾\n",
      "----------------------------------------------------------------------------------------------------\n",
      "Pedro G.B.\n",
      "Goiânia\n",
      "@renatobsantiago @GustavowlKoruja Em muitas áreas como IA e Data Science uma pós-graduação faz muita diferença, olh… https://t.co/NXz9ckT2dn\n",
      "----------------------------------------------------------------------------------------------------\n",
      "Síndrome de Estoucalmo\n",
      "Caieiras - SP\n",
      "@julianefurno Pessoal queria que Marx, além de tudo, fosse profícuo em data science.\n",
      "----------------------------------------------------------------------------------------------------\n",
      "curso-r\n",
      "São Paulo, Brasil\n",
      "RT @Tai_Rocha_: Fui selecionada via bolsa de diversidade de gênero para fazer o curso R para Ciência de Dados c/  @curso_r ! Tô felizona!…\n",
      "----------------------------------------------------------------------------------------------------\n",
      "Vudu Reverso 🌹\n",
      "Uberlândia, Brasil\n",
      "@soelendipp Eu desisti tb. Liberal, bolsominion e petista. Depois que parei de gastar tempo com esse povo, voltei a… https://t.co/wbnMY580zU\n",
      "----------------------------------------------------------------------------------------------------\n",
      "Tainá\n",
      "Brasil\n",
      "Fui selecionada via bolsa de diversidade de gênero para fazer o curso R para Ciência de Dados c/  @curso_r ! Tô fel… https://t.co/MYnSpdEKNc\n",
      "----------------------------------------------------------------------------------------------------\n",
      "Iaguito\n",
      "São Paulo, Brasil\n",
      "@MMercucci Ela faz a data science dela💁‍♀️\n",
      "----------------------------------------------------------------------------------------------------\n",
      "Thiago G. Santos\n",
      "Brazil\n",
      "RT @guilhermecaelum: Inscrições abertas para o Bootcamp Data Science da \n",
      "@AluraOnline comigo :)!\n",
      "\n",
      "Serão 12 semanas de muito conteúdo, proje…\n",
      "----------------------------------------------------------------------------------------------------\n",
      "Maurício Linhares\n",
      "Winter Garden, FL\n",
      "RT @guilhermecaelum: Inscrições abertas para o Bootcamp Data Science da \n",
      "@AluraOnline comigo :)!\n",
      "\n",
      "Serão 12 semanas de muito conteúdo, proje…\n",
      "----------------------------------------------------------------------------------------------------\n",
      "Guilherme Silveira\n",
      "Brazil\n",
      "Inscrições abertas para o Bootcamp Data Science da \n",
      "@AluraOnline comigo :)!\n",
      "\n",
      "Serão 12 semanas de muito conteúdo, pr… https://t.co/EyeBJg4pXK\n",
      "----------------------------------------------------------------------------------------------------\n",
      "Jade\n",
      "Manaus - Amazonas\n",
      "Continuaria controlando vôos, mas ganhando pelo menos o dobro pra fazer jus ao cagaço constante\n",
      "\n",
      "Pesquisas na área… https://t.co/a749uX0Vci\n",
      "----------------------------------------------------------------------------------------------------\n",
      "hideki\n",
      "Sao Paulo, Brazil\n",
      "de tds os cursos que eu fiz até agora da alura de data science (uns 5~6 completos), só teve 1 professor que se deu… https://t.co/jSG75Da6Iu\n",
      "----------------------------------------------------------------------------------------------------\n",
      "Alura\n",
      "\n",
      "@miunes Oi, tudo bem? Temos uma formação focada em análise exploratória de dados. 😉 Dá uma olhada: https://t.co/GiXpoERbY3\n",
      "----------------------------------------------------------------------------------------------------\n",
      "juliana\n",
      "São Paulo, SP\n",
      "RT @AluraOnline: Estão abertas as inscrições para o Bootcamp de Data Science 🎉📊\n",
      "\n",
      "Desenvolva sua carreira com grandes desafios propostos por…\n",
      "----------------------------------------------------------------------------------------------------\n",
      "Batata Motivada\n",
      "São Paulo, from Belém.\n",
      "Esse bootcamp de Data Science do Alura tá me chamando, mas cadê os 3 pau pra pagar\n",
      "----------------------------------------------------------------------------------------------------\n",
      "×\n",
      "\n",
      "as pessoas dizem \"foque em uma área que vc mais gosta e estuda ela\"\n",
      "mas eu gosto de várias\n",
      "back-end\n",
      "desenvolvimento… https://t.co/JrPPCWvX8C\n",
      "----------------------------------------------------------------------------------------------------\n",
      "Mestre Jonas\n",
      "\n",
      "Não tem um dia em que eu não pense que o trabalho do futuro é no campo de data science\n",
      "----------------------------------------------------------------------------------------------------\n",
      "Gabriel Cronemberger\n",
      "Teresina, Brasil\n",
      "Instagram continua me mostrando coisa de power BI e data science, po zuck desencana eu já tô em outra\n",
      "----------------------------------------------------------------------------------------------------\n",
      "Fabrício Carraro\n",
      "Barcelona, Spain\n",
      "RT @o_gabsferreira: Inscrições abertas para o Bootcamp Data Science da @AluraOnline com @guilhermecaelum!\n",
      "\n",
      "Serão 12 semanas de muito conteú…\n",
      "----------------------------------------------------------------------------------------------------\n",
      "Alura\n",
      "\n",
      "⚠ Assinantes da Alura possuem condições especiais na matrícula no Bootcamp de Data Science 😉\n",
      "----------------------------------------------------------------------------------------------------\n",
      "Alura\n",
      "\n",
      "Estão abertas as inscrições para o Bootcamp de Data Science 🎉📊\n",
      "\n",
      "Desenvolva sua carreira com grandes desafios propos… https://t.co/LXu9NDA3WB\n",
      "----------------------------------------------------------------------------------------------------\n",
      "akasatanahama.com\n",
      "Chiyoda-ku, Tokyo\n",
      "RT @ermelindasteves: Qual a diferença entre Inteligência Artificial e Machine Learning? @galantecoimbra1 Customer Advisory do SAS e Profess…\n",
      "----------------------------------------------------------------------------------------------------\n",
      "Machine Learning Bot\n",
      "Help us!\n",
      "RT @ermelindasteves: Qual a diferença entre Inteligência Artificial e Machine Learning? @galantecoimbra1 Customer Advisory do SAS e Profess…\n",
      "----------------------------------------------------------------------------------------------------\n",
      "Ermelinda Esteves\n",
      "Lisbon, Portugal\n",
      "Qual a diferença entre Inteligência Artificial e Machine Learning? @galantecoimbra1 Customer Advisory do SAS e Prof… https://t.co/WJ9XG5irue\n",
      "----------------------------------------------------------------------------------------------------\n",
      "Jess\n",
      "São Paulo, Brasil\n",
      "RT @o_gabsferreira: Inscrições abertas para o Bootcamp Data Science da @AluraOnline com @guilhermecaelum!\n",
      "\n",
      "Serão 12 semanas de muito conteú…\n",
      "----------------------------------------------------------------------------------------------------\n",
      "lys.swift\n",
      "Sao Paulo, Brazil\n",
      "RT @o_gabsferreira: Inscrições abertas para o Bootcamp Data Science da @AluraOnline com @guilhermecaelum!\n",
      "\n",
      "Serão 12 semanas de muito conteú…\n",
      "----------------------------------------------------------------------------------------------------\n",
      "Herder of Noobs' been fully vaxxed! 💉💉\n",
      "Brasília, Brasil\n",
      "RT @o_gabsferreira: Inscrições abertas para o Bootcamp Data Science da @AluraOnline com @guilhermecaelum!\n",
      "\n",
      "Serão 12 semanas de muito conteú…\n",
      "----------------------------------------------------------------------------------------------------\n",
      "Alexandre Kosteczka\n",
      "Brazil\n",
      "Já que o papo é a respeito de dados, um artigo provocativo:\n",
      "Data Science as Machinic Neoplatonism\n",
      "de Dan McQuillan\n",
      "\n",
      "https://t.co/VPkCEbTedZ\n",
      "----------------------------------------------------------------------------------------------------\n",
      "juliana\n",
      "São Paulo, SP\n",
      "RT @o_gabsferreira: Inscrições abertas para o Bootcamp Data Science da @AluraOnline com @guilhermecaelum!\n",
      "\n",
      "Serão 12 semanas de muito conteú…\n",
      "----------------------------------------------------------------------------------------------------\n",
      "Gabs Ferreira\n",
      "São Paulo, Brazil\n",
      "Inscrições abertas para o Bootcamp Data Science da @AluraOnline com @guilhermecaelum!\n",
      "\n",
      "Serão 12 semanas de muito co… https://t.co/YqlgorlB9b\n",
      "----------------------------------------------------------------------------------------------------\n",
      "Nico and 1,284 liked\n",
      "São José dos Campos/São Paulo\n",
      "@OlarSte Namoral, a partir dai eu percebi que o mercado é mais parecer ser do que ser. Ele não sabia nada (era mach… https://t.co/AWCk6rseS8\n",
      "----------------------------------------------------------------------------------------------------\n",
      "Me chamam de H4wk no cybermundo\n",
      "\n",
      "Casa arrumada e cheirosa, agora vamos fazer projeto de Data Science da empresa\n",
      "----------------------------------------------------------------------------------------------------\n",
      "já pode falar de economia?🥊\n",
      "Bangladesh\n",
      "@lucasricardo1_ @FERNAND52438142 @andrefernm Não devia não mas vou te ensinar.\n",
      "Sei q vc n vai aprender mesmo.\n",
      "\n",
      "Melh… https://t.co/IlhqpCgnpu\n",
      "----------------------------------------------------------------------------------------------------\n",
      "b0l1nho\n",
      "GV e Guarapari\n",
      "Interessantíssimo na area da data science é que eles falam igual skatista\n",
      "----------------------------------------------------------------------------------------------------\n",
      "Márcio M. Silva\n",
      "Porto, Portugal\n",
      "RT @AluraOnline: Hoje vai rolar a última Live da Semana Dados. Vamos falar sobre os passos para construir uma carreira de sucesso em Data S…\n",
      "----------------------------------------------------------------------------------------------------\n",
      "sobreira\n",
      "Anápolis, Brasil\n",
      "Terá um novo bootcamp da alura de data science, eu quero demais mas o valor pqp\n",
      "----------------------------------------------------------------------------------------------------\n",
      "Leonardo Guerra\n",
      "São Paulo\n",
      "RT @AluraOnline: Hoje vai rolar a última Live da Semana Dados. Vamos falar sobre os passos para construir uma carreira de sucesso em Data S…\n",
      "----------------------------------------------------------------------------------------------------\n",
      "Bancada de Leão🦁 #VotaVdeVarela\n",
      "Portugal\n",
      "RT @_peterkings_: @nanacferreira a explicar ao @bancadadeleao o que aconteceu em Old Trafford atravez da data science\n",
      "no @sporting160 https…\n",
      "----------------------------------------------------------------------------------------------------\n",
      "_peterkings_🇳🇬🦁🇵🇹\n",
      "São Paulo\n",
      "@nanacferreira a explicar ao @bancadadeleao o que aconteceu em Old Trafford atravez da data science\n",
      "no @sporting160… https://t.co/cwGvFTk1yh\n",
      "----------------------------------------------------------------------------------------------------\n",
      "SerpentárioAutistaPistola🚺💪\n",
      "Brasília-DF\n",
      "RT @AluraOnline: Hoje vai rolar a última Live da Semana Dados. Vamos falar sobre os passos para construir uma carreira de sucesso em Data S…\n",
      "----------------------------------------------------------------------------------------------------\n",
      "Georden\n",
      "Portugal\n",
      "RT @esriportugal: O MOOC \"Spatial Data Science: The New Frontier in Analytics\" arranca já no próximo dia 27 de Outubro! 🙌 \n",
      "\n",
      "Explore a aplic…\n",
      "----------------------------------------------------------------------------------------------------\n",
      "Quaest Pesquisa e Consultoria\n",
      "\n",
      "\"É com as redes sociais que Bolsonaro consegue sustentar uma defesa de alta popularidade e que segue competitivo em… https://t.co/Cls8FOXQOh\n",
      "----------------------------------------------------------------------------------------------------\n",
      "Alura\n",
      "\n",
      "Hoje vai rolar a última Live da Semana Dados. Vamos falar sobre os passos para construir uma carreira de sucesso em… https://t.co/fjyxFrZyR3\n",
      "----------------------------------------------------------------------------------------------------\n"
     ]
    },
    {
     "name": "stdout",
     "output_type": "stream",
     "text": [
      "Magali Faleiro\n",
      "Rio de Janeiro, Brasil\n",
      "RT @dsacademybr: Carreiras em Data Science - Administrador de Banco de Dados\n",
      "\n",
      "Nesta série especial sobre Carreiras em Data Science vamos tr…\n",
      "----------------------------------------------------------------------------------------------------\n",
      "Data Science Academy\n",
      "Brasil\n",
      "Carreiras em Data Science - Administrador de Banco de Dados\n",
      "\n",
      "Nesta série especial sobre Carreiras em Data Science v… https://t.co/pHMoaGLSf8\n",
      "----------------------------------------------------------------------------------------------------\n",
      "Rui Maurício\n",
      "Brasília, Brasil\n",
      "@gmgall @qhelldocontra Os cursos do Rodrigo (que eu tenho visto nos cursos de Python pra data science) são muito bons!\n",
      "----------------------------------------------------------------------------------------------------\n",
      "Insper\n",
      "São Paulo | Brasil\n",
      "A experiência vivenciada nas grandes metrópoles será o tema para discutir soluções na Mobilidade Urbana usando comp… https://t.co/1ls2dS53zh\n",
      "----------------------------------------------------------------------------------------------------\n",
      "Rui Maurício\n",
      "Brasília, Brasil\n",
      "@gmgall @qhelldocontra O Alura é uma plataforma boa de cursos pra nossa área, no momento tô fazendo alguns de data science, maneirão\n",
      "----------------------------------------------------------------------------------------------------\n",
      "Esri Portugal\n",
      "Lisboa\n",
      "O MOOC \"Spatial Data Science: The New Frontier in Analytics\" arranca já no próximo dia 27 de Outubro! 🙌 \n",
      "\n",
      "Explore a… https://t.co/K60ASzrKe8\n",
      "----------------------------------------------------------------------------------------------------\n",
      "Jos van der Velden\n",
      "Sesimbra, PORTUGAL\n",
      "Qual a diferença entre Inteligência Artificial e Machine Learning? @galantecoimbra1 Customer Advisory do SAS e Prof… https://t.co/2srpBo7oEW\n",
      "----------------------------------------------------------------------------------------------------\n",
      "Fraitag 📈🇪🇸☕🍺🇧🇷🎸🥊👫🏻\n",
      "Detroit, MI\n",
      "@DesejoDeMatar na cabeça dessa bolha, o índio tupinambá que mora na reserva de xuxpepe em curupirú no acre tem q ap… https://t.co/Rnh4LTlxbA\n",
      "----------------------------------------------------------------------------------------------------\n",
      "Nicholas⚡devsAcreditar\n",
      "\n",
      "RT @_caioeserpa: @nicholasess Amo os desafios que encontro na área que escolhi (data science), acabo me divertindo mesmo com os problemas e…\n",
      "----------------------------------------------------------------------------------------------------\n",
      "Caiô\n",
      "\n",
      "@nicholasess Amo os desafios que encontro na área que escolhi (data science), acabo me divertindo mesmo com os prob… https://t.co/1DequiOiAn\n",
      "----------------------------------------------------------------------------------------------------\n",
      "Neuron - DS&AI | USP-RP\n",
      "Ribeirão Preto, Brasil\n",
      "Lembrando que hoje teremos as palestras com o tema AGRONOMIA\n",
      "\n",
      "- Data Science aplicada à irrigação - Francisco Airde… https://t.co/2wVqXJ7Gk1\n",
      "----------------------------------------------------------------------------------------------------\n",
      "Neuron - DS&AI | USP-RP\n",
      "Ribeirão Preto, Brasil\n",
      "É HOJEE às 19h que começa nosso evento de Data Science no Mercado de Trabalho! Estão preparades?? Já deixa tudo org… https://t.co/Pw9VuxUSgz\n",
      "----------------------------------------------------------------------------------------------------\n",
      "Data Science Academy\n",
      "Brasil\n",
      "#segundou  \n",
      "\n",
      "Dica de livro para aprender a gerenciar projetos de Data Science.\n",
      "\n",
      "Tem dica extra sobre Python para… https://t.co/0Uynd1jyQi\n",
      "----------------------------------------------------------------------------------------------------\n",
      "__decko__.py\n",
      "brasilia - df\n",
      "RT @databootcampbr: Última chance de se inscrever!\n",
      "\n",
      "Aprenda Python do zero, análise de dados com Pandas, estatística e como fazer modelos p…\n",
      "----------------------------------------------------------------------------------------------------\n",
      "__glaucia__.py\n",
      "Portugal\n",
      "RT @databootcampbr: Última chance de se inscrever!\n",
      "\n",
      "Aprenda Python do zero, análise de dados com Pandas, estatística e como fazer modelos p…\n",
      "----------------------------------------------------------------------------------------------------\n",
      "Blkhwk0ps Servicios Digitales\n",
      "Cancún\n",
      "RT @databootcampbr: Última chance de se inscrever!\n",
      "\n",
      "Aprenda Python do zero, análise de dados com Pandas, estatística e como fazer modelos p…\n",
      "----------------------------------------------------------------------------------------------------\n",
      "Data Bootcamp\n",
      "Brazil\n",
      "Última chance de se inscrever!\n",
      "\n",
      "Aprenda Python do zero, análise de dados com Pandas, estatística e como fazer model… https://t.co/6dAJX2HdUX\n",
      "----------------------------------------------------------------------------------------------------\n",
      "Neto Demarchi\n",
      "São Paulo - SP\n",
      "Hoje meu maior sonho é sair do Brasil e ir para o Canadá ou EUA, trabalhar e me aperfeiçoar na área de Data Science.\n",
      "----------------------------------------------------------------------------------------------------\n",
      "Baracat\n",
      "Campo do Meio, Brasil\n",
      "@floppatheworld convence o grande tio kira do death note em investir em um curso de Data Science pra mim. 30 real e… https://t.co/hpKKLcOugr\n",
      "----------------------------------------------------------------------------------------------------\n",
      "PT_2B-On\n",
      "Lisbon, Portugual\n",
      "A 2B-On estabeleceu uma parceira com a DSPA - Data Science Portuguese Association, apostando no desenvolvimento da… https://t.co/TMFLqnNgKz\n",
      "----------------------------------------------------------------------------------------------------\n",
      "4l4n4\n",
      "Netuno\n",
      "Eu concluí com sucesso o curso Introdução à Ciência de Dados 3.0 na Data Science Academy!  https://t.co/LrHlCqlDgR\n",
      "----------------------------------------------------------------------------------------------------\n",
      "Raksantos\n",
      "\n",
      "Irmão, fiz quase todo a lista da AB1 de Data Science sem nem ter visto aula com assunto mesmo ainda. Muito feliz qu… https://t.co/aoZSEaZCyZ\n",
      "----------------------------------------------------------------------------------------------------\n",
      "Chris Papadoulos🇻🇦⚔️🛡\n",
      "\n",
      "RT @EliVieiraJr: A propósito, sendo a população brasileira uma das que têm a maior adesão às vacinas no mundo todo, onde está a evidência d…\n",
      "----------------------------------------------------------------------------------------------------\n",
      "Data Science Academy\n",
      "Brasil\n",
      "Está disponível no Capítulo 12 do Curso Marketing Digital Analytics o sexto Projeto Prático:\n",
      "\n",
      "Inferência Causal Par… https://t.co/2TT7OYsgbe\n",
      "----------------------------------------------------------------------------------------------------\n",
      "10 5 6 5\n",
      "\n",
      "@aluizreis Tem Analista de dados(data science), programadores, jornalistas, analistas financeiros que falam mandari… https://t.co/rtUL1F6IKb\n",
      "----------------------------------------------------------------------------------------------------\n",
      "Eliãn\n",
      "Rio de Janeiro\n",
      "@GARCELLLES Tem gostado da plataforma da Alura? O aglomerado deles de Data Science parece ótimo, mas ainda não experimentei.\n",
      "----------------------------------------------------------------------------------------------------\n",
      "(AJS) Boulosnaro PhD, DSc, MSc, MSc, MSc, MSc, MBA\n",
      "Brasil\n",
      "RT @EliVieiraJr: A propósito, sendo a população brasileira uma das que têm a maior adesão às vacinas no mundo todo, onde está a evidência d…\n",
      "----------------------------------------------------------------------------------------------------\n",
      "Germano, Wil.\n",
      "curitiba-Brasil\n",
      "@lobamarii Estou fazendo um chamado:  “Python Fundamentos Para Análise de Dados 3.0”, da Data Science Academy Brasi… https://t.co/rwM6nSoj3g\n",
      "----------------------------------------------------------------------------------------------------\n",
      "rose Melecchi\n",
      "\n",
      "RT @EliVieiraJr: A propósito, sendo a população brasileira uma das que têm a maior adesão às vacinas no mundo todo, onde está a evidência d…\n",
      "----------------------------------------------------------------------------------------------------\n",
      "Caio Nunes Carneiro\n",
      "Campos dos Goytacazes, Rio de \n",
      "RT @EliVieiraJr: A propósito, sendo a população brasileira uma das que têm a maior adesão às vacinas no mundo todo, onde está a evidência d…\n",
      "----------------------------------------------------------------------------------------------------\n",
      "Léa\n",
      "\n",
      "RT @EliVieiraJr: A propósito, sendo a população brasileira uma das que têm a maior adesão às vacinas no mundo todo, onde está a evidência d…\n",
      "----------------------------------------------------------------------------------------------------\n",
      "Docilda\n",
      "Manaus, Brasil\n",
      "RT @EliVieiraJr: A propósito, sendo a população brasileira uma das que têm a maior adesão às vacinas no mundo todo, onde está a evidência d…\n",
      "----------------------------------------------------------------------------------------------------\n",
      "ANARCOBAGUALISTA\n",
      "Ancapistão do Sul\n",
      "RT @EliVieiraJr: A propósito, sendo a população brasileira uma das que têm a maior adesão às vacinas no mundo todo, onde está a evidência d…\n",
      "----------------------------------------------------------------------------------------------------\n",
      "Wagner Thomazoni\n",
      "Caxias do Sul\n",
      "RT @EliVieiraJr: A propósito, sendo a população brasileira uma das que têm a maior adesão às vacinas no mundo todo, onde está a evidência d…\n",
      "----------------------------------------------------------------------------------------------------\n",
      "Anonymous\n",
      "Brasil\n",
      "RT @EliVieiraJr: A propósito, sendo a população brasileira uma das que têm a maior adesão às vacinas no mundo todo, onde está a evidência d…\n",
      "----------------------------------------------------------------------------------------------------\n",
      "Pepe Arenas\n",
      "Lima, Perú \n",
      "@felipeff1984 Parabéns Felipe. Tenho especializacao em data Science pela Sociedad Equatoriana de Estátistica. Se pr… https://t.co/Af9xnO9WTR\n",
      "----------------------------------------------------------------------------------------------------\n",
      "FeCruz\n",
      "\n",
      "RT @EliVieiraJr: A propósito, sendo a população brasileira uma das que têm a maior adesão às vacinas no mundo todo, onde está a evidência d…\n",
      "----------------------------------------------------------------------------------------------------\n",
      "Feliz Oliveira\n",
      "Na toca\n",
      "@mashimom Somente Data Science? Sabe se tem algo para Analyst ou engenharia de dados?\n",
      "----------------------------------------------------------------------------------------------------\n",
      "nereide barros 🙏🏻🇧🇷🙏🏻 Deus acima de todos\n",
      "SPaulo-Brasil 🇧🇷\n",
      "RT @EliVieiraJr: A propósito, sendo a população brasileira uma das que têm a maior adesão às vacinas no mundo todo, onde está a evidência d…\n",
      "----------------------------------------------------------------------------------------------------\n",
      "🎭 Really?\n",
      "Rio de Janeiro, Brazil\n",
      "RT @EliVieiraJr: A propósito, sendo a população brasileira uma das que têm a maior adesão às vacinas no mundo todo, onde está a evidência d…\n",
      "----------------------------------------------------------------------------------------------------\n",
      "Acabou a treta.\n",
      "\n",
      "RT @EliVieiraJr: A propósito, sendo a população brasileira uma das que têm a maior adesão às vacinas no mundo todo, onde está a evidência d…\n",
      "----------------------------------------------------------------------------------------------------\n",
      "roarshark7359\n",
      "\n",
      "RT @EliVieiraJr: A propósito, sendo a população brasileira uma das que têm a maior adesão às vacinas no mundo todo, onde está a evidência d…\n",
      "----------------------------------------------------------------------------------------------------\n",
      "Ryan\n",
      "\n",
      "RT @EliVieiraJr: A propósito, sendo a população brasileira uma das que têm a maior adesão às vacinas no mundo todo, onde está a evidência d…\n",
      "----------------------------------------------------------------------------------------------------\n",
      "Fernando\n",
      "\n",
      "RT @EliVieiraJr: A propósito, sendo a população brasileira uma das que têm a maior adesão às vacinas no mundo todo, onde está a evidência d…\n",
      "----------------------------------------------------------------------------------------------------\n",
      "A Profound Hatred\n",
      "Inferno\n",
      "RT @EliVieiraJr: A propósito, sendo a população brasileira uma das que têm a maior adesão às vacinas no mundo todo, onde está a evidência d…\n",
      "----------------------------------------------------------------------------------------------------\n"
     ]
    },
    {
     "name": "stdout",
     "output_type": "stream",
     "text": [
      "Eli Vieira\n",
      "Brasília, Brazil\n",
      "A propósito, sendo a população brasileira uma das que têm a maior adesão às vacinas no mundo todo, onde está a evid… https://t.co/gcgtMyilTr\n",
      "----------------------------------------------------------------------------------------------------\n",
      "Neuron - DS&AI | USP-RP\n",
      "Ribeirão Preto, Brasil\n",
      "📆26/10 - Tema: Mercado Financeiro\n",
      "- Andressa Freires/ Data science aplicada à análise de crédito.\n",
      "- João Mota/ Apli… https://t.co/qvjp60jmnD\n",
      "----------------------------------------------------------------------------------------------------\n",
      "Neuron - DS&AI | USP-RP\n",
      "Ribeirão Preto, Brasil\n",
      "Onde vai rolar a transmissão? \n",
      "O evento será transmitido pelo canal da Neuron no YouTube 🖥️\n",
      "\n",
      "✨Quem vai comandar as… https://t.co/Ham9H2kLVn\n",
      "----------------------------------------------------------------------------------------------------\n",
      "Walison Chaves\n",
      "\n",
      "Como investir em marketing digital no agronegócio\n",
      "*Google Ads, Facebook Ads, Youtube Ads e mídias de anúncios \n",
      "*Goo… https://t.co/n7JEDtPpyd\n",
      "----------------------------------------------------------------------------------------------------\n",
      "Felipe Ferreira\n",
      "\n",
      "Agora é oficial: inscrito no curso de MBA em Big Data, Data Science e Data Analytics na USP.\n",
      "----------------------------------------------------------------------------------------------------\n",
      "O Veneno do Dia\n",
      "\n",
      "@albaneybaylao @lesa1th @sseraphini Cara, eu tava pensando em estudar data science mas vi esse trajeto aki e confes… https://t.co/PkSy0Eocj5\n",
      "----------------------------------------------------------------------------------------------------\n",
      "lésbica exausta\n",
      "\n",
      "ouvindo webinar de data science enquanto rodo a prototipagem de 6 telas 🤯🤯\n",
      "----------------------------------------------------------------------------------------------------\n",
      "Fernando\n",
      "São Paulo\n",
      "@SofaBirder @IamRodrigo Obrigado, estou na praia de data science\n",
      "----------------------------------------------------------------------------------------------------\n",
      "Albaney Baylão\n",
      "Rio de Janeiro\n",
      "@lesa1th @sseraphini Se a sua preocupação é o futuro não estude linguagem, estude conceitos. Linguagens vem e vão,… https://t.co/KXWB74paSL\n",
      "----------------------------------------------------------------------------------------------------\n",
      "Joao P. R.\n",
      "Brasil\n",
      "@nicin_sovitoria @Pedro_Barciela Eu comecei uma graduação nesse semestre, na Univesp (acredito que seja a única a o… https://t.co/rFkU09ZTpL\n",
      "----------------------------------------------------------------------------------------------------\n"
     ]
    }
   ],
   "source": [
    "for tweet in tweets:\n",
    "    print(tweet.user.name)\n",
    "    print(tweet.user.location)    \n",
    "    print(tweet.text)\n",
    "    print(\"-\" * 100)"
   ]
  },
  {
   "cell_type": "markdown",
   "id": "32f38995",
   "metadata": {},
   "source": [
    "### Pesquisando famosos"
   ]
  },
  {
   "cell_type": "code",
   "execution_count": 10,
   "id": "e85c6640",
   "metadata": {},
   "outputs": [],
   "source": [
    "famosos = ['cauareymond','aguiarthur','ivetesangalo','ClaudiaLeitte','neymarjr','BruMarquezine','mariruybarbosa',\n",
    "'FePaesLeme','Tatawerneck','FlaviaAleReal','julianapaes','dedesecco','SabrinaSato','ahickmann','gusttavo_lima','Anitta',\n",
    "'CarolCastroReal','gio_antonelli','maisa','cleooficial','gewbank','taisdeverdade','otaviano','bernardipaloma',\n",
    "'IngridGuimaraes','olazaroramos','GalisteuOficial','debranascimento','FioMattheis','moalfradique','Nandacostareal']"
   ]
  },
  {
   "cell_type": "code",
   "execution_count": 11,
   "id": "ae0f3df6",
   "metadata": {},
   "outputs": [],
   "source": [
    "def pesquisar_tweets(termo, lang='pt', result_type= \"mixed\", n=100):\n",
    "    return tw.Cursor(api.search_tweets, q=termo, lang=lang, result_type=result_type).items(n)"
   ]
  },
  {
   "cell_type": "code",
   "execution_count": 12,
   "id": "5218c3b9",
   "metadata": {},
   "outputs": [],
   "source": [
    "def obter_url_imagens(tweets):\n",
    "    if(tweets is None): return\n",
    "    for tweet in tweets:\n",
    "        if('media' in tweet.entities):\n",
    "            print(tweet.entities['media'][0]['media_url'])"
   ]
  },
  {
   "cell_type": "code",
   "execution_count": 13,
   "id": "14b90451",
   "metadata": {},
   "outputs": [],
   "source": [
    "def pesquisa_multipla(termos):\n",
    "    for termo in termos:\n",
    "        tweets = pesquisar_tweets(termo, n=20)\n",
    "        print(f'Referência: {termo}')\n",
    "        print('Imagens postadas:')\n",
    "        obter_url_imagens(tweets)\n",
    "        print('*' * 100)"
   ]
  },
  {
   "cell_type": "code",
   "execution_count": null,
   "id": "3adba66a",
   "metadata": {},
   "outputs": [
    {
     "name": "stdout",
     "output_type": "stream",
     "text": [
      "Referência: cauareymond\n",
      "Imagens postadas:\n",
      "http://pbs.twimg.com/amplify_video_thumb/1453036150910824448/img/UGec4IcJu_8pbQdp.jpg\n",
      "http://pbs.twimg.com/media/FB_JyqIWUAI4oHe.jpg\n",
      "http://pbs.twimg.com/media/FCUK2MfWYAIZng0.jpg\n",
      "http://pbs.twimg.com/amplify_video_thumb/1453036150910824448/img/UGec4IcJu_8pbQdp.jpg\n",
      "http://pbs.twimg.com/amplify_video_thumb/1453036150910824448/img/UGec4IcJu_8pbQdp.jpg\n",
      "http://pbs.twimg.com/amplify_video_thumb/1453036150910824448/img/UGec4IcJu_8pbQdp.jpg\n",
      "http://pbs.twimg.com/amplify_video_thumb/1453036150910824448/img/UGec4IcJu_8pbQdp.jpg\n",
      "http://pbs.twimg.com/tweet_video_thumb/FCp8SsJXEAQnhFB.jpg\n",
      "http://pbs.twimg.com/amplify_video_thumb/1453036150910824448/img/UGec4IcJu_8pbQdp.jpg\n",
      "http://pbs.twimg.com/amplify_video_thumb/1453036150910824448/img/UGec4IcJu_8pbQdp.jpg\n",
      "****************************************************************************************************\n",
      "Referência: aguiarthur\n",
      "Imagens postadas:\n",
      "http://pbs.twimg.com/ext_tw_video_thumb/1419929194088308737/pu/img/Ryg8zb4HIefeOXut.jpg\n",
      "****************************************************************************************************\n",
      "Referência: ivetesangalo\n",
      "Imagens postadas:\n",
      "http://pbs.twimg.com/ext_tw_video_thumb/1452667032890118146/pu/img/6Y0rmijrbmnwutF9.jpg\n",
      "http://pbs.twimg.com/ext_tw_video_thumb/1453106227089743877/pu/img/kXP0y_1XW2bOpcaB.jpg\n",
      "http://pbs.twimg.com/ext_tw_video_thumb/1452360249818681344/pu/img/tSCi3i-H5M02nqyl.jpg\n",
      "http://pbs.twimg.com/ext_tw_video_thumb/1452360249818681344/pu/img/tSCi3i-H5M02nqyl.jpg\n",
      "http://pbs.twimg.com/media/FCfvbZMWQAI4pwN.jpg\n",
      "****************************************************************************************************\n",
      "Referência: ClaudiaLeitte\n",
      "Imagens postadas:\n",
      "http://pbs.twimg.com/amplify_video_thumb/1453011287114354688/img/L65rVc9GrL_5RJsv.jpg\n",
      "http://pbs.twimg.com/tweet_video_thumb/FCluKy3XEAUqS4Q.jpg\n",
      "http://pbs.twimg.com/tweet_video_thumb/FCqGKtcXMAkxFGa.jpg\n",
      "http://pbs.twimg.com/ext_tw_video_thumb/1452673337579253763/pu/img/Csm4pNy2tiT-mf9a.jpg\n",
      "****************************************************************************************************\n",
      "Referência: neymarjr\n",
      "Imagens postadas:\n",
      "http://pbs.twimg.com/media/FCjxtZfXEAo2iha.jpg\n",
      "http://pbs.twimg.com/media/FCpwMzTXsAgEY5t.jpg\n",
      "http://pbs.twimg.com/ext_tw_video_thumb/1452324706447724545/pu/img/ab6vWiicrpJm0o_d.jpg\n",
      "http://pbs.twimg.com/media/FCVeVPAWQAczVxx.jpg\n",
      "http://pbs.twimg.com/media/FCZRGgRWEAATedj.jpg\n",
      "****************************************************************************************************\n",
      "Referência: BruMarquezine\n",
      "Imagens postadas:\n",
      "http://pbs.twimg.com/ext_tw_video_thumb/1452617098065289216/pu/img/_BmBuvyQgU1QTt2p.jpg\n",
      "http://pbs.twimg.com/media/FCqHcx-WUAUH7l5.jpg\n",
      "http://pbs.twimg.com/media/FCqH4MIWUAEfC9r.jpg\n",
      "http://pbs.twimg.com/ext_tw_video_thumb/1453123476102033408/pu/img/mCCPLdeS1EaADTUY.jpg\n",
      "http://pbs.twimg.com/ext_tw_video_thumb/1453123476102033408/pu/img/mCCPLdeS1EaADTUY.jpg\n",
      "http://pbs.twimg.com/media/FCqH4MIWUAEfC9r.jpg\n",
      "http://pbs.twimg.com/media/FCqHcx-WUAUH7l5.jpg\n",
      "http://pbs.twimg.com/media/FCqFrS-WEAYRYT4.jpg\n",
      "****************************************************************************************************\n",
      "Referência: mariruybarbosa\n",
      "Imagens postadas:\n",
      "http://pbs.twimg.com/ext_tw_video_thumb/1423450188664950793/pu/img/tTqd6380T9cUYsYP.jpg\n",
      "****************************************************************************************************\n",
      "Referência: FePaesLeme\n",
      "Imagens postadas:\n",
      "****************************************************************************************************\n",
      "Referência: Tatawerneck\n",
      "Imagens postadas:\n",
      "http://pbs.twimg.com/tweet_video_thumb/FCodybiXoAcuKZ7.jpg\n",
      "http://pbs.twimg.com/media/FCqG-DlXMAIG1x_.jpg\n",
      "http://pbs.twimg.com/tweet_video_thumb/FCodybiXoAcuKZ7.jpg\n",
      "****************************************************************************************************\n",
      "Referência: FlaviaAleReal\n",
      "Imagens postadas:\n",
      "http://pbs.twimg.com/media/FCpGI-NWYAARpJy.jpg\n",
      "http://pbs.twimg.com/media/FCPiLRkWQAYObui.jpg\n",
      "http://pbs.twimg.com/media/FCpGI-NWYAARpJy.jpg\n",
      "http://pbs.twimg.com/media/FCBMvdcXsAAnotU.png\n",
      "http://pbs.twimg.com/ext_tw_video_thumb/1450226870604140544/pu/img/zIIDP34MDQqXEXJc.jpg\n",
      "****************************************************************************************************\n",
      "Referência: julianapaes\n",
      "Imagens postadas:\n",
      "http://pbs.twimg.com/media/FCpW6oQWQAUYt1F.jpg\n",
      "****************************************************************************************************\n",
      "Referência: dedesecco\n",
      "Imagens postadas:\n",
      "http://pbs.twimg.com/ext_tw_video_thumb/1453070441959067652/pu/img/mDTa6STZTx-prESA.jpg\n",
      "****************************************************************************************************\n",
      "Referência: SabrinaSato\n",
      "Imagens postadas:\n"
     ]
    }
   ],
   "source": [
    "pesquisa_multipla(famosos)"
   ]
  },
  {
   "cell_type": "markdown",
   "id": "7ffd58d1",
   "metadata": {},
   "source": [
    "## Streaming\n",
    "\n",
    "Os métodos e a implementação utilizada aqui diferem bastante do curso pois o mesmo está desatualizado."
   ]
  },
  {
   "cell_type": "code",
   "execution_count": null,
   "id": "602a9dfc",
   "metadata": {},
   "outputs": [],
   "source": [
    "class MinhaStreamListener(tw.Stream):\n",
    "    def on_status(self, status):\n",
    "        print(status.user.name)\n",
    "        print(status.user.location)    \n",
    "        print(status.text)\n",
    "        print(\"-\" * 100)"
   ]
  },
  {
   "cell_type": "code",
   "execution_count": null,
   "id": "bbb156a2",
   "metadata": {},
   "outputs": [],
   "source": [
    "minhaStream = MinhaStreamListener(\n",
    "    appsettings.consumer_key,\n",
    "    appsettings.consumer_secret, \n",
    "    appsettings.access_token,\n",
    "    appsettings.access_token_secret)"
   ]
  },
  {
   "cell_type": "code",
   "execution_count": null,
   "id": "5c574676",
   "metadata": {
    "scrolled": true
   },
   "outputs": [],
   "source": [
    "execucao_stream_presidente = minhaStream.filter(track=['presidente'], languages=['pt'], threaded=True)"
   ]
  },
  {
   "cell_type": "code",
   "execution_count": null,
   "id": "e85f9b1c",
   "metadata": {},
   "outputs": [],
   "source": [
    "minhaStream.disconnect()"
   ]
  },
  {
   "cell_type": "code",
   "execution_count": null,
   "id": "41ef9556",
   "metadata": {},
   "outputs": [],
   "source": [
    "minhaStream.filter(track=famosos, languages=['pt'], threaded=True)\n",
    "time.sleep(10)\n",
    "minhaStream.disconnect()"
   ]
  },
  {
   "cell_type": "markdown",
   "id": "4dfb14e0",
   "metadata": {},
   "source": [
    "## Autenticando no Azure"
   ]
  },
  {
   "cell_type": "code",
   "execution_count": null,
   "id": "af19d5e6",
   "metadata": {},
   "outputs": [],
   "source": [
    "credentials = CognitiveServicesCredentials(appsettings.azure_key)"
   ]
  },
  {
   "cell_type": "code",
   "execution_count": null,
   "id": "f466fee8",
   "metadata": {},
   "outputs": [],
   "source": [
    "client = ComputerVisionClient(appsettings.azure_endpoint, credentials)"
   ]
  },
  {
   "cell_type": "code",
   "execution_count": null,
   "id": "9ff048b9",
   "metadata": {},
   "outputs": [],
   "source": [
    "client.api_version"
   ]
  },
  {
   "cell_type": "markdown",
   "id": "3f6cb4e8",
   "metadata": {},
   "source": [
    "Nota: A versão utilizada está diferente da do curso, que é a 2.0."
   ]
  },
  {
   "cell_type": "markdown",
   "id": "fe90f064",
   "metadata": {},
   "source": [
    "### Testando a API\n",
    "\n",
    "A imagem testada será a seguinte:\n",
    "\n",
    "![](https://pbs.twimg.com/media/FBMJV3nXoAIx_VD.jpg)"
   ]
  },
  {
   "cell_type": "code",
   "execution_count": null,
   "id": "46ddee81",
   "metadata": {},
   "outputs": [],
   "source": [
    "url_imagem = 'https://pbs.twimg.com/media/FBMJV3nXoAIx_VD.jpg'\n",
    "analise = client.analyze_image(url_imagem, visual_features=[VisualFeatureTypes.tags])\n",
    "analise"
   ]
  },
  {
   "cell_type": "markdown",
   "id": "2281769a",
   "metadata": {},
   "source": [
    "Doc para o código acima [aqui](https://docs.microsoft.com/en-us/python/api/azure-cognitiveservices-vision-computervision/azure.cognitiveservices.vision.computervision.operations.computervisionclientoperationsmixin?view=azure-python#analyze-image-url--visual-features-none--details-none--language--en---description-exclude-none--model-version--latest---custom-headers-none--raw-false----operation-config-). "
   ]
  },
  {
   "cell_type": "code",
   "execution_count": null,
   "id": "15a198b6",
   "metadata": {},
   "outputs": [],
   "source": [
    "def visualizar_tags(analise):\n",
    "    for tag in analise.tags:\n",
    "        print(tag)"
   ]
  },
  {
   "cell_type": "code",
   "execution_count": null,
   "id": "e5a5e1ef",
   "metadata": {},
   "outputs": [],
   "source": [
    "visualizar_tags(analise)"
   ]
  },
  {
   "cell_type": "markdown",
   "id": "bc3a1705",
   "metadata": {},
   "source": [
    "Analisando abaixo com uma imagem da Ivete Sangalo porque a Tatá Wernek não é tão famosa assim."
   ]
  },
  {
   "cell_type": "code",
   "execution_count": null,
   "id": "cc9ca9fe",
   "metadata": {},
   "outputs": [],
   "source": [
    "analise = client.analyze_image_by_domain('celebrities', 'https://pbs.twimg.com/media/FBXz1ciWQAIxuK3.jpg')"
   ]
  },
  {
   "cell_type": "code",
   "execution_count": null,
   "id": "719bbc48",
   "metadata": {},
   "outputs": [],
   "source": [
    "\", \".join([celeb['name'] for celeb in analise.result['celebrities']])"
   ]
  },
  {
   "cell_type": "code",
   "execution_count": null,
   "id": "7eab55d5",
   "metadata": {},
   "outputs": [],
   "source": [
    "for c in analise.result['celebrities']:\n",
    "    print(c['name'])"
   ]
  },
  {
   "cell_type": "markdown",
   "id": "b67db67f",
   "metadata": {},
   "source": [
    "Voltando para a Tatá.."
   ]
  },
  {
   "cell_type": "code",
   "execution_count": null,
   "id": "997b1ffe",
   "metadata": {},
   "outputs": [],
   "source": [
    "analise = client.describe_image(url_imagem, 3, 'en')"
   ]
  },
  {
   "cell_type": "code",
   "execution_count": null,
   "id": "d2996d13",
   "metadata": {},
   "outputs": [],
   "source": [
    "for desc in analise.captions:\n",
    "    print(desc)"
   ]
  },
  {
   "cell_type": "markdown",
   "id": "f1d1abaa",
   "metadata": {},
   "source": [
    "E a Ivete?"
   ]
  },
  {
   "cell_type": "code",
   "execution_count": null,
   "id": "d8d84dfe",
   "metadata": {},
   "outputs": [],
   "source": [
    "analise = client.describe_image('https://pbs.twimg.com/media/FBXz1ciWQAIxuK3.jpg', 3, 'en')\n",
    "for desc in analise.captions:\n",
    "    print(desc)"
   ]
  },
  {
   "cell_type": "code",
   "execution_count": null,
   "id": "06d431b0",
   "metadata": {},
   "outputs": [],
   "source": [
    "analise.captions[0].text"
   ]
  },
  {
   "cell_type": "markdown",
   "id": "454f5236",
   "metadata": {},
   "source": [
    "Para referência, foto da Ivete utilizada: ![](https://pbs.twimg.com/media/FBXz1ciWQAIxuK3.jpg)"
   ]
  },
  {
   "cell_type": "code",
   "execution_count": null,
   "id": "3948ac78",
   "metadata": {},
   "outputs": [],
   "source": [
    "analise = client.analyze_image(url_imagem, visual_features=[VisualFeatureTypes.faces])\n",
    "for face in analise.faces:\n",
    "    print(face)"
   ]
  },
  {
   "cell_type": "markdown",
   "id": "28316c5b",
   "metadata": {},
   "source": [
    "## Twitter Streaming + Azure Computer Vision API"
   ]
  },
  {
   "cell_type": "code",
   "execution_count": null,
   "id": "8be5c027",
   "metadata": {},
   "outputs": [],
   "source": [
    "class ImageListener(tw.Stream):\n",
    "    def on_status(self, status):\n",
    "        if('media' in status.entities):\n",
    "            print(f'Usuário: {status.user.name}')\n",
    "            print(f'Localização: {status.user.location}')    \n",
    "            print(f'Tweet: {status.text}')\n",
    "            \n",
    "            url = status.entities['media'][0]['media_url']\n",
    "            print(f'URL: {url}')\n",
    "            \n",
    "            description = client.describe_image(url, 1, 'en')\n",
    "            print(f'Caption: {description.captions[0].text}')\n",
    "            \n",
    "            analise_celebridades = client.analyze_image_by_domain('celebrities', url)\n",
    "            celebridades = \", \".join([celeb['name'] for celeb in analise_celebridades.result['celebrities']])\n",
    "            print(f'Celebridades: {celebridades}')\n",
    "            \n",
    "            print('\\n')\n",
    "            print(\"*\" * 100)\n",
    "            print('\\n')"
   ]
  },
  {
   "cell_type": "code",
   "execution_count": null,
   "id": "b025b1ca",
   "metadata": {},
   "outputs": [],
   "source": [
    "imagemStream = ImageListener(\n",
    "    appsettings.consumer_key,\n",
    "    appsettings.consumer_secret, \n",
    "    appsettings.access_token,\n",
    "    appsettings.access_token_secret)"
   ]
  },
  {
   "cell_type": "code",
   "execution_count": null,
   "id": "3266dae5",
   "metadata": {},
   "outputs": [],
   "source": [
    "imagemStream.filter(track=famosos, languages=['pt', 'en'], threaded=True)\n",
    "time.sleep(120)\n",
    "imagemStream.disconnect()"
   ]
  },
  {
   "cell_type": "markdown",
   "id": "15fdef1d",
   "metadata": {},
   "source": [
    "# Imagem Daniel"
   ]
  },
  {
   "cell_type": "code",
   "execution_count": null,
   "id": "022db03a",
   "metadata": {},
   "outputs": [],
   "source": []
  }
 ],
 "metadata": {
  "interpreter": {
   "hash": "5d8406cfaedcdf0eaa4a44a61b5b4d06f47db5698936240ac59b59333d280fd9"
  },
  "kernelspec": {
   "display_name": "Python 3",
   "language": "python",
   "name": "python3"
  },
  "language_info": {
   "codemirror_mode": {
    "name": "ipython",
    "version": 3
   },
   "file_extension": ".py",
   "mimetype": "text/x-python",
   "name": "python",
   "nbconvert_exporter": "python",
   "pygments_lexer": "ipython3",
   "version": "3.8.8"
  }
 },
 "nbformat": 4,
 "nbformat_minor": 5
}
