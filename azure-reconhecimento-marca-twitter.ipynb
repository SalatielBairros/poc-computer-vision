{
 "cells": [
  {
   "cell_type": "markdown",
   "metadata": {},
   "source": [
    "# Reconhecimento de marcas em imagens do twitter utilizando Azure"
   ]
  },
  {
   "cell_type": "markdown",
   "id": "1a46e7e8",
   "metadata": {},
   "source": [
    "## Configurando o ambiente"
   ]
  },
  {
   "cell_type": "code",
   "execution_count": 1,
   "metadata": {},
   "outputs": [
    {
     "name": "stdout",
     "output_type": "stream",
     "text": [
      "Requirement already satisfied: tweepy in c:\\programdata\\anaconda3\\lib\\site-packages (4.1.0)\n",
      "Requirement already satisfied: requests<3,>=2.11.1 in c:\\programdata\\anaconda3\\lib\\site-packages (from tweepy) (2.25.1)\n",
      "Requirement already satisfied: requests-oauthlib<2,>=1.0.0 in c:\\programdata\\anaconda3\\lib\\site-packages (from tweepy) (1.3.0)\n",
      "Requirement already satisfied: idna<3,>=2.5 in c:\\programdata\\anaconda3\\lib\\site-packages (from requests<3,>=2.11.1->tweepy) (2.10)\n",
      "Requirement already satisfied: certifi>=2017.4.17 in c:\\programdata\\anaconda3\\lib\\site-packages (from requests<3,>=2.11.1->tweepy) (2020.12.5)\n",
      "Requirement already satisfied: chardet<5,>=3.0.2 in c:\\programdata\\anaconda3\\lib\\site-packages (from requests<3,>=2.11.1->tweepy) (4.0.0)\n",
      "Requirement already satisfied: urllib3<1.27,>=1.21.1 in c:\\programdata\\anaconda3\\lib\\site-packages (from requests<3,>=2.11.1->tweepy) (1.26.4)\n",
      "Requirement already satisfied: oauthlib>=3.0.0 in c:\\programdata\\anaconda3\\lib\\site-packages (from requests-oauthlib<2,>=1.0.0->tweepy) (3.1.1)\n"
     ]
    },
    {
     "name": "stderr",
     "output_type": "stream",
     "text": [
      "WARNING: Ignoring invalid distribution -portlib-metadata (c:\\programdata\\anaconda3\\lib\\site-packages)\n",
      "WARNING: Ignoring invalid distribution -mportlib-metadata (c:\\programdata\\anaconda3\\lib\\site-packages)\n",
      "WARNING: Ignoring invalid distribution -ltk (c:\\programdata\\anaconda3\\lib\\site-packages)\n",
      "WARNING: Ignoring invalid distribution - (c:\\programdata\\anaconda3\\lib\\site-packages)\n",
      "WARNING: Ignoring invalid distribution -portlib-metadata (c:\\programdata\\anaconda3\\lib\\site-packages)\n",
      "WARNING: Ignoring invalid distribution -mportlib-metadata (c:\\programdata\\anaconda3\\lib\\site-packages)\n",
      "WARNING: Ignoring invalid distribution -ltk (c:\\programdata\\anaconda3\\lib\\site-packages)\n",
      "WARNING: Ignoring invalid distribution - (c:\\programdata\\anaconda3\\lib\\site-packages)\n",
      "WARNING: You are using pip version 21.3; however, version 21.3.1 is available.\n",
      "You should consider upgrading via the 'C:\\ProgramData\\Anaconda3\\python.exe -m pip install --upgrade pip' command.\n"
     ]
    },
    {
     "name": "stdout",
     "output_type": "stream",
     "text": [
      "Requirement already satisfied: azure-cognitiveservices-vision-computervision in c:\\programdata\\anaconda3\\lib\\site-packages (0.9.0)\n",
      "Requirement already satisfied: azure-common~=1.1 in c:\\programdata\\anaconda3\\lib\\site-packages (from azure-cognitiveservices-vision-computervision) (1.1.27)\n",
      "Requirement already satisfied: msrest>=0.5.0 in c:\\programdata\\anaconda3\\lib\\site-packages (from azure-cognitiveservices-vision-computervision) (0.6.21)\n",
      "Requirement already satisfied: certifi>=2017.4.17 in c:\\programdata\\anaconda3\\lib\\site-packages (from msrest>=0.5.0->azure-cognitiveservices-vision-computervision) (2020.12.5)\n",
      "Requirement already satisfied: isodate>=0.6.0 in c:\\programdata\\anaconda3\\lib\\site-packages (from msrest>=0.5.0->azure-cognitiveservices-vision-computervision) (0.6.0)\n",
      "Requirement already satisfied: requests~=2.16 in c:\\programdata\\anaconda3\\lib\\site-packages (from msrest>=0.5.0->azure-cognitiveservices-vision-computervision) (2.25.1)\n",
      "Requirement already satisfied: requests-oauthlib>=0.5.0 in c:\\programdata\\anaconda3\\lib\\site-packages (from msrest>=0.5.0->azure-cognitiveservices-vision-computervision) (1.3.0)\n",
      "Requirement already satisfied: six in c:\\programdata\\anaconda3\\lib\\site-packages (from isodate>=0.6.0->msrest>=0.5.0->azure-cognitiveservices-vision-computervision) (1.15.0)\n",
      "Requirement already satisfied: urllib3<1.27,>=1.21.1 in c:\\programdata\\anaconda3\\lib\\site-packages (from requests~=2.16->msrest>=0.5.0->azure-cognitiveservices-vision-computervision) (1.26.4)\n",
      "Requirement already satisfied: chardet<5,>=3.0.2 in c:\\programdata\\anaconda3\\lib\\site-packages (from requests~=2.16->msrest>=0.5.0->azure-cognitiveservices-vision-computervision) (4.0.0)\n",
      "Requirement already satisfied: idna<3,>=2.5 in c:\\programdata\\anaconda3\\lib\\site-packages (from requests~=2.16->msrest>=0.5.0->azure-cognitiveservices-vision-computervision) (2.10)\n",
      "Requirement already satisfied: oauthlib>=3.0.0 in c:\\programdata\\anaconda3\\lib\\site-packages (from requests-oauthlib>=0.5.0->msrest>=0.5.0->azure-cognitiveservices-vision-computervision) (3.1.1)\n"
     ]
    },
    {
     "name": "stderr",
     "output_type": "stream",
     "text": [
      "WARNING: Ignoring invalid distribution -portlib-metadata (c:\\programdata\\anaconda3\\lib\\site-packages)\n",
      "WARNING: Ignoring invalid distribution -mportlib-metadata (c:\\programdata\\anaconda3\\lib\\site-packages)\n",
      "WARNING: Ignoring invalid distribution -ltk (c:\\programdata\\anaconda3\\lib\\site-packages)\n",
      "WARNING: Ignoring invalid distribution - (c:\\programdata\\anaconda3\\lib\\site-packages)\n",
      "WARNING: Ignoring invalid distribution -portlib-metadata (c:\\programdata\\anaconda3\\lib\\site-packages)\n",
      "WARNING: Ignoring invalid distribution -mportlib-metadata (c:\\programdata\\anaconda3\\lib\\site-packages)\n",
      "WARNING: Ignoring invalid distribution -ltk (c:\\programdata\\anaconda3\\lib\\site-packages)\n",
      "WARNING: Ignoring invalid distribution - (c:\\programdata\\anaconda3\\lib\\site-packages)\n",
      "WARNING: You are using pip version 21.3; however, version 21.3.1 is available.\n",
      "You should consider upgrading via the 'C:\\ProgramData\\Anaconda3\\python.exe -m pip install --upgrade pip' command.\n"
     ]
    },
    {
     "name": "stdout",
     "output_type": "stream",
     "text": [
      "Requirement already satisfied: pillow in c:\\programdata\\anaconda3\\lib\\site-packages (8.2.0)\n"
     ]
    },
    {
     "name": "stderr",
     "output_type": "stream",
     "text": [
      "WARNING: Ignoring invalid distribution -portlib-metadata (c:\\programdata\\anaconda3\\lib\\site-packages)\n",
      "WARNING: Ignoring invalid distribution -mportlib-metadata (c:\\programdata\\anaconda3\\lib\\site-packages)\n",
      "WARNING: Ignoring invalid distribution -ltk (c:\\programdata\\anaconda3\\lib\\site-packages)\n",
      "WARNING: Ignoring invalid distribution - (c:\\programdata\\anaconda3\\lib\\site-packages)\n",
      "WARNING: Ignoring invalid distribution -portlib-metadata (c:\\programdata\\anaconda3\\lib\\site-packages)\n",
      "WARNING: Ignoring invalid distribution -mportlib-metadata (c:\\programdata\\anaconda3\\lib\\site-packages)\n",
      "WARNING: Ignoring invalid distribution -ltk (c:\\programdata\\anaconda3\\lib\\site-packages)\n",
      "WARNING: Ignoring invalid distribution - (c:\\programdata\\anaconda3\\lib\\site-packages)\n",
      "WARNING: You are using pip version 21.3; however, version 21.3.1 is available.\n",
      "You should consider upgrading via the 'C:\\ProgramData\\Anaconda3\\python.exe -m pip install --upgrade pip' command.\n"
     ]
    }
   ],
   "source": [
    "!pip install tweepy\n",
    "!pip install --upgrade azure-cognitiveservices-vision-computervision\n",
    "!pip install pillow"
   ]
  },
  {
   "cell_type": "code",
   "execution_count": 49,
   "metadata": {},
   "outputs": [],
   "source": [
    "import tweepy as tw\n",
    "import json\n",
    "from types import SimpleNamespace\n",
    "import time\n",
    "from azure.cognitiveservices.vision.computervision import ComputerVisionClient \n",
    "from msrest.authentication import CognitiveServicesCredentials\n",
    "from azure.cognitiveservices.vision.computervision.models import VisualFeatureTypes, Details\n",
    "from IPython.display import Image"
   ]
  },
  {
   "cell_type": "code",
   "execution_count": 4,
   "metadata": {},
   "outputs": [],
   "source": [
    "appsettings = {}\n",
    "\n",
    "with open('appsettings.json') as f:\n",
    "    appsettings = json.loads(f.read(), object_hook=lambda d: SimpleNamespace(**d))"
   ]
  },
  {
   "cell_type": "code",
   "execution_count": 5,
   "metadata": {},
   "outputs": [],
   "source": [
    "auth = tw.OAuthHandler(appsettings.consumer_key, appsettings.consumer_secret)\n",
    "auth.set_access_token(appsettings.access_token, appsettings.access_token_secret)"
   ]
  },
  {
   "cell_type": "code",
   "execution_count": 6,
   "metadata": {},
   "outputs": [
    {
     "data": {
      "text/plain": [
       "{'created_at': 'Thu Dec 09 11:29:19 +0000 2021',\n",
       " 'id': 1468905595470327809,\n",
       " 'id_str': '1468905595470327809',\n",
       " 'text': 'Esse outro tweet foi feito através de um bot.',\n",
       " 'truncated': False,\n",
       " 'entities': {'hashtags': [], 'symbols': [], 'user_mentions': [], 'urls': []},\n",
       " 'source': '<a href=\"https://github.com/SalatielBairros\" rel=\"nofollow\">PucDataRecovery</a>',\n",
       " 'in_reply_to_status_id': None,\n",
       " 'in_reply_to_status_id_str': None,\n",
       " 'in_reply_to_user_id': None,\n",
       " 'in_reply_to_user_id_str': None,\n",
       " 'in_reply_to_screen_name': None,\n",
       " 'user': {'id': 106542286,\n",
       "  'id_str': '106542286',\n",
       "  'name': 'Salatiel Bairros',\n",
       "  'screen_name': 'SalatielB',\n",
       "  'location': 'Porto Alegre, RS',\n",
       "  'description': 'Cristão, marido, pai, desenvolvedor de software e apaixonado por teologia. Pós-graduando em Inteligência Artificial e Aprendizado de Máquina pela PUC-MG.',\n",
       "  'url': 'https://t.co/lTLEmGx31v',\n",
       "  'entities': {'url': {'urls': [{'url': 'https://t.co/lTLEmGx31v',\n",
       "      'expanded_url': 'https://medium.com/salatiel-bairros/',\n",
       "      'display_url': 'medium.com/salatiel-bairr…',\n",
       "      'indices': [0, 23]}]},\n",
       "   'description': {'urls': []}},\n",
       "  'protected': False,\n",
       "  'followers_count': 83,\n",
       "  'friends_count': 147,\n",
       "  'listed_count': 2,\n",
       "  'created_at': 'Tue Jan 19 22:21:18 +0000 2010',\n",
       "  'favourites_count': 12909,\n",
       "  'utc_offset': None,\n",
       "  'time_zone': None,\n",
       "  'geo_enabled': True,\n",
       "  'verified': False,\n",
       "  'statuses_count': 17314,\n",
       "  'lang': None,\n",
       "  'contributors_enabled': False,\n",
       "  'is_translator': False,\n",
       "  'is_translation_enabled': False,\n",
       "  'profile_background_color': '131516',\n",
       "  'profile_background_image_url': 'http://abs.twimg.com/images/themes/theme14/bg.gif',\n",
       "  'profile_background_image_url_https': 'https://abs.twimg.com/images/themes/theme14/bg.gif',\n",
       "  'profile_background_tile': True,\n",
       "  'profile_image_url': 'http://pbs.twimg.com/profile_images/1100152002724663296/qlBmvOf4_normal.png',\n",
       "  'profile_image_url_https': 'https://pbs.twimg.com/profile_images/1100152002724663296/qlBmvOf4_normal.png',\n",
       "  'profile_banner_url': 'https://pbs.twimg.com/profile_banners/106542286/1551131725',\n",
       "  'profile_link_color': 'E81C4F',\n",
       "  'profile_sidebar_border_color': 'EEEEEE',\n",
       "  'profile_sidebar_fill_color': 'EFEFEF',\n",
       "  'profile_text_color': '333333',\n",
       "  'profile_use_background_image': True,\n",
       "  'has_extended_profile': True,\n",
       "  'default_profile': False,\n",
       "  'default_profile_image': False,\n",
       "  'following': False,\n",
       "  'follow_request_sent': False,\n",
       "  'notifications': False,\n",
       "  'translator_type': 'none',\n",
       "  'withheld_in_countries': []},\n",
       " 'geo': None,\n",
       " 'coordinates': None,\n",
       " 'place': None,\n",
       " 'contributors': None,\n",
       " 'is_quote_status': False,\n",
       " 'retweet_count': 0,\n",
       " 'favorite_count': 0,\n",
       " 'favorited': False,\n",
       " 'retweeted': False,\n",
       " 'lang': 'pt'}"
      ]
     },
     "execution_count": 6,
     "metadata": {},
     "output_type": "execute_result"
    }
   ],
   "source": [
    "api = tw.API(auth)\n",
    "tweet = api.update_status(\"Esse outro tweet foi feito através de um bot.\")\n",
    "tweet._json"
   ]
  },
  {
   "cell_type": "code",
   "execution_count": 8,
   "metadata": {},
   "outputs": [
    {
     "name": "stdout",
     "output_type": "stream",
     "text": [
      "3.2\n"
     ]
    }
   ],
   "source": [
    "credentials = CognitiveServicesCredentials(appsettings.azure_key)\n",
    "client = ComputerVisionClient(appsettings.azure_endpoint, credentials)\n",
    "print(client.api_version)"
   ]
  },
  {
   "cell_type": "code",
   "execution_count": 50,
   "metadata": {},
   "outputs": [
    {
     "data": {
      "image/jpeg": "[encoded data removed]",
      "text/plain": [
       "<IPython.core.display.Image object>"
      ]
     },
     "execution_count": 50,
     "metadata": {},
     "output_type": "execute_result"
    }
   ],
   "source": [
    "url_itau_nubank = 'https://braziljournal.s3.amazonaws.com/covers/d2bd16e4-0382-05d8-985f-a340a0715cab.jpg'\n",
    "Image(url_itau_nubank)"
   ]
  },
  {
   "cell_type": "code",
   "execution_count": 51,
   "metadata": {},
   "outputs": [
    {
     "data": {
      "text/plain": [
       "[{'name': 'Itau Unibanco',\n",
       "  'confidence': 0.647,\n",
       "  'rectangle': <azure.cognitiveservices.vision.computervision.models._models_py3.BoundingRect at 0x24328964df0>}]"
      ]
     },
     "execution_count": 51,
     "metadata": {},
     "output_type": "execute_result"
    }
   ],
   "source": [
    "\n",
    "analise_in = client.analyze_image(url_itau_nubank, visual_features=[VisualFeatureTypes.brands])\n",
    "\n",
    "def get_brands_string(analise):\n",
    "    brands = []\n",
    "    for brand in analise.brands:\n",
    "        brands.append({\n",
    "            'name': brand.name,\n",
    "            'confidence': brand.confidence,\n",
    "            'rectangle': brand.rectangle\n",
    "        })\n",
    "    return brands\n",
    "\n",
    "get_brands_string(analise_in)"
   ]
  },
  {
   "cell_type": "markdown",
   "metadata": {},
   "source": [
    "Reconheceu apenas o Itaú. Ou seja, várias marcas podem não estar presentes no modelo padrão do Azure."
   ]
  },
  {
   "cell_type": "code",
   "execution_count": 87,
   "metadata": {},
   "outputs": [],
   "source": [
    "marcas = ['americanas','boticario', 'magazineluiza','CocaCola','McDonalds','Subway','iFood', 'magalu',\n",
    "'xiaomi','intel','dell','submarino','Saraiva','familiaextra','itau',\n",
    "'rexona','seda','loreal','garnier', 'chocolate', 'lg', 'Garoto','cacaushow','Lacta','fanta',\n",
    "'guarana', 'Ambev', 'cerbeja', 'pepsi', 'subway', 'coca-cola', 'coca', 'Samsung', 'xiaomi']"
   ]
  },
  {
   "cell_type": "code",
   "execution_count": 89,
   "metadata": {},
   "outputs": [],
   "source": [
    "medias = []\n",
    "\n",
    "class ImageListener(tw.Stream):\n",
    "    def on_status(self, status):\n",
    "        if('media' in status.entities):\n",
    "            url = status.entities['media'][0]['media_url']\n",
    "            if(url not in medias):\n",
    "                medias.append(url)\n",
    "                analise = client.analyze_image(url, visual_features=[VisualFeatureTypes.brands])\n",
    "                brands = get_brands_string(analise)\n",
    "                if(len(brands) > 0):\n",
    "                    print(f'Usuário: {status.user.name}')\n",
    "                    print(f'Localização: {status.user.location}')    \n",
    "                    print(f'Tweet: {status.text}')\n",
    "                    print(f'URL: {url}')\n",
    "                    \n",
    "                    description = client.describe_image(url, 1, 'en')\n",
    "                    print(f'Caption: {description.captions[0].text}')\n",
    "                    print(f'Marcas: {brands}')\n",
    "                    \n",
    "                    print('\\n')\n",
    "                    print(\"*\" * 100)\n",
    "                    print('\\n')"
   ]
  },
  {
   "cell_type": "code",
   "execution_count": 90,
   "metadata": {},
   "outputs": [],
   "source": [
    "imagemStream = ImageListener(\n",
    "    appsettings.consumer_key,\n",
    "    appsettings.consumer_secret, \n",
    "    appsettings.access_token,\n",
    "    appsettings.access_token_secret)"
   ]
  },
  {
   "cell_type": "markdown",
   "metadata": {},
   "source": [
    "Documentação `tw.Stream.filter` [aqui](https://docs.tweepy.org/en/stable/stream.html#tweepy.Stream.filter).\n",
    "\n",
    "Documentação do `Standard twitter stream API` [aqui](https://developer.twitter.com/en/docs/twitter-api/v1/tweets/filter-realtime/guides/basic-stream-parameters)."
   ]
  },
  {
   "cell_type": "code",
   "execution_count": 93,
   "metadata": {},
   "outputs": [],
   "source": [
    "def run_stream(timeout=240):\n",
    "    global medias\n",
    "    medias = []\n",
    "    try:\n",
    "        imagemStream.filter(track=marcas, languages=['pt'], threaded=True)    \n",
    "        time.sleep(timeout)\n",
    "    except tw.errors.TweepyException as err:\n",
    "        print(err)\n",
    "    finally:\n",
    "        imagemStream.disconnect()"
   ]
  },
  {
   "cell_type": "code",
   "execution_count": 95,
   "metadata": {},
   "outputs": [
    {
     "name": "stderr",
     "output_type": "stream",
     "text": [
      "Stream encountered HTTP error: 406\n"
     ]
    },
    {
     "name": "stdout",
     "output_type": "stream",
     "text": [
      "Usuário: Laes Azeredo\n",
      "Localização: Rio de Janeiro \n",
      "Tweet: RT @schincariolgabi: qual o melhor refrigerante do mundo e pq é pepsi? https://t.co/kvBgn1JWBo\n",
      "URL: http://pbs.twimg.com/media/FGDQNhaWYAMKpZR.jpg\n",
      "Caption: a group of cans on a counter\n",
      "Marcas: [{'name': 'Pepsi', 'confidence': 0.769, 'rectangle': <azure.cognitiveservices.vision.computervision.models._models_py3.BoundingRect object at 0x0000024328964BE0>}]\n",
      "\n",
      "\n",
      "****************************************************************************************************\n",
      "\n",
      "\n"
     ]
    },
    {
     "name": "stderr",
     "output_type": "stream",
     "text": [
      "Stream connection closed by Twitter\n",
      "Stream encountered HTTP error: 406\n"
     ]
    },
    {
     "name": "stdout",
     "output_type": "stream",
     "text": [
      "Usuário: aghata៹\n",
      "Localização: w madelyn cline \n",
      "Tweet: o submarino querendo fazer eu gastar o dinheiro que eu nem tenho https://t.co/kCuzRzXc11\n",
      "URL: http://pbs.twimg.com/media/FGLRDwkVQAgw1WO.jpg\n",
      "Caption: text\n",
      "Marcas: [{'name': 'Twitter', 'confidence': 0.68, 'rectangle': <azure.cognitiveservices.vision.computervision.models._models_py3.BoundingRect object at 0x0000024328964FD0>}]\n",
      "\n",
      "\n",
      "****************************************************************************************************\n",
      "\n",
      "\n"
     ]
    },
    {
     "name": "stderr",
     "output_type": "stream",
     "text": [
      "Stream encountered HTTP error: 406\n",
      "Stream encountered HTTP error: 406\n",
      "Stream connection has errored or timed out\n",
      "Stream encountered HTTP error: 406\n",
      "Stream encountered HTTP error: 406\n",
      "Stream connection has errored or timed out\n"
     ]
    },
    {
     "name": "stdout",
     "output_type": "stream",
     "text": [
      "Usuário: Fi da Disgraça\n",
      "Localização: Bahia/São Paulo\n",
      "Tweet: Tudo no precinho no Ifood aqui em Salvador https://t.co/UQsNANJwVS\n",
      "URL: http://pbs.twimg.com/media/FGLZg3JXsAgkaW4.jpg\n",
      "Caption: graphical user interface, text, application\n",
      "Marcas: [{'name': \"Macy's\", 'confidence': 0.636, 'rectangle': <azure.cognitiveservices.vision.computervision.models._models_py3.BoundingRect object at 0x0000024328964250>}]\n",
      "\n",
      "\n",
      "****************************************************************************************************\n",
      "\n",
      "\n"
     ]
    },
    {
     "name": "stderr",
     "output_type": "stream",
     "text": [
      "Stream encountered HTTP error: 406\n",
      "Stream encountered HTTP error: 406\n"
     ]
    },
    {
     "name": "stdout",
     "output_type": "stream",
     "text": [
      "Usuário: fefe\n",
      "Localização: 📖: ddm\n",
      "Tweet: vocês preferem comprar livro na submarino ou na amazon?? https://t.co/MiNzD4yUYG\n",
      "URL: http://pbs.twimg.com/media/FGLbyAoWUAoQnro.jpg\n",
      "Caption: icon\n",
      "Marcas: [{'name': 'Apple', 'confidence': 0.676, 'rectangle': <azure.cognitiveservices.vision.computervision.models._models_py3.BoundingRect object at 0x00000243289CAB20>}]\n",
      "\n",
      "\n",
      "****************************************************************************************************\n",
      "\n",
      "\n",
      "Usuário: kyle Reese\n",
      "Localização: The Sunset Strip\n",
      "Tweet: O maior sonho da minha vida era tomar uma coca de 1L em praça de alimentação de shopping…hoje realizei https://t.co/1tFfJ29TrR\n",
      "URL: http://pbs.twimg.com/media/FGLcQJgXEAIYpef.jpg\n",
      "Caption: a bottle of soda and a plate of food on a counter\n",
      "Marcas: [{'name': 'Coca-Cola', 'confidence': 0.907, 'rectangle': <azure.cognitiveservices.vision.computervision.models._models_py3.BoundingRect object at 0x0000024328964400>}]\n",
      "\n",
      "\n",
      "****************************************************************************************************\n",
      "\n",
      "\n"
     ]
    },
    {
     "name": "stderr",
     "output_type": "stream",
     "text": [
      "Stream encountered HTTP error: 406\n",
      "Stream encountered an exception\n",
      "Traceback (most recent call last):\n",
      "  File \"C:\\ProgramData\\Anaconda3\\lib\\site-packages\\tweepy\\streaming.py\", line 133, in _connect\n",
      "    self.on_data(line)\n",
      "  File \"C:\\ProgramData\\Anaconda3\\lib\\site-packages\\tweepy\\streaming.py\", line 387, in on_data\n",
      "    return self.on_status(status)\n",
      "  File \"<ipython-input-62-c294e4179226>\", line 9, in on_status\n",
      "    analise = client.analyze_image(url, visual_features=[VisualFeatureTypes.brands])\n",
      "  File \"C:\\ProgramData\\Anaconda3\\lib\\site-packages\\azure\\cognitiveservices\\vision\\computervision\\operations\\_computer_vision_client_operations.py\", line 122, in analyze_image\n",
      "    raise models.ComputerVisionErrorResponseException(self._deserialize, response)\n",
      "azure.cognitiveservices.vision.computervision.models._models_py3.ComputerVisionErrorResponseException: (InvalidRequest) Image URL is not accessible.\n",
      "Stream encountered HTTP error: 406\n",
      "Stream encountered HTTP error: 406\n",
      "Stream encountered HTTP error: 406\n",
      "Stream encountered HTTP error: 406\n",
      "Stream encountered HTTP error: 406\n",
      "Stream encountered HTTP error: 406\n"
     ]
    }
   ],
   "source": [
    "run_stream(timeout=240)"
   ]
  },
  {
   "cell_type": "markdown",
   "metadata": {},
   "source": [
    "### Exemplos de imagens que foram reconhecidas:\n",
    "\n",
    "[![](https://pbs.twimg.com/media/FGDQNhaWYAMKpZR?format=jpg&name=900x900)](https://twitter.com/schincariolgabi/status/1468402429469282305)\n",
    "[![](https://pbs.twimg.com/media/FGFQ78AXoAMgwN2?format=jpg&name=small)](https://twitter.com/camisasdogalo/status/1468543952546631681)\n",
    "\n"
   ]
  }
 ],
 "metadata": {
  "interpreter": {
   "hash": "b3ba2566441a7c06988d0923437866b63cedc61552a5af99d1f4fb67d367b25f"
  },
  "kernelspec": {
   "display_name": "Python 3.8.8 64-bit ('base': conda)",
   "language": "python",
   "name": "python3"
  },
  "language_info": {
   "codemirror_mode": {
    "name": "ipython",
    "version": 3
   },
   "file_extension": ".py",
   "mimetype": "text/x-python",
   "name": "python",
   "nbconvert_exporter": "python",
   "pygments_lexer": "ipython3",
   "version": "3.8.8"
  },
  "orig_nbformat": 4
 },
 "nbformat": 4,
 "nbformat_minor": 2
}
